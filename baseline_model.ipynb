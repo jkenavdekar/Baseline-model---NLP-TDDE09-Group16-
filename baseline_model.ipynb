{
  "nbformat": 4,
  "nbformat_minor": 0,
  "metadata": {
    "colab": {
      "name": "baseline_model.ipynb",
      "provenance": []
    },
    "kernelspec": {
      "name": "python3",
      "display_name": "Python 3"
    },
    "accelerator": "GPU"
  },
  "cells": [
    {
      "cell_type": "markdown",
      "metadata": {
        "id": "gRKG_N142SEy"
      },
      "source": [
        "**Baseline Model - Machine translation using Encoder Decoder (seq to seq) with attention mechanism**"
      ]
    },
    {
      "cell_type": "code",
      "metadata": {
        "colab": {
          "base_uri": "https://localhost:8080/"
        },
        "id": "JqSCOJSNbNhv",
        "outputId": "82742772-1b74-489c-fed8-fdb0cd323d94"
      },
      "source": [
        "from google.colab import drive\r\n",
        "drive.mount('/content/drive')"
      ],
      "execution_count": 1,
      "outputs": [
        {
          "output_type": "stream",
          "text": [
            "Mounted at /content/drive\n"
          ],
          "name": "stdout"
        }
      ]
    },
    {
      "cell_type": "code",
      "metadata": {
        "colab": {
          "base_uri": "https://localhost:8080/"
        },
        "id": "RtUSoJ4GbX5t",
        "outputId": "dfccd787-b098-4567-fd40-0cc5ef9d0a4d"
      },
      "source": [
        "%cd /content/drive/My Drive/NLP_Project/"
      ],
      "execution_count": 2,
      "outputs": [
        {
          "output_type": "stream",
          "text": [
            "/content/drive/My Drive/NLP_Project\n"
          ],
          "name": "stdout"
        }
      ]
    },
    {
      "cell_type": "code",
      "metadata": {
        "id": "Ce5dqbtBbfL0"
      },
      "source": [
        "import torch\r\n",
        "import re"
      ],
      "execution_count": 3,
      "outputs": []
    },
    {
      "cell_type": "code",
      "metadata": {
        "colab": {
          "base_uri": "https://localhost:8080/"
        },
        "id": "VwkG-jLtbhJj",
        "outputId": "60e1b12b-5640-49fb-f2a3-9f6e56a795f6"
      },
      "source": [
        "device = torch.device('cuda' if torch.cuda.is_available() else 'cpu')\r\n",
        "device"
      ],
      "execution_count": 4,
      "outputs": [
        {
          "output_type": "execute_result",
          "data": {
            "text/plain": [
              "device(type='cuda')"
            ]
          },
          "metadata": {
            "tags": []
          },
          "execution_count": 4
        }
      ]
    },
    {
      "cell_type": "markdown",
      "metadata": {
        "id": "6vCbbQPkRhAp"
      },
      "source": [
        "**Data preprocessing**"
      ]
    },
    {
      "cell_type": "code",
      "metadata": {
        "colab": {
          "base_uri": "https://localhost:8080/"
        },
        "id": "t6scQ1whbruz",
        "outputId": "b46c7062-5b30-4883-b0c1-4a950dc40a0d"
      },
      "source": [
        "with open('europarl-v7.sv-en.en') as src, open('europarl-v7.sv-en.sv') as tgt:\r\n",
        "  for i, src_sentence, tgt_sentence in zip(range(5), src, tgt):\r\n",
        "    print(f'{i}: {src_sentence.rstrip()} / {tgt_sentence.rstrip()}')"
      ],
      "execution_count": 5,
      "outputs": [
        {
          "output_type": "stream",
          "text": [
            "0: Resumption of the session / Återupptagande av sessionen\n",
            "1: I declare resumed the session of the European Parliament adjourned on Friday 17 December 1999, and I would like once again to wish you a happy new year in the hope that you enjoyed a pleasant festive period. / Jag förklarar Europaparlamentets session återupptagen efter avbrottet den 17 december. Jag vill på nytt önska er ett gott nytt år och jag hoppas att ni haft en trevlig semester.\n",
            "2: Although, as you will have seen, the dreaded 'millennium bug' failed to materialise, still the people in a number of countries suffered a series of natural disasters that truly were dreadful. / Som ni kunnat konstatera ägde \"den stora år 2000-buggen\" aldrig rum. Däremot har invånarna i ett antal av våra medlemsländer drabbats av naturkatastrofer som verkligen varit förskräckliga.\n",
            "3: You have requested a debate on this subject in the course of the next few days, during this part-session. / Ni har begärt en debatt i ämnet under sammanträdesperiodens kommande dagar.\n",
            "4: In the meantime, I should like to observe a minute' s silence, as a number of Members have requested, on behalf of all the victims concerned, particularly those of the terrible storms, in the various countries of the European Union. / Till dess vill jag att vi, som ett antal kolleger begärt, håller en tyst minut för offren för bl.a. stormarna i de länder i Europeiska unionen som drabbats.\n"
          ],
          "name": "stdout"
        }
      ]
    },
    {
      "cell_type": "markdown",
      "metadata": {
        "id": "WQWUbg57Kov-"
      },
      "source": [
        "**Get the first 200000 <english , swedish> sentences pair for the training data**"
      ]
    },
    {
      "cell_type": "code",
      "metadata": {
        "id": "-TJvoZ3WKful"
      },
      "source": [
        "f = open(\"trainX.txt\", \"w+\")\r\n",
        "g = open(\"trainY.txt\", \"w+\")\r\n",
        "total = 0\r\n",
        "with open('europarl-v7.sv-en.en', 'rt', encoding='utf-8') as fp:\r\n",
        "    with open('europarl-v7.sv-en.sv', 'rt', encoding='utf-8') as gp:\r\n",
        "        for line1, line2 in zip(fp, gp):\r\n",
        "            if len(line1) > 1 and len(line2) > 1:\r\n",
        "                f.write(line1)\r\n",
        "                g.write(line2)\r\n",
        "                total += 1\r\n",
        "                if total == 200000:\r\n",
        "                    break"
      ],
      "execution_count": null,
      "outputs": []
    },
    {
      "cell_type": "markdown",
      "metadata": {
        "id": "eN-v9rNENIp5"
      },
      "source": [
        "**Get the next 1000 <english, swedish > sentences pairs as validitaion data**"
      ]
    },
    {
      "cell_type": "code",
      "metadata": {
        "id": "1PVm12LDLEMh"
      },
      "source": [
        "f2 = open(\"validX.txt\", \"w+\")\r\n",
        "g2 = open(\"validY.txt\", \"w+\")\r\n",
        "total = 0\r\n",
        "with open('europarl-v7.sv-en.en', 'rt', encoding='utf-8') as fp:\r\n",
        "    with open('europarl-v7.sv-en.sv', 'rt', encoding='utf-8') as gp:\r\n",
        "        for i, line1, line2 in zip(range(500000), fp, gp):\r\n",
        "            if len(line1) > 1 and len(line2) > 1:\r\n",
        "                if i>=200000:\r\n",
        "                    f2.write(line1)\r\n",
        "                    g2.write(line2)\r\n",
        "                    total += 1\r\n",
        "                    if total == 1000:\r\n",
        "                        break"
      ],
      "execution_count": null,
      "outputs": []
    },
    {
      "cell_type": "markdown",
      "metadata": {
        "id": "rogqWJiVN51a"
      },
      "source": [
        "**Truncate max length of sentences to 20 before yielding it!**"
      ]
    },
    {
      "cell_type": "markdown",
      "metadata": {
        "id": "-K53Q5T7yxf0"
      },
      "source": [
        "**To replicate the results run after this line of code**"
      ]
    },
    {
      "cell_type": "code",
      "metadata": {
        "id": "BuOV834KV9Di"
      },
      "source": [
        "def sentences(filename, max_length=20):\r\n",
        "  with open(filename) as fp:\r\n",
        "    for line in fp:\r\n",
        "      sentence = line.rstrip().split()\r\n",
        "      yield sentence[:max_length]"
      ],
      "execution_count": 45,
      "outputs": []
    },
    {
      "cell_type": "code",
      "metadata": {
        "id": "2yUu3lHdWMjf",
        "colab": {
          "base_uri": "https://localhost:8080/"
        },
        "outputId": "8c6ee697-5d12-49ea-cf1d-50c6f96d6287"
      },
      "source": [
        "s = sentences('trainX.txt')\r\n",
        "for i, sent in enumerate(s):\r\n",
        "  for word in sent:\r\n",
        "    print(word)\r\n",
        "  print('\\n')\r\n",
        "  if i == 3:\r\n",
        "    break"
      ],
      "execution_count": 46,
      "outputs": [
        {
          "output_type": "stream",
          "text": [
            "Resumption\n",
            "of\n",
            "the\n",
            "session\n",
            "\n",
            "\n",
            "I\n",
            "declare\n",
            "resumed\n",
            "the\n",
            "session\n",
            "of\n",
            "the\n",
            "European\n",
            "Parliament\n",
            "adjourned\n",
            "on\n",
            "Friday\n",
            "17\n",
            "December\n",
            "1999,\n",
            "and\n",
            "I\n",
            "would\n",
            "like\n",
            "once\n",
            "\n",
            "\n",
            "Although,\n",
            "as\n",
            "you\n",
            "will\n",
            "have\n",
            "seen,\n",
            "the\n",
            "dreaded\n",
            "'millennium\n",
            "bug'\n",
            "failed\n",
            "to\n",
            "materialise,\n",
            "still\n",
            "the\n",
            "people\n",
            "in\n",
            "a\n",
            "number\n",
            "of\n",
            "\n",
            "\n",
            "You\n",
            "have\n",
            "requested\n",
            "a\n",
            "debate\n",
            "on\n",
            "this\n",
            "subject\n",
            "in\n",
            "the\n",
            "course\n",
            "of\n",
            "the\n",
            "next\n",
            "few\n",
            "days,\n",
            "during\n",
            "this\n",
            "part-session.\n",
            "\n",
            "\n"
          ],
          "name": "stdout"
        }
      ]
    },
    {
      "cell_type": "code",
      "metadata": {
        "id": "tOxWZmgxS639"
      },
      "source": [
        "eng = next(iter(sentences('trainX.txt')))"
      ],
      "execution_count": 47,
      "outputs": []
    },
    {
      "cell_type": "code",
      "metadata": {
        "colab": {
          "base_uri": "https://localhost:8080/"
        },
        "id": "q7NX3YVDEK4-",
        "outputId": "ec2c9eea-80e9-47a1-ab09-af5df8155489"
      },
      "source": [
        "eng"
      ],
      "execution_count": 48,
      "outputs": [
        {
          "output_type": "execute_result",
          "data": {
            "text/plain": [
              "['Resumption', 'of', 'the', 'session']"
            ]
          },
          "metadata": {
            "tags": []
          },
          "execution_count": 48
        }
      ]
    },
    {
      "cell_type": "code",
      "metadata": {
        "id": "-tcHIhFSczlE"
      },
      "source": [
        "from collections import Counter"
      ],
      "execution_count": 49,
      "outputs": []
    },
    {
      "cell_type": "code",
      "metadata": {
        "id": "wDkgRUFAc3uT"
      },
      "source": [
        "PAD = '<pad>'\r\n",
        "BOS = '<bos>'\r\n",
        "EOS = '<eos>'\r\n",
        "UNK = '<unk>'\r\n",
        "\r\n",
        "def make_vocab(sentences, max_size):\r\n",
        "  # TODO: Replace the next line with your own code\r\n",
        "  vocab = {}\r\n",
        "  vocab[PAD] = len(vocab)\r\n",
        "  vocab[BOS] = len(vocab)\r\n",
        "  vocab[EOS] = len(vocab)\r\n",
        "  vocab[UNK] = len(vocab)\r\n",
        "\r\n",
        "  L = []\r\n",
        "  for sent in sentences:\r\n",
        "    for word in sent:\r\n",
        "      L.append(word)\r\n",
        "\r\n",
        "  most_freq = Counter(L).most_common() \r\n",
        "\r\n",
        "  for i in range(max_size-4):\r\n",
        "    vocab[most_freq[i][0]] = len(vocab)\r\n",
        "\r\n",
        "  return vocab\r\n"
      ],
      "execution_count": 50,
      "outputs": []
    },
    {
      "cell_type": "code",
      "metadata": {
        "id": "WH0NF5Xkc7ST"
      },
      "source": [
        "src_vocab = make_vocab(sentences('trainX.txt'), 2**14)\r\n",
        "tgt_vocab = make_vocab(sentences('trainY.txt'), 2**14)"
      ],
      "execution_count": 51,
      "outputs": []
    },
    {
      "cell_type": "code",
      "metadata": {
        "colab": {
          "base_uri": "https://localhost:8080/"
        },
        "id": "-bEJ656mdNXc",
        "outputId": "8b28b63b-5709-41a4-fa00-f95239604dde"
      },
      "source": [
        "print(len(src_vocab), ',', len(tgt_vocab))"
      ],
      "execution_count": 52,
      "outputs": [
        {
          "output_type": "stream",
          "text": [
            "16384 , 16384\n"
          ],
          "name": "stdout"
        }
      ]
    },
    {
      "cell_type": "code",
      "metadata": {
        "id": "_871jEOyjLi_"
      },
      "source": [
        "from torch.utils.data import Dataset\r\n",
        "\r\n",
        "class TranslationDataset(Dataset):\r\n",
        "\r\n",
        "    def __init__(self, src_vocab, src_filename, tgt_vocab, tgt_filename):\r\n",
        "        self.src_vocab = src_vocab\r\n",
        "        self.tgt_vocab = tgt_vocab\r\n",
        "\r\n",
        "        # We hard-wire the codes for <bos> (1), <eos> (2), and <unk> (3).\r\n",
        "        self.src = [[self.src_vocab.get(w, 3) for w in s] for s in sentences(src_filename)]\r\n",
        "        self.tgt = [[self.tgt_vocab.get(w, 3) for w in s] + [2] for s in sentences(tgt_filename)]\r\n",
        "\r\n",
        "    def __getitem__(self, idx):\r\n",
        "        return self.src[idx], self.tgt[idx]\r\n",
        "\r\n",
        "    def __len__(self):\r\n",
        "        return len(self.src)"
      ],
      "execution_count": 53,
      "outputs": []
    },
    {
      "cell_type": "code",
      "metadata": {
        "id": "U89wCFP4jx2g"
      },
      "source": [
        "train_dataset = TranslationDataset(src_vocab, 'trainX.txt', tgt_vocab, 'trainX.txt')"
      ],
      "execution_count": 54,
      "outputs": []
    },
    {
      "cell_type": "code",
      "metadata": {
        "id": "WjH_ptZikCWP"
      },
      "source": [
        "def example(dataset, i):\r\n",
        "    src, tgt = dataset[i]\r\n",
        "    return torch.LongTensor(src).unsqueeze(0), torch.LongTensor(tgt).unsqueeze(0)"
      ],
      "execution_count": 55,
      "outputs": []
    },
    {
      "cell_type": "code",
      "metadata": {
        "id": "zoTu72Q-kGZo",
        "colab": {
          "base_uri": "https://localhost:8080/"
        },
        "outputId": "a7d5121e-a1c1-4f29-ad47-d13368a514ff"
      },
      "source": [
        "example(train_dataset, 0)"
      ],
      "execution_count": 56,
      "outputs": [
        {
          "output_type": "execute_result",
          "data": {
            "text/plain": [
              "(tensor([[6714,    6,    4, 1667]]), tensor([[   3, 3328, 3189, 3165,    2]]))"
            ]
          },
          "metadata": {
            "tags": []
          },
          "execution_count": 56
        }
      ]
    },
    {
      "cell_type": "code",
      "metadata": {
        "colab": {
          "base_uri": "https://localhost:8080/"
        },
        "id": "RAKcLkk1O2td",
        "outputId": "85672d25-3dba-4664-d483-96e738db0e1a"
      },
      "source": [
        "len(train_dataset)"
      ],
      "execution_count": 57,
      "outputs": [
        {
          "output_type": "execute_result",
          "data": {
            "text/plain": [
              "200000"
            ]
          },
          "metadata": {
            "tags": []
          },
          "execution_count": 57
        }
      ]
    },
    {
      "cell_type": "code",
      "metadata": {
        "id": "KtPhTbuOkMLg"
      },
      "source": [
        "import torch.nn as nn\r\n",
        "\r\n",
        "class Encoder(nn.Module):\r\n",
        "\r\n",
        "  def __init__(self, num_words, embedding_dim=256, hidden_dim=512):\r\n",
        "    super().__init__()\r\n",
        "    # TODO: Add your code here\r\n",
        "    self.embedding = nn.Embedding(num_words, embedding_dim)\r\n",
        "    self.rnn = nn.GRU(embedding_dim, hidden_dim, batch_first=True, bidirectional=True)\r\n",
        "    self.fc_hidden = nn.Linear(hidden_dim * 2, hidden_dim)\r\n",
        "\r\n",
        "  def forward(self, src):\r\n",
        "    # TODO: Replace the next line with your own code\r\n",
        "    embedding = self.embedding(src)\r\n",
        "    #print(embedding.shape) # [1, 13, 256]\r\n",
        "\r\n",
        "    outputs, hidden = self.rnn(embedding)\r\n",
        "    #print(hidden.shape) # [2, 1, 512]\r\n",
        "\r\n",
        "    h = self.fc_hidden(torch.cat((hidden[-1], hidden[-2]), dim=1))\r\n",
        "\r\n",
        "    #h = self.fc_hidden(torch.cat((hidden[0:1], hidden[1:2]), dim=2))\r\n",
        "    \r\n",
        "    #h = self.fc_hidden(torch.cat((hidden[0:hidden.size(0):2], hidden[1:hidden.size(0):2]), dim=2))\r\n",
        "\r\n",
        "    return outputs, h"
      ],
      "execution_count": 58,
      "outputs": []
    },
    {
      "cell_type": "code",
      "metadata": {
        "id": "tirMTqMHkPvg"
      },
      "source": [
        "source = example(train_dataset, 1)[0]\r\n",
        "src_mask = (source != 0)"
      ],
      "execution_count": 59,
      "outputs": []
    },
    {
      "cell_type": "code",
      "metadata": {
        "colab": {
          "base_uri": "https://localhost:8080/"
        },
        "id": "uT0MJI_MkSbh",
        "outputId": "1578b5d8-ef59-4c50-ef43-46d3bc0fdf42"
      },
      "source": [
        "enc = Encoder(len(src_vocab))\r\n",
        "out, hid = enc.forward(source)\r\n",
        "print(out.shape, ',', hid.shape)"
      ],
      "execution_count": 60,
      "outputs": [
        {
          "output_type": "stream",
          "text": [
            "torch.Size([1, 20, 1024]) , torch.Size([1, 512])\n"
          ],
          "name": "stdout"
        }
      ]
    },
    {
      "cell_type": "code",
      "metadata": {
        "id": "7IImHvR9kbB3"
      },
      "source": [
        "import torch.nn.functional as F\r\n",
        "\r\n",
        "class BahdanauAttention(nn.Module):\r\n",
        "\r\n",
        "    def __init__(self, hidden_dim=512):\r\n",
        "        super().__init__()\r\n",
        "        # TODO: Add your code here\r\n",
        "        self.key_layer = nn.Linear(2 * hidden_dim, hidden_dim, bias=False)\r\n",
        "        self.query_layer = nn.Linear(hidden_dim, hidden_dim, bias=False)\r\n",
        "        self.energy_layer = nn.Linear(hidden_dim, 1, bias=False)\r\n",
        "\r\n",
        "    def forward(self, decoder_hidden, encoder_output, src_mask):\r\n",
        "        batch_size, src_len, _ = encoder_output.shape\r\n",
        "\r\n",
        "        # TODO: Replace the next line with your own code\r\n",
        "        query = decoder_hidden.unsqueeze(1)\r\n",
        "        #print(query.shape) # [1, 1, 512]\r\n",
        "\r\n",
        "        key = encoder_output\r\n",
        "        #print(key.shape) # [1, 13, 1024]\r\n",
        "\r\n",
        "        #scores = torch.zeros(batch_size, src_len, device=encoder_output.device)\r\n",
        "        #print(scores.shape)\r\n",
        "\r\n",
        "        scores = self.energy_layer(torch.tanh(self.query_layer(query) + self.key_layer(key)))\r\n",
        "        #print(scores.shape)  # [1, 13, 1]\r\n",
        "\r\n",
        "        scores = scores.squeeze(2)\r\n",
        "        #print(scores.shape) # [1, 13]\r\n",
        "\r\n",
        "        \r\n",
        "        # The rest of the code is as in UniformAttention\r\n",
        "\r\n",
        "        # Mask out the attention scores for the padding tokens. We set\r\n",
        "        # them to -inf. After the softmax, we will have 0.\r\n",
        "        scores.data.masked_fill_(~src_mask, -float('inf'))\r\n",
        "        \r\n",
        "\r\n",
        "        # Convert scores into weights\r\n",
        "        alpha = F.softmax(scores, dim=1)\r\n",
        "        #print(alpha.shape)\r\n",
        "\r\n",
        "        # The context vector is the alpha-weighted sum of the encoder outputs.\r\n",
        "        context = torch.bmm(alpha.unsqueeze(1), encoder_output).squeeze(1)\r\n",
        "\r\n",
        "        return context, alpha"
      ],
      "execution_count": 61,
      "outputs": []
    },
    {
      "cell_type": "code",
      "metadata": {
        "id": "KR1fMR6rkfvp"
      },
      "source": [
        "att = BahdanauAttention()\r\n",
        "c, a = att.forward(hid, out, src_mask)"
      ],
      "execution_count": 62,
      "outputs": []
    },
    {
      "cell_type": "code",
      "metadata": {
        "colab": {
          "base_uri": "https://localhost:8080/"
        },
        "id": "vt-lzBZekihn",
        "outputId": "f472ce72-5807-4f69-9949-cd8938eea0c8"
      },
      "source": [
        "print(c.shape, ',', a.shape)"
      ],
      "execution_count": 63,
      "outputs": [
        {
          "output_type": "stream",
          "text": [
            "torch.Size([1, 1024]) , torch.Size([1, 20])\n"
          ],
          "name": "stdout"
        }
      ]
    },
    {
      "cell_type": "code",
      "metadata": {
        "id": "tOyIclNlkmcB"
      },
      "source": [
        "class Decoder(nn.Module):\r\n",
        "\r\n",
        "    def __init__(self, num_words, attention, embedding_dim=256, hidden_dim=512):\r\n",
        "        super().__init__()\r\n",
        "        self.embedding = nn.Embedding(num_words, embedding_dim)\r\n",
        "        self.attention = attention\r\n",
        "        # TODO: Add your own code\r\n",
        "        self.rnn = nn.GRU(embedding_dim + 2 * hidden_dim, hidden_dim, batch_first=True)\r\n",
        "        self.f_output = nn.Linear(hidden_dim + 2*hidden_dim + embedding_dim, num_words)\r\n",
        "\r\n",
        "    def forward(self, encoder_output, hidden, src_mask, tgt):\r\n",
        "        batch_size, tgt_len = tgt.shape\r\n",
        "\r\n",
        "        # Lookup the embeddings for the previous words\r\n",
        "        embedded = self.embedding(tgt)\r\n",
        "\r\n",
        "        # Initialise the list of outputs (in each sentence)\r\n",
        "        outputs = []\r\n",
        "\r\n",
        "        for i in range(tgt_len):\r\n",
        "            # Get the embedding for the previous word (in each sentence)\r\n",
        "            prev_embedded = embedded[:, i]\r\n",
        "\r\n",
        "            # Take one step with the RNN\r\n",
        "            output, hidden, alpha = self.step(encoder_output, hidden, src_mask, prev_embedded)\r\n",
        "\r\n",
        "            # Update the list of outputs (in each sentence)\r\n",
        "            outputs.append(output.unsqueeze(1))\r\n",
        "\r\n",
        "        return torch.cat(outputs, dim=1)\r\n",
        "\r\n",
        "    def decode(self, encoder_output, hidden, src_mask, max_len):\r\n",
        "        batch_size = encoder_output.size(0)\r\n",
        "\r\n",
        "        # Initialise the list of generated words and attention weights (in each sentence)\r\n",
        "        generated = [torch.ones(batch_size, dtype=torch.long, device=hidden.device)]\r\n",
        "        alphas = []\r\n",
        "\r\n",
        "        for i in range(max_len):\r\n",
        "            # Get the embedding for the previous word (in each sentence)\r\n",
        "            prev_embedded = self.embedding(generated[-1])\r\n",
        "\r\n",
        "            # Take one step with the RNN\r\n",
        "            output, hidden, alpha = self.step(encoder_output, hidden, src_mask, prev_embedded)\r\n",
        "\r\n",
        "            # Update the list of generated words and attention weights (in each sentence)\r\n",
        "            generated.append(output.argmax(-1))\r\n",
        "            alphas.append(alpha)\r\n",
        "\r\n",
        "        generated = [x.unsqueeze(1) for x in generated[1:]]\r\n",
        "        alphas = [x.unsqueeze(1) for x in alphas]\r\n",
        "            \r\n",
        "        return torch.cat(generated, dim=1), torch.cat(alphas, dim=1)\r\n",
        "\r\n",
        "    def step(self, encoder_output, hidden, src_mask, prev_embedded):\r\n",
        "        # TODO: Replace the next line with your own code\r\n",
        "\r\n",
        "        context_vec, alphas = self.attention(hidden, encoder_output, src_mask)\r\n",
        "        #print(context_vec.shape, ',', prev_embedded.shape) # [1, 1024] , [1, 256]\r\n",
        "\r\n",
        "        rnn_input = torch.cat((prev_embedded, context_vec), dim=1)\r\n",
        "        #print(rnn_input.shape) # [1, 1280]\r\n",
        "    \r\n",
        "        output, hid = self.rnn(rnn_input.unsqueeze(1), hidden.unsqueeze(0))\r\n",
        "        #print(output.shape, '+', hidden.shape) # [1, 1, 512] , [1, 1, 512]\r\n",
        "\r\n",
        "        pre_output = torch.cat((prev_embedded, output.squeeze(1), context_vec), dim=1)\r\n",
        "        #print(pre_output.shape)  # [1, 1792]\r\n",
        "\r\n",
        "        pred = self.f_output(pre_output)\r\n",
        "        #print(pred.shape, '+', hid.squeeze(0).shape, '+', alphas.shape)  # [1, 10000] , [1, 512] , [1, 13]\r\n",
        "\r\n",
        "        return pred, hid.squeeze(0), alphas"
      ],
      "execution_count": 64,
      "outputs": []
    },
    {
      "cell_type": "code",
      "metadata": {
        "colab": {
          "base_uri": "https://localhost:8080/"
        },
        "id": "w44MUND1kr65",
        "outputId": "33ca5073-7731-42fa-ee80-e814a8b5d476"
      },
      "source": [
        "import sys\r\n",
        "target = example(train_dataset, 1)[1]\r\n",
        "target"
      ],
      "execution_count": 65,
      "outputs": [
        {
          "output_type": "execute_result",
          "data": {
            "text/plain": [
              "tensor([[   43,     3,     3,  3189,  3165,  3328,  3189,  9631,     3,     3,\n",
              "         13872,     3,  1976,     3,  2318,  5261,    43,     3,     3,     3,\n",
              "             2]])"
            ]
          },
          "metadata": {
            "tags": []
          },
          "execution_count": 65
        }
      ]
    },
    {
      "cell_type": "code",
      "metadata": {
        "colab": {
          "base_uri": "https://localhost:8080/"
        },
        "id": "ME-r4u_6kvSR",
        "outputId": "9f11ead1-61ba-424c-a02e-bca9e6f717b6"
      },
      "source": [
        "dec = Decoder(len(tgt_vocab), att)\r\n",
        "dec.forward(out, hid, src_mask, target)"
      ],
      "execution_count": 66,
      "outputs": [
        {
          "output_type": "execute_result",
          "data": {
            "text/plain": [
              "tensor([[[ 0.5960,  0.1343, -0.0103,  ...,  0.0488, -0.1337,  0.0911],\n",
              "         [-0.2894,  0.2555, -0.2994,  ..., -0.4722,  0.0226,  0.0611],\n",
              "         [-0.3208,  0.2408, -0.2947,  ..., -0.4989,  0.0047,  0.0914],\n",
              "         ...,\n",
              "         [-0.3616,  0.2269, -0.3074,  ..., -0.4931, -0.0031,  0.1013],\n",
              "         [-0.3577,  0.2151, -0.2989,  ..., -0.5114, -0.0132,  0.1055],\n",
              "         [ 0.0828,  0.1629,  0.4624,  ..., -0.3276, -0.0742, -0.0223]]],\n",
              "       grad_fn=<CatBackward>)"
            ]
          },
          "metadata": {
            "tags": []
          },
          "execution_count": 66
        }
      ]
    },
    {
      "cell_type": "code",
      "metadata": {
        "id": "YYej3vGzkyrQ"
      },
      "source": [
        "class EncoderDecoder(nn.Module):\r\n",
        "\r\n",
        "    def __init__(self, src_vocab_size, tgt_vocab_size, attention):\r\n",
        "        super().__init__()\r\n",
        "        self.encoder = Encoder(src_vocab_size)\r\n",
        "        self.decoder = Decoder(tgt_vocab_size, attention)\r\n",
        "\r\n",
        "    def forward(self, src, tgt):\r\n",
        "        encoder_output, hidden = self.encoder(src)\r\n",
        "        return self.decoder.forward(encoder_output, hidden, src != 0, tgt)\r\n",
        "\r\n",
        "    def decode(self, src, max_len):\r\n",
        "        encoder_output, hidden = self.encoder(src)\r\n",
        "        return self.decoder.decode(encoder_output, hidden, src != 0, max_len)"
      ],
      "execution_count": 67,
      "outputs": []
    },
    {
      "cell_type": "code",
      "metadata": {
        "colab": {
          "base_uri": "https://localhost:8080/"
        },
        "id": "z7JcrgyTk_Ik",
        "outputId": "b1ef47f8-e583-4a8c-d293-58c78c8533fc"
      },
      "source": [
        "ed = EncoderDecoder(len(src_vocab), len(tgt_vocab), att)\r\n",
        "ed.forward(source, target)"
      ],
      "execution_count": 68,
      "outputs": [
        {
          "output_type": "execute_result",
          "data": {
            "text/plain": [
              "tensor([[[-0.2558, -0.2744,  0.5623,  ..., -0.5561,  0.0736, -0.4526],\n",
              "         [ 0.2086,  0.1849,  0.2977,  ...,  0.4356,  0.3550, -0.0873],\n",
              "         [ 0.2077,  0.2343,  0.2990,  ...,  0.4226,  0.3964, -0.0633],\n",
              "         ...,\n",
              "         [ 0.2101,  0.2236,  0.2612,  ...,  0.4173,  0.4168, -0.0504],\n",
              "         [ 0.2016,  0.2543,  0.2657,  ...,  0.4037,  0.4317, -0.0379],\n",
              "         [ 0.1523,  0.1149, -0.1494,  ...,  0.1221,  0.1785, -0.0928]]],\n",
              "       grad_fn=<CatBackward>)"
            ]
          },
          "metadata": {
            "tags": []
          },
          "execution_count": 68
        }
      ]
    },
    {
      "cell_type": "code",
      "metadata": {
        "colab": {
          "base_uri": "https://localhost:8080/"
        },
        "id": "7hYEfyj8pBsh",
        "outputId": "982428c7-c14b-412a-a68a-39024f8718f1"
      },
      "source": [
        "#encoded = [[self.src_vocab.get(w, 3) for w in s.split()] for s in sentences]\r\n",
        "src_vocab.get('day', 3)"
      ],
      "execution_count": 69,
      "outputs": [
        {
          "output_type": "execute_result",
          "data": {
            "text/plain": [
              "941"
            ]
          },
          "metadata": {
            "tags": []
          },
          "execution_count": 69
        }
      ]
    },
    {
      "cell_type": "code",
      "metadata": {
        "colab": {
          "base_uri": "https://localhost:8080/"
        },
        "id": "USgEeIFUpXMS",
        "outputId": "2d57f668-7d26-4db8-b71a-76b9571f9479"
      },
      "source": [
        "src_vocab"
      ],
      "execution_count": 70,
      "outputs": [
        {
          "output_type": "execute_result",
          "data": {
            "text/plain": [
              "{'<pad>': 0,\n",
              " '<bos>': 1,\n",
              " '<eos>': 2,\n",
              " '<unk>': 3,\n",
              " 'the': 4,\n",
              " 'to': 5,\n",
              " 'of': 6,\n",
              " 'and': 7,\n",
              " 'in': 8,\n",
              " 'is': 9,\n",
              " 'that': 10,\n",
              " 'a': 11,\n",
              " 'I': 12,\n",
              " 'for': 13,\n",
              " 'on': 14,\n",
              " 'this': 15,\n",
              " 'we': 16,\n",
              " 'be': 17,\n",
              " 'are': 18,\n",
              " 'The': 19,\n",
              " 'have': 20,\n",
              " 'not': 21,\n",
              " 'it': 22,\n",
              " 'which': 23,\n",
              " 'Mr': 24,\n",
              " 'as': 25,\n",
              " 'with': 26,\n",
              " 'will': 27,\n",
              " 'has': 28,\n",
              " 'by': 29,\n",
              " 'European': 30,\n",
              " 'We': 31,\n",
              " 'would': 32,\n",
              " 'should': 33,\n",
              " 'must': 34,\n",
              " 'President,': 35,\n",
              " 'also': 36,\n",
              " 'It': 37,\n",
              " 'at': 38,\n",
              " 'Commission': 39,\n",
              " 'an': 40,\n",
              " 'In': 41,\n",
              " 'been': 42,\n",
              " 'from': 43,\n",
              " 'This': 44,\n",
              " 'like': 45,\n",
              " 'all': 46,\n",
              " 'our': 47,\n",
              " 'but': 48,\n",
              " 'was': 49,\n",
              " 'you': 50,\n",
              " 'can': 51,\n",
              " 's': 52,\n",
              " 'there': 53,\n",
              " 'do': 54,\n",
              " '-': 55,\n",
              " 'very': 56,\n",
              " 'these': 57,\n",
              " 'report': 58,\n",
              " 'more': 59,\n",
              " 'my': 60,\n",
              " 'about': 61,\n",
              " 'what': 62,\n",
              " 'its': 63,\n",
              " 'Member': 64,\n",
              " 'or': 65,\n",
              " 'Parliament': 66,\n",
              " 'Council': 67,\n",
              " 'one': 68,\n",
              " 'am': 69,\n",
              " 'need': 70,\n",
              " 'only': 71,\n",
              " 'they': 72,\n",
              " 'if': 73,\n",
              " 'no': 74,\n",
              " 'important': 75,\n",
              " 'other': 76,\n",
              " 'their': 77,\n",
              " 'Union': 78,\n",
              " 'who': 79,\n",
              " 'us': 80,\n",
              " 'because': 81,\n",
              " 'therefore': 82,\n",
              " 'take': 83,\n",
              " 'make': 84,\n",
              " 'now': 85,\n",
              " 'so': 86,\n",
              " 'That': 87,\n",
              " 'up': 88,\n",
              " 'States': 89,\n",
              " 'some': 90,\n",
              " 'new': 91,\n",
              " 'As': 92,\n",
              " 'any': 93,\n",
              " 'support': 94,\n",
              " 'out': 95,\n",
              " 'Mrs': 96,\n",
              " 'believe': 97,\n",
              " 'such': 98,\n",
              " 'people': 99,\n",
              " 'when': 100,\n",
              " 'into': 101,\n",
              " 'first': 102,\n",
              " 'between': 103,\n",
              " 'were': 104,\n",
              " 'There': 105,\n",
              " 'Committee': 106,\n",
              " 'made': 107,\n",
              " 'think': 108,\n",
              " 'being': 109,\n",
              " 'say': 110,\n",
              " 'those': 111,\n",
              " 'However,': 112,\n",
              " 'countries': 113,\n",
              " 'point': 114,\n",
              " 'proposal': 115,\n",
              " 'just': 116,\n",
              " 'cannot': 117,\n",
              " 'many': 118,\n",
              " 'does': 119,\n",
              " 'time': 120,\n",
              " 'that,': 121,\n",
              " 'policy': 122,\n",
              " 'Europe': 123,\n",
              " 'fact': 124,\n",
              " 'want': 125,\n",
              " 'than': 126,\n",
              " 'debate': 127,\n",
              " 'political': 128,\n",
              " 'two': 129,\n",
              " 'question': 130,\n",
              " 'work': 131,\n",
              " 'against': 132,\n",
              " 'EU': 133,\n",
              " 'already': 134,\n",
              " 'way': 135,\n",
              " 'could': 136,\n",
              " 'If': 137,\n",
              " 'issue': 138,\n",
              " 'had': 139,\n",
              " 'me': 140,\n",
              " 'hope': 141,\n",
              " 'why': 142,\n",
              " 'same': 143,\n",
              " 'But': 144,\n",
              " 'still': 145,\n",
              " 'your': 146,\n",
              " 'most': 147,\n",
              " 'even': 148,\n",
              " 'see': 149,\n",
              " 'how': 150,\n",
              " 'within': 151,\n",
              " 'behalf': 152,\n",
              " 'clear': 153,\n",
              " 'Commissioner,': 154,\n",
              " 'much': 155,\n",
              " 'right': 156,\n",
              " 'Madam': 157,\n",
              " 'know': 158,\n",
              " 'however,': 159,\n",
              " 'vote': 160,\n",
              " 'gentlemen,': 161,\n",
              " 'his': 162,\n",
              " 'order': 163,\n",
              " 'taken': 164,\n",
              " 'situation': 165,\n",
              " 'number': 166,\n",
              " 'Commissioner': 167,\n",
              " 'where': 168,\n",
              " 'No': 169,\n",
              " 'directive': 170,\n",
              " 'good': 171,\n",
              " 'may': 172,\n",
              " 'public': 173,\n",
              " 'both': 174,\n",
              " 'measures': 175,\n",
              " 'able': 176,\n",
              " 'What': 177,\n",
              " 'common': 178,\n",
              " 'amendments': 179,\n",
              " 'great': 180,\n",
              " 'last': 181,\n",
              " 'human': 182,\n",
              " 'ladies': 183,\n",
              " 'economic': 184,\n",
              " 'thank': 185,\n",
              " 'said': 186,\n",
              " 'social': 187,\n",
              " 'too': 188,\n",
              " 'use': 189,\n",
              " 'under': 190,\n",
              " 'give': 191,\n",
              " 'part': 192,\n",
              " 'put': 193,\n",
              " 'For': 194,\n",
              " 'he': 195,\n",
              " 'here': 196,\n",
              " 'regard': 197,\n",
              " 'ensure': 198,\n",
              " 'A': 199,\n",
              " 'Community': 200,\n",
              " 'rights': 201,\n",
              " 'national': 202,\n",
              " 'ask': 203,\n",
              " 'information': 204,\n",
              " 'well': 205,\n",
              " 'means': 206,\n",
              " 'over': 207,\n",
              " 'given': 208,\n",
              " 'far': 209,\n",
              " 'course,': 210,\n",
              " 'On': 211,\n",
              " 'whether': 212,\n",
              " 'problem': 213,\n",
              " 'then': 214,\n",
              " 'and,': 215,\n",
              " 'them': 216,\n",
              " 'development': 217,\n",
              " 'particularly': 218,\n",
              " 'place': 219,\n",
              " 'possible': 220,\n",
              " 'shall': 221,\n",
              " 'own': 222,\n",
              " 'next': 223,\n",
              " 'view': 224,\n",
              " 'action': 225,\n",
              " 'position': 226,\n",
              " 'before': 227,\n",
              " 'They': 228,\n",
              " 'certain': 229,\n",
              " 'These': 230,\n",
              " 'legal': 231,\n",
              " 'matter': 232,\n",
              " 'second': 233,\n",
              " 'agreement': 234,\n",
              " 'wish': 235,\n",
              " 'quite': 236,\n",
              " 'years': 237,\n",
              " 'system': 238,\n",
              " 'set': 239,\n",
              " 'international': 240,\n",
              " 'case': 241,\n",
              " 'since': 242,\n",
              " 'without': 243,\n",
              " 'agree': 244,\n",
              " 'financial': 245,\n",
              " 'adopted': 246,\n",
              " 'problems': 247,\n",
              " 'rapporteur': 248,\n",
              " 'is,': 249,\n",
              " 'proposed': 250,\n",
              " 'Members': 251,\n",
              " 'few': 252,\n",
              " 'United': 253,\n",
              " 'proposals': 254,\n",
              " 'President': 255,\n",
              " 'At': 256,\n",
              " 'market': 257,\n",
              " 'cooperation': 258,\n",
              " 'welcome': 259,\n",
              " 'country': 260,\n",
              " 'come': 261,\n",
              " 'through': 262,\n",
              " 'Group': 263,\n",
              " 'present': 264,\n",
              " 'further': 265,\n",
              " 'example,': 266,\n",
              " 'going': 267,\n",
              " 'aid': 268,\n",
              " 'favour': 269,\n",
              " 'end': 270,\n",
              " 'different': 271,\n",
              " 'Amendment': 272,\n",
              " 'issues': 273,\n",
              " 'three': 274,\n",
              " 'all,': 275,\n",
              " 'future': 276,\n",
              " \"Commission'\": 277,\n",
              " 'something': 278,\n",
              " 'long': 279,\n",
              " 'necessary': 280,\n",
              " 'process': 281,\n",
              " 'accept': 282,\n",
              " 'resolution': 283,\n",
              " 'report,': 284,\n",
              " 'clearly': 285,\n",
              " 'did': 286,\n",
              " 'particular': 287,\n",
              " 'today': 288,\n",
              " 'after': 289,\n",
              " 'And': 290,\n",
              " 'go': 291,\n",
              " 'So': 292,\n",
              " 'specific': 293,\n",
              " 'area': 294,\n",
              " 'environmental': 295,\n",
              " 'House': 296,\n",
              " 'consider': 297,\n",
              " 'really': 298,\n",
              " 'Finally,': 299,\n",
              " 'continue': 300,\n",
              " 'working': 301,\n",
              " 'group': 302,\n",
              " 'year': 303,\n",
              " 'citizens': 304,\n",
              " 'principle': 305,\n",
              " 'time,': 306,\n",
              " 'role': 307,\n",
              " 'again': 308,\n",
              " 'extremely': 309,\n",
              " 'deal': 310,\n",
              " 'decision': 311,\n",
              " 'done': 312,\n",
              " 'terms': 313,\n",
              " 'Commission,': 314,\n",
              " 'look': 315,\n",
              " 'voted': 316,\n",
              " 'legislation': 317,\n",
              " 'With': 318,\n",
              " 'provide': 319,\n",
              " 'especially': 320,\n",
              " 'every': 321,\n",
              " 'once': 322,\n",
              " 'respect': 323,\n",
              " 'find': 324,\n",
              " 'rules': 325,\n",
              " 'basis': 326,\n",
              " 'My': 327,\n",
              " 'concerns': 328,\n",
              " 'certainly': 329,\n",
              " 'opportunity': 330,\n",
              " 'importance': 331,\n",
              " 'always': 332,\n",
              " 'serious': 333,\n",
              " 'You': 334,\n",
              " 'current': 335,\n",
              " 'used': 336,\n",
              " 'programme': 337,\n",
              " 'call': 338,\n",
              " 'feel': 339,\n",
              " 'framework': 340,\n",
              " 'subject': 341,\n",
              " 'towards': 342,\n",
              " 'To': 343,\n",
              " 'report.': 344,\n",
              " 'major': 345,\n",
              " 'better': 346,\n",
              " 'level': 347,\n",
              " 'opinion': 348,\n",
              " 'this,': 349,\n",
              " 'Council,': 350,\n",
              " 'Article': 351,\n",
              " 'forward': 352,\n",
              " 'rather': 353,\n",
              " 'you,': 354,\n",
              " 'help': 355,\n",
              " 'needs': 356,\n",
              " 'safety': 357,\n",
              " 'congratulate': 358,\n",
              " 'general': 359,\n",
              " 'protection': 360,\n",
              " 'become': 361,\n",
              " 'during': 362,\n",
              " 'aware': 363,\n",
              " 'areas': 364,\n",
              " 'government': 365,\n",
              " 'whole': 366,\n",
              " 'regulation': 367,\n",
              " 'attention': 368,\n",
              " 'Let': 369,\n",
              " 'progress': 370,\n",
              " '.': 371,\n",
              " 'concern': 372,\n",
              " 'simply': 373,\n",
              " 'Thank': 374,\n",
              " 'budget': 375,\n",
              " 'world': 376,\n",
              " 'making': 377,\n",
              " 'Treaty': 378,\n",
              " 'responsibility': 379,\n",
              " 'Secondly,': 380,\n",
              " 'down': 381,\n",
              " 'Parliament,': 382,\n",
              " 'increase': 383,\n",
              " 'amendment': 384,\n",
              " 'result': 385,\n",
              " 'this.': 386,\n",
              " 'get': 387,\n",
              " 'often': 388,\n",
              " 'difficult': 389,\n",
              " 'taking': 390,\n",
              " 'her': 391,\n",
              " 'points': 392,\n",
              " 'million': 393,\n",
              " 'which,': 394,\n",
              " 'fundamental': 395,\n",
              " 'allow': 396,\n",
              " 'large': 397,\n",
              " 'state': 398,\n",
              " 'back': 399,\n",
              " 'fully': 400,\n",
              " 'account': 401,\n",
              " 'real': 402,\n",
              " 'following': 403,\n",
              " 'another': 404,\n",
              " 'item': 405,\n",
              " 'approach': 406,\n",
              " 'greater': 407,\n",
              " 'reason': 408,\n",
              " 'Our': 409,\n",
              " 'women': 410,\n",
              " 'various': 411,\n",
              " 'each': 412,\n",
              " 'understand': 413,\n",
              " 'transport': 414,\n",
              " 'essential': 415,\n",
              " 'positive': 416,\n",
              " 'health': 417,\n",
              " 'EUR': 418,\n",
              " 'achieve': 419,\n",
              " 'based': 420,\n",
              " 'least': 421,\n",
              " 'fact,': 422,\n",
              " 'committee': 423,\n",
              " 'course': 424,\n",
              " 'change': 425,\n",
              " 'although': 426,\n",
              " 'third': 427,\n",
              " 'therefore,': 428,\n",
              " 'having': 429,\n",
              " 'State': 430,\n",
              " 'including': 431,\n",
              " 'concerned': 432,\n",
              " 'upon': 433,\n",
              " 'yet': 434,\n",
              " 'recent': 435,\n",
              " 'research': 436,\n",
              " 'money': 437,\n",
              " 'services': 438,\n",
              " 'law': 439,\n",
              " 'start': 440,\n",
              " 'itself': 441,\n",
              " 'industry': 442,\n",
              " 'step': 443,\n",
              " 'One': 444,\n",
              " 'small': 445,\n",
              " 'security': 446,\n",
              " 'create': 447,\n",
              " 'less': 448,\n",
              " 'full': 449,\n",
              " 'excellent': 450,\n",
              " 'competition': 451,\n",
              " 'concerning': 452,\n",
              " 'main': 453,\n",
              " 'All': 454,\n",
              " 'might': 455,\n",
              " 'initiative': 456,\n",
              " 'high': 457,\n",
              " 'form': 458,\n",
              " 'seems': 459,\n",
              " 'access': 460,\n",
              " 'internal': 461,\n",
              " 'currently': 462,\n",
              " 'Union,': 463,\n",
              " 'States,': 464,\n",
              " 'joint': 465,\n",
              " 'let': 466,\n",
              " 'sure': 467,\n",
              " 'trade': 468,\n",
              " 'best': 469,\n",
              " 'Furthermore,': 470,\n",
              " 'key': 471,\n",
              " 'authorities': 472,\n",
              " 'opinion,': 473,\n",
              " 'mean': 474,\n",
              " 'bring': 475,\n",
              " 'questions': 476,\n",
              " 'companies': 477,\n",
              " 'involved': 478,\n",
              " 'example': 479,\n",
              " 'reform': 480,\n",
              " 'sector': 481,\n",
              " 'Nos': 482,\n",
              " 'rapporteur,': 483,\n",
              " 'conditions': 484,\n",
              " 'tabled': 485,\n",
              " 'asked': 486,\n",
              " 'perhaps': 487,\n",
              " 'it.': 488,\n",
              " 'things': 489,\n",
              " 'food': 490,\n",
              " 'Swedish': 491,\n",
              " 'makes': 492,\n",
              " 'institutions': 493,\n",
              " 'actually': 494,\n",
              " 'hand,': 495,\n",
              " 'majority': 496,\n",
              " 'together': 497,\n",
              " 'efforts': 498,\n",
              " 'countries,': 499,\n",
              " 'When': 500,\n",
              " 'improve': 501,\n",
              " 'employment': 502,\n",
              " 'said,': 503,\n",
              " 'idea': 504,\n",
              " 'comes': 505,\n",
              " 'decisions': 506,\n",
              " 'express': 507,\n",
              " \"Parliament'\": 508,\n",
              " 'Affairs': 509,\n",
              " 'regarding': 510,\n",
              " 'Amendments': 511,\n",
              " 'several': 512,\n",
              " 'little': 513,\n",
              " 'single': 514,\n",
              " 'concerned,': 515,\n",
              " 'lead': 516,\n",
              " 'open': 517,\n",
              " 'Presidency': 518,\n",
              " 'final': 519,\n",
              " 'Of': 520,\n",
              " 'resources': 521,\n",
              " 'reports': 522,\n",
              " 'objective': 523,\n",
              " 'text': 524,\n",
              " 'Europe,': 525,\n",
              " 'include': 526,\n",
              " 'special': 527,\n",
              " 'honourable': 528,\n",
              " 'communication': 529,\n",
              " 'responsible': 530,\n",
              " 'share': 531,\n",
              " 'pleased': 532,\n",
              " 'implementation': 533,\n",
              " 'risk': 534,\n",
              " 'meeting': 535,\n",
              " 'while': 536,\n",
              " 'Question': 537,\n",
              " 'lack': 538,\n",
              " 'seen': 539,\n",
              " 'view,': 540,\n",
              " 'procedure': 541,\n",
              " 'energy': 542,\n",
              " 'aim': 543,\n",
              " 'kind': 544,\n",
              " 'adopt': 545,\n",
              " 'quality': 546,\n",
              " 'answer': 547,\n",
              " 'discussion': 548,\n",
              " 'fight': 549,\n",
              " 'available': 550,\n",
              " 'case,': 551,\n",
              " 'interest': 552,\n",
              " 'nothing': 553,\n",
              " 'democratic': 554,\n",
              " 'draft': 555,\n",
              " 'longer': 556,\n",
              " 'free': 557,\n",
              " 'line': 558,\n",
              " 'mentioned': 559,\n",
              " 'members': 560,\n",
              " 'Therefore,': 561,\n",
              " 'effective': 562,\n",
              " 'French': 563,\n",
              " 'President-in-Office': 564,\n",
              " 'due': 565,\n",
              " 'control': 566,\n",
              " 'management': 567,\n",
              " 'true': 568,\n",
              " 'technical': 569,\n",
              " 'relation': 570,\n",
              " 'indeed': 571,\n",
              " 'draw': 572,\n",
              " 'interests': 573,\n",
              " 'speak': 574,\n",
              " \"Commission's\": 575,\n",
              " 'local': 576,\n",
              " 'she': 577,\n",
              " 'Firstly,': 578,\n",
              " 'enlargement': 579,\n",
              " 'particular,': 580,\n",
              " 'legislative': 581,\n",
              " 'prevent': 582,\n",
              " 'thing': 583,\n",
              " 'programmes': 584,\n",
              " 'request': 585,\n",
              " 'know,': 586,\n",
              " 'regional': 587,\n",
              " 'carried': 588,\n",
              " 'Court': 589,\n",
              " 'appropriate': 590,\n",
              " 'previous': 591,\n",
              " 'note': 592,\n",
              " 'closed.': 593,\n",
              " 'presented': 594,\n",
              " 'developing': 595,\n",
              " 'apply': 596,\n",
              " 'doing': 597,\n",
              " 'products': 598,\n",
              " 'peace': 599,\n",
              " 'saying': 600,\n",
              " 'strategy': 601,\n",
              " 'Government': 602,\n",
              " 'groups': 603,\n",
              " 'talking': 604,\n",
              " 'basic': 605,\n",
              " 'parties': 606,\n",
              " 'statement': 607,\n",
              " 'not,': 608,\n",
              " 'expressed': 609,\n",
              " 'agreed': 610,\n",
              " 'never': 611,\n",
              " 'provisions': 612,\n",
              " 'cases': 613,\n",
              " 'agricultural': 614,\n",
              " 'young': 615,\n",
              " 'mention': 616,\n",
              " 'words': 617,\n",
              " 'it,': 618,\n",
              " 'aspects': 619,\n",
              " 'voting': 620,\n",
              " 'guarantee': 621,\n",
              " 'negotiations': 622,\n",
              " 'regards': 623,\n",
              " 'matters': 624,\n",
              " 'He': 625,\n",
              " 'freedom': 626,\n",
              " 'objectives': 627,\n",
              " 'Europe.': 628,\n",
              " 'commitment': 629,\n",
              " 'talk': 630,\n",
              " 'tell': 631,\n",
              " 'policy,': 632,\n",
              " 'reasons': 633,\n",
              " 'dialogue': 634,\n",
              " 'act': 635,\n",
              " 'individual': 636,\n",
              " 'move': 637,\n",
              " 'remind': 638,\n",
              " 'until': 639,\n",
              " 'prepared': 640,\n",
              " 'received': 641,\n",
              " 'regions': 642,\n",
              " 'children': 643,\n",
              " 'pay': 644,\n",
              " 'crucial': 645,\n",
              " 'contribution': 646,\n",
              " 'Party': 647,\n",
              " 'keep': 648,\n",
              " '1': 649,\n",
              " 'priority': 650,\n",
              " 'power': 651,\n",
              " 'existing': 652,\n",
              " 'raised': 653,\n",
              " 'provided': 654,\n",
              " \"Union'\": 655,\n",
              " 'governments': 656,\n",
              " 'enough': 657,\n",
              " 'stress': 658,\n",
              " 'solution': 659,\n",
              " 'absolutely': 660,\n",
              " 'doubt': 661,\n",
              " 'Turkey': 662,\n",
              " 'ourselves': 663,\n",
              " 'standards': 664,\n",
              " 'tomorrow': 665,\n",
              " 'First': 666,\n",
              " 'play': 667,\n",
              " 'response': 668,\n",
              " 'completely': 669,\n",
              " 'show': 670,\n",
              " 'decided': 671,\n",
              " 'States.': 672,\n",
              " 'Union.': 673,\n",
              " 'took': 674,\n",
              " 'funds': 675,\n",
              " 'How': 676,\n",
              " 'held': 677,\n",
              " '(The': 678,\n",
              " 'plan': 679,\n",
              " 'policies': 680,\n",
              " 'consumer': 681,\n",
              " 'add': 682,\n",
              " 'addition,': 683,\n",
              " 'production': 684,\n",
              " 'try': 685,\n",
              " 'agreements': 686,\n",
              " 'effect': 687,\n",
              " 'included': 688,\n",
              " 'waste': 689,\n",
              " 'nuclear': 690,\n",
              " 'called': 691,\n",
              " 'crisis': 692,\n",
              " 'states': 693,\n",
              " 'Since': 694,\n",
              " 'compromise': 695,\n",
              " 'euro': 696,\n",
              " 'field': 697,\n",
              " 'principles': 698,\n",
              " 'address': 699,\n",
              " 'policy.': 700,\n",
              " 'water': 701,\n",
              " '12': 702,\n",
              " 'context': 703,\n",
              " 'years,': 704,\n",
              " 'sitting': 705,\n",
              " 'Is': 706,\n",
              " 'relations': 707,\n",
              " 'environment': 708,\n",
              " 'Group,': 709,\n",
              " 'approved': 710,\n",
              " 'impact': 711,\n",
              " 'economy': 712,\n",
              " 'results': 713,\n",
              " 'him': 714,\n",
              " 'projects': 715,\n",
              " 'significant': 716,\n",
              " 'society': 717,\n",
              " 'propose': 718,\n",
              " 'precisely': 719,\n",
              " 'achieved': 720,\n",
              " 'motion': 721,\n",
              " 'refer': 722,\n",
              " 'remain': 723,\n",
              " 'establish': 724,\n",
              " 'promote': 725,\n",
              " 'among': 726,\n",
              " 'Moreover,': 727,\n",
              " 'year,': 728,\n",
              " 'everything': 729,\n",
              " 'required': 730,\n",
              " 'candidate': 731,\n",
              " 'costs': 732,\n",
              " 'Conference': 733,\n",
              " 'close': 734,\n",
              " 'service': 735,\n",
              " 'focus': 736,\n",
              " 'way,': 737,\n",
              " 'that.': 738,\n",
              " 'animal': 739,\n",
              " '(Parliament': 740,\n",
              " 'established': 741,\n",
              " 'begin': 742,\n",
              " 'funding': 743,\n",
              " 'are,': 744,\n",
              " 'words,': 745,\n",
              " 'task': 746,\n",
              " 'military': 747,\n",
              " 'Commission.': 748,\n",
              " 'discussed': 749,\n",
              " 'global': 750,\n",
              " 'Some': 751,\n",
              " 'growth': 752,\n",
              " 'air': 753,\n",
              " 'Parliament.': 754,\n",
              " 'budgetary': 755,\n",
              " 'force': 756,\n",
              " 'document': 757,\n",
              " 'period': 758,\n",
              " 'soon': 759,\n",
              " 'above': 760,\n",
              " 'past': 761,\n",
              " 'colleagues': 762,\n",
              " 'discuss': 763,\n",
              " 'despite': 764,\n",
              " 'needed': 765,\n",
              " 'increasing': 766,\n",
              " 'themselves': 767,\n",
              " 'months': 768,\n",
              " 'too,': 769,\n",
              " 'according': 770,\n",
              " 'organisations': 771,\n",
              " 'Report': 772,\n",
              " 'civil': 773,\n",
              " 'recently': 774,\n",
              " 'Although': 775,\n",
              " 'benefit': 776,\n",
              " 'everyone': 777,\n",
              " 'strong': 778,\n",
              " 'systems': 779,\n",
              " ',': 780,\n",
              " 'today,': 781,\n",
              " 'four': 782,\n",
              " 'takes': 783,\n",
              " 'changes': 784,\n",
              " 'huge': 785,\n",
              " 'requires': 786,\n",
              " 'reduce': 787,\n",
              " 'foreign': 788,\n",
              " 'fellow': 789,\n",
              " 'agenda': 790,\n",
              " 'initiatives': 791,\n",
              " 'reached': 792,\n",
              " 'using': 793,\n",
              " 'presidency': 794,\n",
              " 'relating': 795,\n",
              " 'transparency': 796,\n",
              " 'comment': 797,\n",
              " 'cultural': 798,\n",
              " 'Subject:': 799,\n",
              " 'coordination': 800,\n",
              " 'After': 801,\n",
              " 'namely': 802,\n",
              " 'regulations': 803,\n",
              " 'cause': 804,\n",
              " 'wanted': 805,\n",
              " 'giving': 806,\n",
              " 'thanks': 807,\n",
              " 'around': 808,\n",
              " 'moment': 809,\n",
              " 'considerable': 810,\n",
              " 'consumers': 811,\n",
              " 'type': 812,\n",
              " '11': 813,\n",
              " 'say,': 814,\n",
              " 'trying': 815,\n",
              " 'heard': 816,\n",
              " 'Nevertheless,': 817,\n",
              " 'urgent': 818,\n",
              " 'effort': 819,\n",
              " 'off': 820,\n",
              " 'increased': 821,\n",
              " 'throughout': 822,\n",
              " 'five': 823,\n",
              " 'sense': 824,\n",
              " 'almost': 825,\n",
              " 'balance': 826,\n",
              " 'amount': 827,\n",
              " 'referred': 828,\n",
              " 'urge': 829,\n",
              " 'light': 830,\n",
              " 'goes': 831,\n",
              " 'ban': 832,\n",
              " 'protect': 833,\n",
              " 'now,': 834,\n",
              " 'develop': 835,\n",
              " 'others': 836,\n",
              " 'carry': 837,\n",
              " 'activities': 838,\n",
              " 'reference': 839,\n",
              " '000': 840,\n",
              " 'brought': 841,\n",
              " 'behind': 842,\n",
              " 'stated': 843,\n",
              " 'pointed': 844,\n",
              " 'democracy': 845,\n",
              " 'rightly': 846,\n",
              " 'data': 847,\n",
              " 'application': 848,\n",
              " 'scope': 849,\n",
              " 'additional': 850,\n",
              " 'whose': 851,\n",
              " 'lot': 852,\n",
              " 'countries.': 853,\n",
              " 'practical': 854,\n",
              " 'life': 855,\n",
              " 'considered': 856,\n",
              " 'issue.': 857,\n",
              " 'mind': 858,\n",
              " 'demand': 859,\n",
              " 'us,': 860,\n",
              " 'found': 861,\n",
              " 'Convention': 862,\n",
              " 'ought': 863,\n",
              " 'Lisbon': 864,\n",
              " 'discussing': 865,\n",
              " 'education': 866,\n",
              " 'Even': 867,\n",
              " 'cost': 868,\n",
              " 'procedures': 869,\n",
              " 'expect': 870,\n",
              " 'Charter': 871,\n",
              " 'equal': 872,\n",
              " 'Minister': 873,\n",
              " 'actions': 874,\n",
              " 'farmers': 875,\n",
              " 'then,': 876,\n",
              " 'sustainable': 877,\n",
              " 'direct': 878,\n",
              " 'private': 879,\n",
              " 'British': 880,\n",
              " 'probably': 881,\n",
              " 'applies': 882,\n",
              " 'conclusions': 883,\n",
              " 'per': 884,\n",
              " 'workers': 885,\n",
              " 'them.': 886,\n",
              " 'here.': 887,\n",
              " 'total': 888,\n",
              " 'list': 889,\n",
              " 'tax': 890,\n",
              " 'meet': 891,\n",
              " 'Unfortunately,': 892,\n",
              " 'pressure': 893,\n",
              " 'guidelines': 894,\n",
              " 'reading': 895,\n",
              " 'provides': 896,\n",
              " 'experience': 897,\n",
              " 'across': 898,\n",
              " 'dealing': 899,\n",
              " 'intended': 900,\n",
              " 'short': 901,\n",
              " 'conflict': 902,\n",
              " 'animals': 903,\n",
              " 'fisheries': 904,\n",
              " 'but,': 905,\n",
              " 'Public': 906,\n",
              " 'implement': 907,\n",
              " 'vital': 908,\n",
              " 'again,': 909,\n",
              " 'monitoring': 910,\n",
              " 'external': 911,\n",
              " 'proposal,': 912,\n",
              " 'hear': 913,\n",
              " 'representatives': 914,\n",
              " 'supported': 915,\n",
              " 'nature': 916,\n",
              " 'Nice': 917,\n",
              " '2000': 918,\n",
              " 'Human': 919,\n",
              " 'Many': 920,\n",
              " 'here,': 921,\n",
              " 'road': 922,\n",
              " 'turn': 923,\n",
              " 'require': 924,\n",
              " 'Portuguese': 925,\n",
              " 'possibility': 926,\n",
              " 'emphasise': 927,\n",
              " 'assistance': 928,\n",
              " 'coming': 929,\n",
              " 'recognise': 930,\n",
              " 'liberalisation': 931,\n",
              " 'parliamentary': 932,\n",
              " 'plans': 933,\n",
              " 'population': 934,\n",
              " \"EU'\": 935,\n",
              " 'business': 936,\n",
              " 'left': 937,\n",
              " 'encourage': 938,\n",
              " 'either': 939,\n",
              " 'debate,': 940,\n",
              " 'day': 941,\n",
              " \"Council'\": 942,\n",
              " 'review': 943,\n",
              " 'specifically': 944,\n",
              " 'By': 945,\n",
              " 'region': 946,\n",
              " 'setting': 947,\n",
              " 'regret': 948,\n",
              " 'times': 949,\n",
              " 'asylum': 950,\n",
              " 'UN': 951,\n",
              " 'convinced': 952,\n",
              " 'totally': 953,\n",
              " 'fishing': 954,\n",
              " 'seem': 955,\n",
              " 'contains': 956,\n",
              " 'respect,': 957,\n",
              " 'old': 958,\n",
              " 'limit': 959,\n",
              " 'discussions': 960,\n",
              " 'Rights': 961,\n",
              " 'hard': 962,\n",
              " 'Lastly,': 963,\n",
              " 'assessment': 964,\n",
              " 'job': 965,\n",
              " 'Why': 966,\n",
              " 'live': 967,\n",
              " 'creating': 968,\n",
              " 'myself': 969,\n",
              " 'time.': 970,\n",
              " 'Irish': 971,\n",
              " 'extent': 972,\n",
              " 'mainly': 973,\n",
              " 'point,': 974,\n",
              " 'offer': 975,\n",
              " 'along': 976,\n",
              " 'nor': 977,\n",
              " 'relevant': 978,\n",
              " 'According': 979,\n",
              " 'though': 980,\n",
              " 'ago,': 981,\n",
              " 'connection': 982,\n",
              " 'out,': 983,\n",
              " 'content': 984,\n",
              " 'issue,': 985,\n",
              " 'purpose': 986,\n",
              " '3': 987,\n",
              " 'comments': 988,\n",
              " 'quickly': 989,\n",
              " 'administrative': 990,\n",
              " 'accepted': 991,\n",
              " 'remember': 992,\n",
              " 'gives': 993,\n",
              " 'face': 994,\n",
              " 'people,': 995,\n",
              " 'limited': 996,\n",
              " 'reach': 997,\n",
              " 'Thirdly,': 998,\n",
              " 'ever': 999,\n",
              " ...}"
            ]
          },
          "metadata": {
            "tags": []
          },
          "execution_count": 70
        }
      ]
    },
    {
      "cell_type": "code",
      "metadata": {
        "id": "0A7ToWNPpsum"
      },
      "source": [
        ""
      ],
      "execution_count": 70,
      "outputs": []
    },
    {
      "cell_type": "code",
      "metadata": {
        "id": "wjXh0VDplKhl"
      },
      "source": [
        "class Translator(object):\r\n",
        "\r\n",
        "    def __init__(self, src_vocab, tgt_vocab, attention, device=torch.device('cpu')):\r\n",
        "        self.src_vocab = src_vocab\r\n",
        "        self.tgt_vocab = tgt_vocab\r\n",
        "        self.device = device\r\n",
        "        self.model = EncoderDecoder(len(src_vocab), len(tgt_vocab), attention).to(device)\r\n",
        "\r\n",
        "    def translate_with_attention(self, sentences):\r\n",
        "        # Encode each sentence\r\n",
        "\r\n",
        "        encoded = [[self.src_vocab.get(w, 3) for w in s.split()] for s in sentences]\r\n",
        "\r\n",
        "        # Determine the maximal length of an encoded sentence\r\n",
        "\r\n",
        "        max_len = max(len(e) for e in encoded)\r\n",
        "\r\n",
        "        # Build the input tensor, padding all sequences to the same length\r\n",
        "        src = torch.LongTensor([e + [0] * (max_len - len(e)) for e in encoded]).to(self.device)\r\n",
        "\r\n",
        "        # Run the decoder and convert the result into nested lists\r\n",
        "        with torch.no_grad():\r\n",
        "            decoded, alphas = tuple(d.cpu().numpy().tolist() for d in self.model.decode(src, 2 * max_len))\r\n",
        "\r\n",
        "        # Prune each decoded sentence after the first <eos>\r\n",
        "        i2w = {i: w for w, i in self.tgt_vocab.items()}\r\n",
        "        result = []\r\n",
        "        for d, a in zip(decoded, alphas):\r\n",
        "            d = [i2w[i] for i in d]\r\n",
        "            try:\r\n",
        "                eos_index = d.index('<eos>')\r\n",
        "                del d[eos_index:]\r\n",
        "                del a[eos_index:]\r\n",
        "            except:\r\n",
        "                pass\r\n",
        "            result.append((' '.join(d), a))\r\n",
        "\r\n",
        "        return result\r\n",
        "\r\n",
        "    def translate(self, sentences):\r\n",
        "        translated, alphas = zip(*self.translate_with_attention(sentences))\r\n",
        "        return translated"
      ],
      "execution_count": 71,
      "outputs": []
    },
    {
      "cell_type": "code",
      "metadata": {
        "colab": {
          "base_uri": "https://localhost:8080/"
        },
        "id": "xoyWrdcwlPop",
        "outputId": "873a31ad-dc8f-4f56-a4b5-57b46bb7b34a"
      },
      "source": [
        "translator = Translator(src_vocab, tgt_vocab, BahdanauAttention())\r\n",
        "translator.translate(['This is an important matter', 'Resumption of the session'])"
      ],
      "execution_count": 72,
      "outputs": [
        {
          "output_type": "execute_result",
          "data": {
            "text/plain": [
              "('djur, permanenta utfärdade tittade aktuella journalister statens reaktioner betrakta tvingas',\n",
              " 'Tro marknadsföring form. subventioner tanke makten, bin infrastruktur rapporten. förordning')"
            ]
          },
          "metadata": {
            "tags": []
          },
          "execution_count": 72
        }
      ]
    },
    {
      "cell_type": "code",
      "metadata": {
        "colab": {
          "base_uri": "https://localhost:8080/"
        },
        "id": "gtDEZUhulXXR",
        "outputId": "6f830d4a-3a77-4f6b-a0de-892f634fd929"
      },
      "source": [
        "!pip install sacrebleu"
      ],
      "execution_count": 73,
      "outputs": [
        {
          "output_type": "stream",
          "text": [
            "Collecting sacrebleu\n",
            "\u001b[?25l  Downloading https://files.pythonhosted.org/packages/3b/7f/4fd83db8570288c3899d8e57666c2841403c15659f3d792a3cb8dc1c6689/sacrebleu-1.5.0-py3-none-any.whl (65kB)\n",
            "\r\u001b[K     |█████                           | 10kB 22.8MB/s eta 0:00:01\r\u001b[K     |██████████                      | 20kB 15.1MB/s eta 0:00:01\r\u001b[K     |███████████████                 | 30kB 12.9MB/s eta 0:00:01\r\u001b[K     |████████████████████            | 40kB 12.1MB/s eta 0:00:01\r\u001b[K     |█████████████████████████       | 51kB 8.3MB/s eta 0:00:01\r\u001b[K     |██████████████████████████████  | 61kB 7.8MB/s eta 0:00:01\r\u001b[K     |████████████████████████████████| 71kB 5.1MB/s \n",
            "\u001b[?25hCollecting portalocker\n",
            "  Downloading https://files.pythonhosted.org/packages/82/22/e684c9e2e59b561dbe36538852e81849122c666c423448e3a5c99362c228/portalocker-2.2.1-py2.py3-none-any.whl\n",
            "Installing collected packages: portalocker, sacrebleu\n",
            "Successfully installed portalocker-2.2.1 sacrebleu-1.5.0\n"
          ],
          "name": "stdout"
        }
      ]
    },
    {
      "cell_type": "code",
      "metadata": {
        "id": "ZfJmFfObmOUD"
      },
      "source": [
        "import sacrebleu\r\n",
        "\r\n",
        "def bleu(translator, src, ref):\r\n",
        "    translated = translator.translate(src)\r\n",
        "    return sacrebleu.raw_corpus_bleu(translated, [ref], 0.01).score"
      ],
      "execution_count": 74,
      "outputs": []
    },
    {
      "cell_type": "code",
      "metadata": {
        "id": "bYlyggKyQBTK"
      },
      "source": [
        "with open('validX.txt') as src, open('validY.txt') as ref:\r\n",
        "    valid_src = [line.rstrip() for line in src]\r\n",
        "    valid_ref = [line.rstrip() for line in ref]"
      ],
      "execution_count": 75,
      "outputs": []
    },
    {
      "cell_type": "code",
      "metadata": {
        "colab": {
          "base_uri": "https://localhost:8080/"
        },
        "id": "8dFoMutTVeup",
        "outputId": "8012f89f-c1bd-4b0f-c475-2a7fddb54057"
      },
      "source": [
        "len(valid_src)"
      ],
      "execution_count": 76,
      "outputs": [
        {
          "output_type": "execute_result",
          "data": {
            "text/plain": [
              "1000"
            ]
          },
          "metadata": {
            "tags": []
          },
          "execution_count": 76
        }
      ]
    },
    {
      "cell_type": "code",
      "metadata": {
        "id": "1pxKmRc8mSUB"
      },
      "source": [
        "class TranslationBatcher(object):\r\n",
        "\r\n",
        "    def __init__(self, device):\r\n",
        "        self.device = device\r\n",
        "\r\n",
        "    def __call__(self, batch):\r\n",
        "        srcs, tgts = zip(*batch)\r\n",
        "\r\n",
        "        # Determine the maximal length of a source/target sequence\r\n",
        "        max_src_len = max(len(s) for s in srcs)\r\n",
        "        max_tgt_len = max(len(t) for t in tgts)\r\n",
        "\r\n",
        "        # Create the source/target tensors\r\n",
        "        S = torch.LongTensor([s + [0] * (max_src_len - len(s)) for s in srcs])\r\n",
        "        T = torch.LongTensor([t + [0] * (max_tgt_len - len(t)) for t in tgts])\r\n",
        "\r\n",
        "        return S.to(self.device), T.to(self.device)"
      ],
      "execution_count": 77,
      "outputs": []
    },
    {
      "cell_type": "code",
      "metadata": {
        "id": "r3B9z5t9mZHC"
      },
      "source": [
        "from torch.utils.data import DataLoader\r\n",
        "from tqdm import tqdm\r\n",
        "\r\n",
        "def train(n_epochs=2, batch_size=128, lr=5e-4):\r\n",
        "    # Build the vocabularies\r\n",
        "    vocab_src = make_vocab(sentences('trainX.txt'), 2**14)\r\n",
        "    vocab_tgt = make_vocab(sentences('trainY.txt'), 2**14)\r\n",
        "\r\n",
        "    # Prepare the dataset\r\n",
        "    train_dataset = TranslationDataset(vocab_src, 'trainX.txt', vocab_tgt, 'trainY.txt')\r\n",
        "\r\n",
        "    # Prepare the data loaders\r\n",
        "    batcher = TranslationBatcher(device)\r\n",
        "    train_loader = DataLoader(train_dataset, batch_size, shuffle=True, collate_fn=batcher)\r\n",
        "\r\n",
        "    # Build the translator\r\n",
        "    translator = Translator(src_vocab, tgt_vocab, BahdanauAttention(), device=device)\r\n",
        "\r\n",
        "    # Initialise the optimiser\r\n",
        "    optimizer = torch.optim.Adam(translator.model.parameters(), lr=lr)\r\n",
        "\r\n",
        "    # Make it possible to interrupt the training\r\n",
        "    try:\r\n",
        "        for epoch in range(n_epochs):\r\n",
        "            losses = []\r\n",
        "            bleu_valid = 0\r\n",
        "            sample = '<none>'\r\n",
        "            with tqdm(total=len(train_dataset)) as pbar:\r\n",
        "                for i, (src_batch, tgt_batch) in enumerate(train_loader):\r\n",
        "                    # Create a shifted version of tgt_batch containing the previous words\r\n",
        "                    batch_size, tgt_len = tgt_batch.shape\r\n",
        "                    bos = torch.ones(batch_size, 1, dtype=torch.long, device=tgt_batch.device)\r\n",
        "                    tgt_batch_shifted = torch.cat((bos, tgt_batch[:, :-1]), dim=1)\r\n",
        "\r\n",
        "                    translator.model.train()\r\n",
        "\r\n",
        "                    # Forward pass\r\n",
        "                    scores = translator.model(src_batch, tgt_batch_shifted)\r\n",
        "                    scores = scores.view(-1, len(tgt_vocab))\r\n",
        "\r\n",
        "                    # Backward pass\r\n",
        "                    optimizer.zero_grad()\r\n",
        "                    loss = F.cross_entropy(scores, tgt_batch.view(-1), ignore_index=0)\r\n",
        "                    loss.backward()\r\n",
        "                    optimizer.step()\r\n",
        "\r\n",
        "                    # Update the diagnostics\r\n",
        "                    losses.append(loss.item())\r\n",
        "                    pbar.set_postfix(loss=(sum(losses) / len(losses)), bleu_valid=bleu_valid, sample=sample)\r\n",
        "                    pbar.update(len(src_batch))\r\n",
        "\r\n",
        "                    if i % 50 == 0:\r\n",
        "                        translator.model.eval()\r\n",
        "                        bleu_valid = int(bleu(translator, valid_src, valid_ref))\r\n",
        "                        sample = translator.translate(['I hope that it works out.'])[0]\r\n",
        "\r\n",
        "    except KeyboardInterrupt:\r\n",
        "        pass\r\n",
        "\r\n",
        "    return translator"
      ],
      "execution_count": 85,
      "outputs": []
    },
    {
      "cell_type": "code",
      "metadata": {
        "id": "a5yU9-Hx51Qs",
        "colab": {
          "base_uri": "https://localhost:8080/"
        },
        "outputId": "7595c208-12f1-470f-8f3b-9b533a0ba16a"
      },
      "source": [
        "translator = train()"
      ],
      "execution_count": 86,
      "outputs": [
        {
          "output_type": "stream",
          "text": [
            "100%|██████████| 200000/200000 [16:18<00:00, 204.45it/s, bleu_valid=5, loss=4.17, sample=Jag hoppas att det är mycket viktigt att det finns en hel]\n",
            "100%|██████████| 200000/200000 [16:23<00:00, 203.34it/s, bleu_valid=8, loss=2.91, sample=Jag hoppas att det är mycket <unk> att det fungerar på ett]\n"
          ],
          "name": "stderr"
        }
      ]
    },
    {
      "cell_type": "code",
      "metadata": {
        "id": "ryUZ-hRJFd72"
      },
      "source": [
        "import matplotlib.pyplot as plt\r\n",
        "import numpy as np\r\n",
        "\r\n",
        "%config InlineBackend.figure_format = 'svg'\r\n",
        "\r\n",
        "plt.style.use('seaborn')\r\n",
        "\r\n",
        "def plot_attention(translator, sentence):\r\n",
        "    translation, weights = translator.translate_with_attention([sentence])[0]\r\n",
        "    weights = np.array(weights)\r\n",
        "\r\n",
        "    fig, ax = plt.subplots()\r\n",
        "    heatmap = ax.pcolor(weights, cmap='Blues_r')\r\n",
        "\r\n",
        "    ax.set_xticklabels(sentence.split(), minor=False, rotation='vertical')\r\n",
        "    ax.set_yticklabels(translation.split(), minor=False)\r\n",
        "\r\n",
        "    ax.xaxis.tick_top()\r\n",
        "    ax.set_xticks(np.arange(weights.shape[1]) + 0.5, minor=False)\r\n",
        "    ax.set_yticks(np.arange(weights.shape[0]) + 0.5, minor=False)\r\n",
        "    ax.invert_yaxis()\r\n",
        "\r\n",
        "    plt.colorbar(heatmap)"
      ],
      "execution_count": 87,
      "outputs": []
    },
    {
      "cell_type": "code",
      "metadata": {
        "colab": {
          "base_uri": "https://localhost:8080/",
          "height": 483
        },
        "id": "YF60ICrUFhwP",
        "outputId": "58cb0c8e-1632-41fd-bb0e-07d860619076"
      },
      "source": [
        "plot_attention(translator, 'I hope that it works out.')"
      ],
      "execution_count": 88,
      "outputs": [
        {
          "output_type": "display_data",
          "data": {
            "text/plain": [
              "<Figure size 576x396 with 2 Axes>"
            ],
            "image/svg+xml": "<?xml version=\"1.0\" encoding=\"utf-8\" standalone=\"no\"?>\n<!DOCTYPE svg PUBLIC \"-//W3C//DTD SVG 1.1//EN\"\n  \"http://www.w3.org/Graphics/SVG/1.1/DTD/svg11.dtd\">\n<!-- Created with matplotlib (https://matplotlib.org/) -->\n<svg height=\"346.4925pt\" version=\"1.1\" viewBox=\"0 0 473.931188 346.4925\" width=\"473.931188pt\" xmlns=\"http://www.w3.org/2000/svg\" xmlns:xlink=\"http://www.w3.org/1999/xlink\">\n <defs>\n  <style type=\"text/css\">\n*{stroke-linecap:butt;stroke-linejoin:round;}\n  </style>\n </defs>\n <g id=\"figure_1\">\n  <g id=\"patch_1\">\n   <path d=\"M 0 346.4925 \nL 473.931188 346.4925 \nL 473.931188 0 \nL 0 0 \nz\n\" style=\"fill:#ffffff;\"/>\n  </g>\n  <g id=\"axes_1\">\n   <g id=\"patch_2\">\n    <path d=\"M 51.442188 339.2925 \nL 408.562188 339.2925 \nL 408.562188 40.3125 \nL 51.442188 40.3125 \nz\n\" style=\"fill:#eaeaf2;\"/>\n   </g>\n   <g id=\"matplotlib.axis_1\">\n    <g id=\"xtick_1\">\n     <g id=\"line2d_1\"/>\n     <g id=\"text_1\">\n      <!-- I -->\n      <defs>\n       <path d=\"M 9.234375 0 \nL 9.234375 68.796875 \nL 18.5625 68.796875 \nL 18.5625 0 \nz\n\" id=\"LiberationSans-73\"/>\n      </defs>\n      <g style=\"fill:#262626;\" transform=\"translate(83.788125 33.3125)rotate(-90)scale(0.1 -0.1)\">\n       <use xlink:href=\"#LiberationSans-73\"/>\n      </g>\n     </g>\n    </g>\n    <g id=\"xtick_2\">\n     <g id=\"line2d_2\"/>\n     <g id=\"text_2\">\n      <!-- hope -->\n      <defs>\n       <path d=\"M 15.484375 43.796875 \nQ 16.9375 46.484375 18.640625 48.359375 \nQ 20.359375 50.25 22.40625 51.46875 \nQ 24.46875 52.6875 26.90625 53.25 \nQ 29.34375 53.8125 32.375 53.8125 \nQ 37.453125 53.8125 40.703125 52.4375 \nQ 43.953125 51.078125 45.828125 48.609375 \nQ 47.703125 46.140625 48.40625 42.71875 \nQ 49.125 39.3125 49.125 35.203125 \nL 49.125 0 \nL 40.28125 0 \nL 40.28125 33.5 \nQ 40.28125 36.859375 39.859375 39.390625 \nQ 39.453125 41.9375 38.28125 43.625 \nQ 37.109375 45.3125 34.953125 46.15625 \nQ 32.8125 47.015625 29.390625 47.015625 \nQ 26.265625 47.015625 23.75 45.890625 \nQ 21.234375 44.78125 19.453125 42.71875 \nQ 17.671875 40.671875 16.6875 37.734375 \nQ 15.71875 34.8125 15.71875 31.15625 \nL 15.71875 0 \nL 6.9375 0 \nL 6.9375 72.46875 \nL 15.71875 72.46875 \nL 15.71875 53.609375 \nQ 15.71875 52 15.671875 50.390625 \nQ 15.625 48.78125 15.546875 47.40625 \nQ 15.484375 46.046875 15.421875 45.09375 \nQ 15.375 44.140625 15.328125 43.796875 \nz\n\" id=\"LiberationSans-104\"/>\n       <path d=\"M 51.421875 26.46875 \nQ 51.421875 12.59375 45.3125 5.796875 \nQ 39.203125 -0.984375 27.59375 -0.984375 \nQ 22.078125 -0.984375 17.71875 0.671875 \nQ 13.375 2.34375 10.375 5.765625 \nQ 7.375 9.1875 5.78125 14.328125 \nQ 4.203125 19.484375 4.203125 26.46875 \nQ 4.203125 53.8125 27.875 53.8125 \nQ 34.03125 53.8125 38.5 52.09375 \nQ 42.96875 50.390625 45.828125 46.96875 \nQ 48.6875 43.5625 50.046875 38.421875 \nQ 51.421875 33.296875 51.421875 26.46875 \nz\nM 42.1875 26.46875 \nQ 42.1875 32.625 41.234375 36.625 \nQ 40.28125 40.625 38.453125 43.015625 \nQ 36.625 45.40625 33.984375 46.359375 \nQ 31.34375 47.3125 28.03125 47.3125 \nQ 24.65625 47.3125 21.9375 46.3125 \nQ 19.234375 45.3125 17.328125 42.890625 \nQ 15.4375 40.484375 14.421875 36.46875 \nQ 13.421875 32.46875 13.421875 26.46875 \nQ 13.421875 20.3125 14.5 16.28125 \nQ 15.578125 12.25 17.453125 9.859375 \nQ 19.34375 7.46875 21.90625 6.484375 \nQ 24.46875 5.515625 27.484375 5.515625 \nQ 30.859375 5.515625 33.59375 6.46875 \nQ 36.328125 7.421875 38.234375 9.8125 \nQ 40.140625 12.203125 41.15625 16.25 \nQ 42.1875 20.3125 42.1875 26.46875 \nz\n\" id=\"LiberationSans-111\"/>\n       <path d=\"M 51.421875 26.65625 \nQ 51.421875 20.65625 50.4375 15.578125 \nQ 49.46875 10.5 47.1875 6.828125 \nQ 44.921875 3.171875 41.1875 1.09375 \nQ 37.453125 -0.984375 31.984375 -0.984375 \nQ 26.3125 -0.984375 22.0625 1.171875 \nQ 17.828125 3.328125 15.578125 8.203125 \nL 15.328125 8.203125 \nQ 15.375 8.109375 15.40625 7.328125 \nQ 15.4375 6.546875 15.453125 5.375 \nQ 15.484375 4.203125 15.5 2.75 \nQ 15.53125 1.3125 15.53125 -0.09375 \nL 15.53125 -20.75 \nL 6.734375 -20.75 \nL 6.734375 42.046875 \nQ 6.734375 43.953125 6.703125 45.703125 \nQ 6.6875 47.46875 6.640625 48.90625 \nQ 6.59375 50.34375 6.546875 51.359375 \nQ 6.5 52.390625 6.453125 52.828125 \nL 14.9375 52.828125 \nQ 14.984375 52.6875 15.0625 51.796875 \nQ 15.140625 50.921875 15.203125 49.671875 \nQ 15.28125 48.4375 15.359375 47.015625 \nQ 15.4375 45.609375 15.4375 44.34375 \nL 15.625 44.34375 \nQ 16.84375 46.875 18.40625 48.65625 \nQ 19.96875 50.4375 21.96875 51.578125 \nQ 23.96875 52.734375 26.4375 53.25 \nQ 28.90625 53.765625 31.984375 53.765625 \nQ 37.453125 53.765625 41.1875 51.8125 \nQ 44.921875 49.859375 47.1875 46.3125 \nQ 49.46875 42.78125 50.4375 37.765625 \nQ 51.421875 32.765625 51.421875 26.65625 \nz\nM 42.1875 26.46875 \nQ 42.1875 31.34375 41.59375 35.15625 \nQ 41.015625 38.96875 39.578125 41.59375 \nQ 38.140625 44.234375 35.734375 45.59375 \nQ 33.34375 46.96875 29.734375 46.96875 \nQ 26.8125 46.96875 24.21875 46.140625 \nQ 21.625 45.3125 19.703125 42.96875 \nQ 17.78125 40.625 16.65625 36.5 \nQ 15.53125 32.375 15.53125 25.78125 \nQ 15.53125 20.171875 16.453125 16.28125 \nQ 17.390625 12.40625 19.171875 10.015625 \nQ 20.953125 7.625 23.578125 6.5625 \nQ 26.21875 5.515625 29.640625 5.515625 \nQ 33.296875 5.515625 35.71875 6.921875 \nQ 38.140625 8.34375 39.578125 11.03125 \nQ 41.015625 13.71875 41.59375 17.59375 \nQ 42.1875 21.484375 42.1875 26.46875 \nz\n\" id=\"LiberationSans-112\"/>\n       <path d=\"M 13.484375 24.5625 \nQ 13.484375 20.40625 14.328125 16.90625 \nQ 15.1875 13.421875 16.96875 10.90625 \nQ 18.75 8.40625 21.53125 7 \nQ 24.3125 5.609375 28.21875 5.609375 \nQ 33.9375 5.609375 37.375 7.90625 \nQ 40.828125 10.203125 42.046875 13.71875 \nL 49.75 11.53125 \nQ 48.921875 9.328125 47.4375 7.109375 \nQ 45.953125 4.890625 43.453125 3.09375 \nQ 40.96875 1.3125 37.234375 0.15625 \nQ 33.5 -0.984375 28.21875 -0.984375 \nQ 16.5 -0.984375 10.375 6 \nQ 4.25 12.984375 4.25 26.765625 \nQ 4.25 34.1875 6.09375 39.328125 \nQ 7.953125 44.484375 11.171875 47.703125 \nQ 14.40625 50.921875 18.703125 52.359375 \nQ 23 53.8125 27.875 53.8125 \nQ 34.515625 53.8125 38.984375 51.65625 \nQ 43.453125 49.515625 46.15625 45.71875 \nQ 48.875 41.9375 50.015625 36.8125 \nQ 51.171875 31.6875 51.171875 25.734375 \nL 51.171875 24.5625 \nz\nM 42.09375 31.296875 \nQ 41.359375 39.65625 37.84375 43.484375 \nQ 34.328125 47.3125 27.734375 47.3125 \nQ 25.53125 47.3125 23.109375 46.609375 \nQ 20.703125 45.90625 18.65625 44.09375 \nQ 16.609375 42.28125 15.1875 39.171875 \nQ 13.765625 36.078125 13.578125 31.296875 \nz\n\" id=\"LiberationSans-101\"/>\n      </defs>\n      <g style=\"fill:#262626;\" transform=\"translate(143.308125 33.3125)rotate(-90)scale(0.1 -0.1)\">\n       <use xlink:href=\"#LiberationSans-104\"/>\n       <use x=\"55.615234\" xlink:href=\"#LiberationSans-111\"/>\n       <use x=\"111.230469\" xlink:href=\"#LiberationSans-112\"/>\n       <use x=\"166.845703\" xlink:href=\"#LiberationSans-101\"/>\n      </g>\n     </g>\n    </g>\n    <g id=\"xtick_3\">\n     <g id=\"line2d_3\"/>\n     <g id=\"text_3\">\n      <!-- that -->\n      <defs>\n       <path d=\"M 27.046875 0.390625 \nQ 25.046875 -0.140625 22.96875 -0.453125 \nQ 20.90625 -0.78125 18.171875 -0.78125 \nQ 7.625 -0.78125 7.625 11.1875 \nL 7.625 46.4375 \nL 1.515625 46.4375 \nL 1.515625 52.828125 \nL 7.953125 52.828125 \nL 10.546875 64.65625 \nL 16.40625 64.65625 \nL 16.40625 52.828125 \nL 26.171875 52.828125 \nL 26.171875 46.4375 \nL 16.40625 46.4375 \nL 16.40625 13.09375 \nQ 16.40625 9.28125 17.640625 7.734375 \nQ 18.890625 6.203125 21.96875 6.203125 \nQ 23.25 6.203125 24.4375 6.390625 \nQ 25.640625 6.59375 27.046875 6.890625 \nz\n\" id=\"LiberationSans-116\"/>\n       <path d=\"M 20.21875 -0.984375 \nQ 12.25 -0.984375 8.25 3.21875 \nQ 4.25 7.421875 4.25 14.75 \nQ 4.25 19.96875 6.21875 23.3125 \nQ 8.203125 26.65625 11.390625 28.5625 \nQ 14.59375 30.46875 18.6875 31.203125 \nQ 22.796875 31.9375 27.046875 32.03125 \nL 38.921875 32.234375 \nL 38.921875 35.109375 \nQ 38.921875 38.375 38.234375 40.671875 \nQ 37.546875 42.96875 36.125 44.375 \nQ 34.71875 45.796875 32.59375 46.453125 \nQ 30.46875 47.125 27.59375 47.125 \nQ 25.046875 47.125 23 46.75 \nQ 20.953125 46.390625 19.4375 45.4375 \nQ 17.921875 44.484375 16.984375 42.84375 \nQ 16.0625 41.21875 15.765625 38.71875 \nL 6.59375 39.546875 \nQ 7.078125 42.671875 8.4375 45.28125 \nQ 9.8125 47.90625 12.328125 49.796875 \nQ 14.84375 51.703125 18.625 52.75 \nQ 22.40625 53.8125 27.78125 53.8125 \nQ 37.75 53.8125 42.765625 49.234375 \nQ 47.796875 44.671875 47.796875 36.03125 \nL 47.796875 13.28125 \nQ 47.796875 9.375 48.828125 7.390625 \nQ 49.859375 5.421875 52.734375 5.421875 \nQ 53.46875 5.421875 54.203125 5.515625 \nQ 54.9375 5.609375 55.609375 5.765625 \nL 55.609375 0.296875 \nQ 53.953125 -0.09375 52.3125 -0.28125 \nQ 50.6875 -0.484375 48.828125 -0.484375 \nQ 46.34375 -0.484375 44.5625 0.171875 \nQ 42.78125 0.828125 41.65625 2.171875 \nQ 40.53125 3.515625 39.9375 5.484375 \nQ 39.359375 7.46875 39.203125 10.109375 \nL 38.921875 10.109375 \nQ 37.5 7.5625 35.8125 5.515625 \nQ 34.125 3.46875 31.875 2.03125 \nQ 29.640625 0.59375 26.78125 -0.1875 \nQ 23.921875 -0.984375 20.21875 -0.984375 \nz\nM 22.21875 5.609375 \nQ 26.421875 5.609375 29.5625 7.140625 \nQ 32.71875 8.6875 34.78125 11.078125 \nQ 36.859375 13.484375 37.890625 16.3125 \nQ 38.921875 19.140625 38.921875 21.734375 \nL 38.921875 26.078125 \nL 29.296875 25.875 \nQ 26.078125 25.828125 23.171875 25.40625 \nQ 20.265625 25 18.0625 23.78125 \nQ 15.875 22.5625 14.578125 20.359375 \nQ 13.28125 18.171875 13.28125 14.59375 \nQ 13.28125 10.296875 15.59375 7.953125 \nQ 17.921875 5.609375 22.21875 5.609375 \nz\n\" id=\"LiberationSans-97\"/>\n      </defs>\n      <g style=\"fill:#262626;\" transform=\"translate(202.828125 33.3125)rotate(-90)scale(0.1 -0.1)\">\n       <use xlink:href=\"#LiberationSans-116\"/>\n       <use x=\"27.783203\" xlink:href=\"#LiberationSans-104\"/>\n       <use x=\"83.398438\" xlink:href=\"#LiberationSans-97\"/>\n       <use x=\"139.013672\" xlink:href=\"#LiberationSans-116\"/>\n      </g>\n     </g>\n    </g>\n    <g id=\"xtick_4\">\n     <g id=\"line2d_4\"/>\n     <g id=\"text_4\">\n      <!-- it -->\n      <defs>\n       <path d=\"M 6.6875 64.0625 \nL 6.6875 72.46875 \nL 15.484375 72.46875 \nL 15.484375 64.0625 \nz\nM 6.6875 0 \nL 6.6875 52.828125 \nL 15.484375 52.828125 \nL 15.484375 0 \nz\n\" id=\"LiberationSans-105\"/>\n      </defs>\n      <g style=\"fill:#262626;\" transform=\"translate(262.348125 33.3125)rotate(-90)scale(0.1 -0.1)\">\n       <use xlink:href=\"#LiberationSans-105\"/>\n       <use x=\"22.216797\" xlink:href=\"#LiberationSans-116\"/>\n      </g>\n     </g>\n    </g>\n    <g id=\"xtick_5\">\n     <g id=\"line2d_5\"/>\n     <g id=\"text_5\">\n      <!-- works -->\n      <defs>\n       <path d=\"M 57.328125 0 \nL 47.125 0 \nL 38.671875 34.078125 \nQ 38.28125 35.40625 37.859375 37.359375 \nQ 37.453125 39.3125 37.0625 41.15625 \nQ 36.578125 43.3125 36.140625 45.609375 \nQ 35.6875 43.40625 35.203125 41.265625 \nQ 34.8125 39.40625 34.34375 37.40625 \nQ 33.890625 35.40625 33.5 33.890625 \nL 24.8125 0 \nL 14.65625 0 \nL -0.140625 52.828125 \nL 8.546875 52.828125 \nL 17.484375 16.9375 \nQ 17.828125 15.828125 18.15625 14.1875 \nQ 18.5 12.546875 18.84375 10.984375 \nQ 19.1875 9.1875 19.578125 7.28125 \nQ 19.96875 9.125 20.40625 10.890625 \nQ 20.796875 12.40625 21.1875 13.96875 \nQ 21.578125 15.53125 21.875 16.546875 \nL 31.453125 52.828125 \nL 40.875 52.828125 \nL 50.09375 16.546875 \nQ 50.4375 15.28125 50.828125 13.671875 \nQ 51.21875 12.0625 51.5625 10.640625 \nQ 51.953125 8.984375 52.34375 7.28125 \nQ 52.734375 9.125 53.125 10.890625 \nQ 53.46875 12.40625 53.828125 14.03125 \nQ 54.203125 15.671875 54.546875 16.9375 \nL 63.875 52.828125 \nL 72.46875 52.828125 \nz\n\" id=\"LiberationSans-119\"/>\n       <path d=\"M 6.9375 0 \nL 6.9375 40.53125 \nQ 6.9375 42.1875 6.90625 43.921875 \nQ 6.890625 45.65625 6.828125 47.265625 \nQ 6.78125 48.875 6.734375 50.28125 \nQ 6.6875 51.703125 6.640625 52.828125 \nL 14.9375 52.828125 \nQ 14.984375 51.703125 15.0625 50.265625 \nQ 15.140625 48.828125 15.203125 47.3125 \nQ 15.28125 45.796875 15.296875 44.40625 \nQ 15.328125 43.015625 15.328125 42.046875 \nL 15.53125 42.046875 \nQ 16.453125 45.0625 17.5 47.28125 \nQ 18.5625 49.515625 19.96875 50.953125 \nQ 21.390625 52.390625 23.34375 53.09375 \nQ 25.296875 53.8125 28.078125 53.8125 \nQ 29.15625 53.8125 30.125 53.640625 \nQ 31.109375 53.46875 31.640625 53.328125 \nL 31.640625 45.265625 \nQ 30.765625 45.515625 29.59375 45.625 \nQ 28.421875 45.75 26.953125 45.75 \nQ 23.921875 45.75 21.796875 44.375 \nQ 19.671875 43.015625 18.328125 40.59375 \nQ 17 38.1875 16.359375 34.84375 \nQ 15.71875 31.5 15.71875 27.546875 \nL 15.71875 0 \nz\n\" id=\"LiberationSans-114\"/>\n       <path d=\"M 39.84375 0 \nL 21.96875 24.125 \nL 15.53125 18.796875 \nL 15.53125 0 \nL 6.734375 0 \nL 6.734375 72.46875 \nL 15.53125 72.46875 \nL 15.53125 27.203125 \nL 38.71875 52.828125 \nL 49.03125 52.828125 \nL 27.59375 30.125 \nL 50.140625 0 \nz\n\" id=\"LiberationSans-107\"/>\n       <path d=\"M 46.390625 14.59375 \nQ 46.390625 10.890625 44.9375 7.984375 \nQ 43.5 5.078125 40.765625 3.09375 \nQ 38.03125 1.125 34.046875 0.0625 \nQ 30.078125 -0.984375 24.953125 -0.984375 \nQ 20.359375 -0.984375 16.671875 -0.265625 \nQ 12.984375 0.4375 10.203125 2 \nQ 7.421875 3.5625 5.53125 6.125 \nQ 3.65625 8.6875 2.78125 12.40625 \nL 10.546875 13.921875 \nQ 11.671875 9.671875 15.1875 7.6875 \nQ 18.703125 5.71875 24.953125 5.71875 \nQ 27.78125 5.71875 30.140625 6.109375 \nQ 32.515625 6.5 34.21875 7.453125 \nQ 35.9375 8.40625 36.890625 9.984375 \nQ 37.84375 11.578125 37.84375 13.921875 \nQ 37.84375 16.3125 36.71875 17.84375 \nQ 35.59375 19.390625 33.59375 20.40625 \nQ 31.59375 21.4375 28.734375 22.1875 \nQ 25.875 22.953125 22.46875 23.875 \nQ 19.28125 24.703125 16.15625 25.734375 \nQ 13.03125 26.765625 10.515625 28.4375 \nQ 8.015625 30.125 6.453125 32.609375 \nQ 4.890625 35.109375 4.890625 38.875 \nQ 4.890625 46.09375 10.03125 49.875 \nQ 15.1875 53.65625 25.046875 53.65625 \nQ 33.796875 53.65625 38.9375 50.578125 \nQ 44.09375 47.515625 45.453125 40.71875 \nL 37.546875 39.75 \nQ 37.109375 41.796875 35.9375 43.1875 \nQ 34.765625 44.578125 33.109375 45.4375 \nQ 31.453125 46.296875 29.375 46.65625 \nQ 27.296875 47.015625 25.046875 47.015625 \nQ 19.09375 47.015625 16.25 45.203125 \nQ 13.421875 43.40625 13.421875 39.75 \nQ 13.421875 37.59375 14.46875 36.203125 \nQ 15.53125 34.8125 17.40625 33.859375 \nQ 19.28125 32.90625 21.921875 32.203125 \nQ 24.5625 31.5 27.734375 30.71875 \nQ 29.828125 30.171875 32.03125 29.5625 \nQ 34.234375 28.953125 36.296875 28.09375 \nQ 38.375 27.25 40.203125 26.09375 \nQ 42.046875 24.953125 43.40625 23.34375 \nQ 44.78125 21.734375 45.578125 19.578125 \nQ 46.390625 17.4375 46.390625 14.59375 \nz\n\" id=\"LiberationSans-115\"/>\n      </defs>\n      <g style=\"fill:#262626;\" transform=\"translate(321.868125 33.3125)rotate(-90)scale(0.1 -0.1)\">\n       <use xlink:href=\"#LiberationSans-119\"/>\n       <use x=\"72.216797\" xlink:href=\"#LiberationSans-111\"/>\n       <use x=\"127.832031\" xlink:href=\"#LiberationSans-114\"/>\n       <use x=\"161.132812\" xlink:href=\"#LiberationSans-107\"/>\n       <use x=\"211.132812\" xlink:href=\"#LiberationSans-115\"/>\n      </g>\n     </g>\n    </g>\n    <g id=\"xtick_6\">\n     <g id=\"line2d_6\"/>\n     <g id=\"text_6\">\n      <!-- out. -->\n      <defs>\n       <path d=\"M 15.328125 52.828125 \nL 15.328125 19.34375 \nQ 15.328125 15.484375 15.890625 12.890625 \nQ 16.453125 10.296875 17.71875 8.703125 \nQ 19 7.125 21.0625 6.46875 \nQ 23.140625 5.8125 26.21875 5.8125 \nQ 29.34375 5.8125 31.859375 6.90625 \nQ 34.375 8.015625 36.15625 10.078125 \nQ 37.9375 12.15625 38.90625 15.203125 \nQ 39.890625 18.265625 39.890625 22.21875 \nL 39.890625 52.828125 \nL 48.6875 52.828125 \nL 48.6875 11.28125 \nQ 48.6875 9.625 48.703125 7.78125 \nQ 48.734375 5.953125 48.78125 4.3125 \nQ 48.828125 2.6875 48.875 1.515625 \nQ 48.921875 0.34375 48.96875 0 \nL 40.671875 0 \nQ 40.625 0.25 40.578125 1.3125 \nQ 40.53125 2.390625 40.453125 3.78125 \nQ 40.375 5.171875 40.328125 6.609375 \nQ 40.28125 8.0625 40.28125 9.03125 \nL 40.140625 9.03125 \nQ 38.875 6.734375 37.359375 4.875 \nQ 35.84375 3.03125 33.84375 1.734375 \nQ 31.84375 0.4375 29.25 -0.265625 \nQ 26.65625 -0.984375 23.25 -0.984375 \nQ 18.84375 -0.984375 15.671875 0.09375 \nQ 12.5 1.171875 10.453125 3.421875 \nQ 8.40625 5.671875 7.453125 9.1875 \nQ 6.5 12.703125 6.5 17.625 \nL 6.5 52.828125 \nz\n\" id=\"LiberationSans-117\"/>\n       <path d=\"M 9.125 0 \nL 9.125 10.6875 \nL 18.65625 10.6875 \nL 18.65625 0 \nz\n\" id=\"LiberationSans-46\"/>\n      </defs>\n      <g style=\"fill:#262626;\" transform=\"translate(381.388125 33.3125)rotate(-90)scale(0.1 -0.1)\">\n       <use xlink:href=\"#LiberationSans-111\"/>\n       <use x=\"55.615234\" xlink:href=\"#LiberationSans-117\"/>\n       <use x=\"111.230469\" xlink:href=\"#LiberationSans-116\"/>\n       <use x=\"139.013672\" xlink:href=\"#LiberationSans-46\"/>\n      </g>\n     </g>\n    </g>\n   </g>\n   <g id=\"matplotlib.axis_2\">\n    <g id=\"ytick_1\">\n     <g id=\"line2d_7\"/>\n     <g id=\"text_7\">\n      <!-- Jag -->\n      <defs>\n       <path d=\"M 22.3125 -0.984375 \nQ 13.96875 -0.984375 8.609375 3.359375 \nQ 3.265625 7.71875 1.5625 17.09375 \nL 10.6875 18.609375 \nQ 11.1875 15.4375 12.296875 13.15625 \nQ 13.421875 10.890625 14.984375 9.421875 \nQ 16.546875 7.953125 18.453125 7.265625 \nQ 20.359375 6.59375 22.359375 6.59375 \nQ 27.4375 6.59375 30.359375 10.078125 \nQ 33.296875 13.578125 33.296875 20.3125 \nL 33.296875 61.1875 \nL 20.0625 61.1875 \nL 20.0625 68.796875 \nL 42.578125 68.796875 \nL 42.578125 20.515625 \nQ 42.578125 15.578125 41.203125 11.625 \nQ 39.84375 7.671875 37.234375 4.859375 \nQ 34.625 2.046875 30.859375 0.53125 \nQ 27.09375 -0.984375 22.3125 -0.984375 \nz\n\" id=\"LiberationSans-74\"/>\n       <path d=\"M 26.765625 -20.75 \nQ 22.21875 -20.75 18.703125 -19.8125 \nQ 15.1875 -18.890625 12.6875 -17.15625 \nQ 10.203125 -15.4375 8.640625 -13.03125 \nQ 7.078125 -10.640625 6.390625 -7.71875 \nL 15.234375 -6.453125 \nQ 16.109375 -10.109375 19.109375 -12.078125 \nQ 22.125 -14.0625 27 -14.0625 \nQ 29.984375 -14.0625 32.421875 -13.234375 \nQ 34.859375 -12.40625 36.5625 -10.5625 \nQ 38.28125 -8.734375 39.203125 -5.796875 \nQ 40.140625 -2.875 40.140625 1.3125 \nL 40.140625 9.8125 \nL 40.046875 9.8125 \nQ 39.0625 7.8125 37.625 5.984375 \nQ 36.1875 4.15625 34.109375 2.734375 \nQ 32.03125 1.3125 29.296875 0.453125 \nQ 26.5625 -0.390625 23.046875 -0.390625 \nQ 18.015625 -0.390625 14.421875 1.296875 \nQ 10.84375 2.984375 8.5625 6.34375 \nQ 6.296875 9.71875 5.25 14.71875 \nQ 4.203125 19.734375 4.203125 26.3125 \nQ 4.203125 32.671875 5.25 37.75 \nQ 6.296875 42.828125 8.65625 46.359375 \nQ 11.03125 49.90625 14.8125 51.78125 \nQ 18.609375 53.65625 24.03125 53.65625 \nQ 29.640625 53.65625 33.765625 51.09375 \nQ 37.890625 48.53125 40.140625 43.796875 \nL 40.234375 43.796875 \nQ 40.234375 45.015625 40.296875 46.53125 \nQ 40.375 48.046875 40.453125 49.390625 \nQ 40.53125 50.734375 40.625 51.703125 \nQ 40.71875 52.6875 40.828125 52.828125 \nL 49.171875 52.828125 \nQ 49.125 52.390625 49.078125 51.34375 \nQ 49.03125 50.296875 48.96875 48.828125 \nQ 48.921875 47.359375 48.890625 45.578125 \nQ 48.875 43.796875 48.875 41.890625 \nL 48.875 1.515625 \nQ 48.875 -9.578125 43.421875 -15.15625 \nQ 37.984375 -20.75 26.765625 -20.75 \nz\nM 40.140625 26.421875 \nQ 40.140625 31.9375 38.9375 35.859375 \nQ 37.75 39.796875 35.796875 42.28125 \nQ 33.84375 44.78125 31.328125 45.953125 \nQ 28.8125 47.125 26.171875 47.125 \nQ 22.796875 47.125 20.375 45.953125 \nQ 17.96875 44.78125 16.375 42.265625 \nQ 14.796875 39.75 14.03125 35.8125 \nQ 13.28125 31.890625 13.28125 26.421875 \nQ 13.28125 20.703125 14.03125 16.8125 \nQ 14.796875 12.9375 16.359375 10.546875 \nQ 17.921875 8.15625 20.3125 7.125 \nQ 22.703125 6.109375 26.03125 6.109375 \nQ 28.65625 6.109375 31.171875 7.21875 \nQ 33.6875 8.34375 35.6875 10.78125 \nQ 37.703125 13.234375 38.921875 17.09375 \nQ 40.140625 20.953125 40.140625 26.421875 \nz\n\" id=\"LiberationSans-103\"/>\n      </defs>\n      <g style=\"fill:#262626;\" transform=\"translate(28.320313 56.393437)scale(0.1 -0.1)\">\n       <use xlink:href=\"#LiberationSans-74\"/>\n       <use x=\"50\" xlink:href=\"#LiberationSans-97\"/>\n       <use x=\"105.615234\" xlink:href=\"#LiberationSans-103\"/>\n      </g>\n     </g>\n    </g>\n    <g id=\"ytick_2\">\n     <g id=\"line2d_8\"/>\n     <g id=\"text_8\">\n      <!-- hoppas -->\n      <g style=\"fill:#262626;\" transform=\"translate(11.6375 81.308437)scale(0.1 -0.1)\">\n       <use xlink:href=\"#LiberationSans-104\"/>\n       <use x=\"55.615234\" xlink:href=\"#LiberationSans-111\"/>\n       <use x=\"111.230469\" xlink:href=\"#LiberationSans-112\"/>\n       <use x=\"166.845703\" xlink:href=\"#LiberationSans-112\"/>\n       <use x=\"222.460938\" xlink:href=\"#LiberationSans-97\"/>\n       <use x=\"278.076172\" xlink:href=\"#LiberationSans-115\"/>\n      </g>\n     </g>\n    </g>\n    <g id=\"ytick_3\">\n     <g id=\"line2d_9\"/>\n     <g id=\"text_9\">\n      <!-- att -->\n      <g style=\"fill:#262626;\" transform=\"translate(33.325 106.223437)scale(0.1 -0.1)\">\n       <use xlink:href=\"#LiberationSans-97\"/>\n       <use x=\"55.615234\" xlink:href=\"#LiberationSans-116\"/>\n       <use x=\"83.398438\" xlink:href=\"#LiberationSans-116\"/>\n      </g>\n     </g>\n    </g>\n    <g id=\"ytick_4\">\n     <g id=\"line2d_10\"/>\n     <g id=\"text_10\">\n      <!-- det -->\n      <defs>\n       <path d=\"M 40.09375 8.5 \nQ 37.640625 3.421875 33.609375 1.21875 \nQ 29.59375 -0.984375 23.640625 -0.984375 \nQ 13.625 -0.984375 8.90625 5.75 \nQ 4.203125 12.5 4.203125 26.171875 \nQ 4.203125 53.8125 23.640625 53.8125 \nQ 29.640625 53.8125 33.640625 51.609375 \nQ 37.640625 49.421875 40.09375 44.625 \nL 40.1875 44.625 \nQ 40.1875 45.125 40.15625 46.171875 \nQ 40.140625 47.21875 40.109375 48.359375 \nQ 40.09375 49.515625 40.09375 50.53125 \nQ 40.09375 51.5625 40.09375 52 \nL 40.09375 72.46875 \nL 48.875 72.46875 \nL 48.875 10.890625 \nQ 48.875 8.984375 48.890625 7.21875 \nQ 48.921875 5.46875 48.96875 4 \nQ 49.03125 2.546875 49.078125 1.484375 \nQ 49.125 0.4375 49.171875 0 \nL 40.765625 0 \nQ 40.671875 0.484375 40.59375 1.390625 \nQ 40.53125 2.296875 40.453125 3.46875 \nQ 40.375 4.640625 40.328125 5.9375 \nQ 40.28125 7.234375 40.28125 8.5 \nz\nM 13.421875 26.46875 \nQ 13.421875 21 14.109375 17.09375 \nQ 14.796875 13.1875 16.3125 10.671875 \nQ 17.828125 8.15625 20.171875 6.984375 \nQ 22.515625 5.8125 25.875 5.8125 \nQ 29.34375 5.8125 32 6.9375 \nQ 34.671875 8.0625 36.453125 10.578125 \nQ 38.234375 13.09375 39.15625 17.140625 \nQ 40.09375 21.1875 40.09375 27.046875 \nQ 40.09375 32.671875 39.15625 36.546875 \nQ 38.234375 40.4375 36.421875 42.828125 \nQ 34.625 45.21875 32 46.265625 \nQ 29.390625 47.3125 25.984375 47.3125 \nQ 22.75 47.3125 20.40625 46.1875 \nQ 18.0625 45.0625 16.5 42.578125 \nQ 14.9375 40.09375 14.171875 36.109375 \nQ 13.421875 32.125 13.421875 26.46875 \nz\n\" id=\"LiberationSans-100\"/>\n      </defs>\n      <g style=\"fill:#262626;\" transform=\"translate(30.542188 131.138437)scale(0.1 -0.1)\">\n       <use xlink:href=\"#LiberationSans-100\"/>\n       <use x=\"55.615234\" xlink:href=\"#LiberationSans-101\"/>\n       <use x=\"111.230469\" xlink:href=\"#LiberationSans-116\"/>\n      </g>\n     </g>\n    </g>\n    <g id=\"ytick_5\">\n     <g id=\"line2d_11\"/>\n     <g id=\"text_11\">\n      <!-- är -->\n      <defs>\n       <path d=\"M 20.21875 -0.984375 \nQ 12.25 -0.984375 8.25 3.21875 \nQ 4.25 7.421875 4.25 14.75 \nQ 4.25 19.96875 6.21875 23.3125 \nQ 8.203125 26.65625 11.390625 28.5625 \nQ 14.59375 30.46875 18.6875 31.203125 \nQ 22.796875 31.9375 27.046875 32.03125 \nL 38.921875 32.234375 \nL 38.921875 35.109375 \nQ 38.921875 38.375 38.234375 40.671875 \nQ 37.546875 42.96875 36.125 44.375 \nQ 34.71875 45.796875 32.59375 46.453125 \nQ 30.46875 47.125 27.59375 47.125 \nQ 25.046875 47.125 23 46.75 \nQ 20.953125 46.390625 19.4375 45.4375 \nQ 17.921875 44.484375 16.984375 42.84375 \nQ 16.0625 41.21875 15.765625 38.71875 \nL 6.59375 39.546875 \nQ 7.078125 42.671875 8.4375 45.28125 \nQ 9.8125 47.90625 12.328125 49.796875 \nQ 14.84375 51.703125 18.625 52.75 \nQ 22.40625 53.8125 27.78125 53.8125 \nQ 37.75 53.8125 42.765625 49.234375 \nQ 47.796875 44.671875 47.796875 36.03125 \nL 47.796875 13.28125 \nQ 47.796875 9.375 48.828125 7.390625 \nQ 49.859375 5.421875 52.734375 5.421875 \nQ 53.46875 5.421875 54.203125 5.515625 \nQ 54.9375 5.609375 55.609375 5.765625 \nL 55.609375 0.296875 \nQ 53.953125 -0.09375 52.3125 -0.28125 \nQ 50.6875 -0.484375 48.828125 -0.484375 \nQ 46.34375 -0.484375 44.5625 0.171875 \nQ 42.78125 0.828125 41.65625 2.171875 \nQ 40.53125 3.515625 39.9375 5.484375 \nQ 39.359375 7.46875 39.203125 10.109375 \nL 38.921875 10.109375 \nQ 37.5 7.5625 35.8125 5.515625 \nQ 34.125 3.46875 31.875 2.03125 \nQ 29.640625 0.59375 26.78125 -0.1875 \nQ 23.921875 -0.984375 20.21875 -0.984375 \nz\nM 22.21875 5.609375 \nQ 26.421875 5.609375 29.5625 7.140625 \nQ 32.71875 8.6875 34.78125 11.078125 \nQ 36.859375 13.484375 37.890625 16.3125 \nQ 38.921875 19.140625 38.921875 21.734375 \nL 38.921875 26.078125 \nL 29.296875 25.875 \nQ 26.078125 25.828125 23.171875 25.40625 \nQ 20.265625 25 18.0625 23.78125 \nQ 15.875 22.5625 14.578125 20.359375 \nQ 13.28125 18.171875 13.28125 14.59375 \nQ 13.28125 10.296875 15.59375 7.953125 \nQ 17.921875 5.609375 22.21875 5.609375 \nz\nM 32.9375 59.515625 \nL 32.9375 68.5 \nL 40.890625 68.5 \nL 40.890625 59.515625 \nz\nM 13.703125 59.515625 \nL 13.703125 68.5 \nL 21.75 68.5 \nL 21.75 59.515625 \nz\n\" id=\"LiberationSans-228\"/>\n      </defs>\n      <g style=\"fill:#262626;\" transform=\"translate(35.551563 156.053437)scale(0.1 -0.1)\">\n       <use xlink:href=\"#LiberationSans-228\"/>\n       <use x=\"55.615234\" xlink:href=\"#LiberationSans-114\"/>\n      </g>\n     </g>\n    </g>\n    <g id=\"ytick_6\">\n     <g id=\"line2d_12\"/>\n     <g id=\"text_12\">\n      <!-- mycket -->\n      <defs>\n       <path d=\"M 37.5 0 \nL 37.5 33.5 \nQ 37.5 37.359375 37.015625 39.9375 \nQ 36.53125 42.53125 35.375 44.109375 \nQ 34.234375 45.703125 32.375 46.359375 \nQ 30.515625 47.015625 27.828125 47.015625 \nQ 25.046875 47.015625 22.796875 45.921875 \nQ 20.5625 44.828125 18.96875 42.75 \nQ 17.390625 40.671875 16.53125 37.625 \nQ 15.671875 34.578125 15.671875 30.609375 \nL 15.671875 0 \nL 6.9375 0 \nL 6.9375 41.546875 \nQ 6.9375 43.21875 6.90625 45.046875 \nQ 6.890625 46.875 6.828125 48.5 \nQ 6.78125 50.140625 6.734375 51.3125 \nQ 6.6875 52.484375 6.640625 52.828125 \nL 14.9375 52.828125 \nQ 14.984375 52.59375 15.03125 51.515625 \nQ 15.09375 50.4375 15.15625 49.046875 \nQ 15.234375 47.65625 15.28125 46.21875 \nQ 15.328125 44.78125 15.328125 43.796875 \nL 15.484375 43.796875 \nQ 16.65625 46.09375 18.015625 47.953125 \nQ 19.390625 49.8125 21.21875 51.09375 \nQ 23.046875 52.390625 25.40625 53.09375 \nQ 27.78125 53.8125 30.90625 53.8125 \nQ 36.921875 53.8125 40.40625 51.421875 \nQ 43.890625 49.03125 45.265625 43.796875 \nL 45.40625 43.796875 \nQ 46.578125 46.09375 48.046875 47.953125 \nQ 49.515625 49.8125 51.46875 51.09375 \nQ 53.421875 52.390625 55.859375 53.09375 \nQ 58.296875 53.8125 61.421875 53.8125 \nQ 65.4375 53.8125 68.328125 52.734375 \nQ 71.234375 51.65625 73.09375 49.40625 \nQ 74.953125 47.171875 75.828125 43.625 \nQ 76.703125 40.09375 76.703125 35.203125 \nL 76.703125 0 \nL 68.015625 0 \nL 68.015625 33.5 \nQ 68.015625 37.359375 67.53125 39.9375 \nQ 67.046875 42.53125 65.890625 44.109375 \nQ 64.75 45.703125 62.890625 46.359375 \nQ 61.03125 47.015625 58.34375 47.015625 \nQ 55.5625 47.015625 53.3125 45.96875 \nQ 51.078125 44.921875 49.484375 42.875 \nQ 47.90625 40.828125 47.046875 37.75 \nQ 46.1875 34.671875 46.1875 30.609375 \nL 46.1875 0 \nz\n\" id=\"LiberationSans-109\"/>\n       <path d=\"M 29.5 0 \nQ 27.640625 -4.78125 25.703125 -8.609375 \nQ 23.78125 -12.453125 21.390625 -15.15625 \nQ 19 -17.875 16.0625 -19.3125 \nQ 13.140625 -20.75 9.328125 -20.75 \nQ 7.671875 -20.75 6.25 -20.65625 \nQ 4.828125 -20.5625 3.265625 -20.21875 \nL 3.265625 -13.625 \nQ 4.203125 -13.765625 5.375 -13.84375 \nQ 6.546875 -13.921875 7.375 -13.921875 \nQ 11.234375 -13.921875 14.546875 -11.03125 \nQ 17.875 -8.15625 20.359375 -1.859375 \nL 21.1875 0.25 \nL 0.25 52.828125 \nL 9.625 52.828125 \nL 20.75 23.640625 \nQ 21.234375 22.3125 21.984375 20.109375 \nQ 22.75 17.921875 23.5 15.71875 \nQ 24.265625 13.53125 24.84375 11.765625 \nQ 25.4375 10.015625 25.53125 9.578125 \nQ 25.6875 10.109375 26.25 11.6875 \nQ 26.8125 13.28125 27.515625 15.234375 \nQ 28.21875 17.1875 28.953125 19.1875 \nQ 29.6875 21.1875 30.171875 22.65625 \nL 40.53125 52.828125 \nL 49.8125 52.828125 \nz\n\" id=\"LiberationSans-121\"/>\n       <path d=\"M 13.421875 26.65625 \nQ 13.421875 22.125 14.078125 18.3125 \nQ 14.75 14.5 16.3125 11.734375 \nQ 17.875 8.984375 20.4375 7.46875 \nQ 23 5.953125 26.765625 5.953125 \nQ 31.453125 5.953125 34.59375 8.484375 \nQ 37.75 11.03125 38.484375 16.3125 \nL 47.359375 15.71875 \nQ 46.921875 12.453125 45.453125 9.421875 \nQ 44 6.390625 41.484375 4.09375 \nQ 38.96875 1.8125 35.34375 0.40625 \nQ 31.734375 -0.984375 27 -0.984375 \nQ 20.796875 -0.984375 16.453125 1.109375 \nQ 12.109375 3.21875 9.390625 6.90625 \nQ 6.6875 10.59375 5.46875 15.59375 \nQ 4.25 20.609375 4.25 26.46875 \nQ 4.25 31.78125 5.125 35.859375 \nQ 6 39.9375 7.59375 42.984375 \nQ 9.1875 46.046875 11.328125 48.125 \nQ 13.484375 50.203125 15.984375 51.4375 \nQ 18.5 52.6875 21.28125 53.25 \nQ 24.078125 53.8125 26.90625 53.8125 \nQ 31.34375 53.8125 34.8125 52.59375 \nQ 38.28125 51.375 40.796875 49.25 \nQ 43.3125 47.125 44.875 44.234375 \nQ 46.4375 41.359375 47.078125 38.03125 \nL 38.03125 37.359375 \nQ 37.359375 41.75 34.5625 44.328125 \nQ 31.78125 46.921875 26.65625 46.921875 \nQ 22.90625 46.921875 20.390625 45.671875 \nQ 17.875 44.4375 16.3125 41.921875 \nQ 14.75 39.40625 14.078125 35.59375 \nQ 13.421875 31.78125 13.421875 26.65625 \nz\n\" id=\"LiberationSans-99\"/>\n      </defs>\n      <g style=\"fill:#262626;\" transform=\"translate(12.773438 180.968437)scale(0.1 -0.1)\">\n       <use xlink:href=\"#LiberationSans-109\"/>\n       <use x=\"83.300781\" xlink:href=\"#LiberationSans-121\"/>\n       <use x=\"133.300781\" xlink:href=\"#LiberationSans-99\"/>\n       <use x=\"183.300781\" xlink:href=\"#LiberationSans-107\"/>\n       <use x=\"233.300781\" xlink:href=\"#LiberationSans-101\"/>\n       <use x=\"288.916016\" xlink:href=\"#LiberationSans-116\"/>\n      </g>\n     </g>\n    </g>\n    <g id=\"ytick_7\">\n     <g id=\"line2d_13\"/>\n     <g id=\"text_13\">\n      <!-- viktigt -->\n      <defs>\n       <path d=\"M 29.9375 0 \nL 19.53125 0 \nL 0.34375 52.828125 \nL 9.71875 52.828125 \nL 21.34375 18.453125 \nQ 21.6875 17.390625 22.140625 15.84375 \nQ 22.609375 14.3125 23.09375 12.640625 \nQ 23.578125 10.984375 24 9.4375 \nQ 24.421875 7.90625 24.703125 6.890625 \nQ 25 7.90625 25.453125 9.4375 \nQ 25.921875 10.984375 26.40625 12.59375 \nQ 26.90625 14.203125 27.421875 15.734375 \nQ 27.9375 17.28125 28.328125 18.359375 \nL 40.328125 52.828125 \nL 49.65625 52.828125 \nz\n\" id=\"LiberationSans-118\"/>\n      </defs>\n      <g style=\"fill:#262626;\" transform=\"translate(18.88125 205.883437)scale(0.1 -0.1)\">\n       <use xlink:href=\"#LiberationSans-118\"/>\n       <use x=\"50\" xlink:href=\"#LiberationSans-105\"/>\n       <use x=\"72.216797\" xlink:href=\"#LiberationSans-107\"/>\n       <use x=\"122.216797\" xlink:href=\"#LiberationSans-116\"/>\n       <use x=\"150\" xlink:href=\"#LiberationSans-105\"/>\n       <use x=\"172.216797\" xlink:href=\"#LiberationSans-103\"/>\n       <use x=\"227.832031\" xlink:href=\"#LiberationSans-116\"/>\n      </g>\n     </g>\n    </g>\n    <g id=\"ytick_8\">\n     <g id=\"line2d_14\"/>\n     <g id=\"text_14\">\n      <!-- att -->\n      <g style=\"fill:#262626;\" transform=\"translate(33.325 230.798437)scale(0.1 -0.1)\">\n       <use xlink:href=\"#LiberationSans-97\"/>\n       <use x=\"55.615234\" xlink:href=\"#LiberationSans-116\"/>\n       <use x=\"83.398438\" xlink:href=\"#LiberationSans-116\"/>\n      </g>\n     </g>\n    </g>\n    <g id=\"ytick_9\">\n     <g id=\"line2d_15\"/>\n     <g id=\"text_15\">\n      <!-- det -->\n      <g style=\"fill:#262626;\" transform=\"translate(30.542188 255.713437)scale(0.1 -0.1)\">\n       <use xlink:href=\"#LiberationSans-100\"/>\n       <use x=\"55.615234\" xlink:href=\"#LiberationSans-101\"/>\n       <use x=\"111.230469\" xlink:href=\"#LiberationSans-116\"/>\n      </g>\n     </g>\n    </g>\n    <g id=\"ytick_10\">\n     <g id=\"line2d_16\"/>\n     <g id=\"text_16\">\n      <!-- fungerar -->\n      <defs>\n       <path d=\"M 17.625 46.4375 \nL 17.625 0 \nL 8.84375 0 \nL 8.84375 46.4375 \nL 1.421875 46.4375 \nL 1.421875 52.828125 \nL 8.84375 52.828125 \nL 8.84375 58.796875 \nQ 8.84375 61.671875 9.375 64.140625 \nQ 9.90625 66.609375 11.34375 68.4375 \nQ 12.796875 70.265625 15.28125 71.3125 \nQ 17.78125 72.359375 21.734375 72.359375 \nQ 23.296875 72.359375 24.96875 72.21875 \nQ 26.65625 72.078125 27.9375 71.78125 \nL 27.9375 65.09375 \nQ 27.09375 65.234375 26 65.359375 \nQ 24.90625 65.484375 24.03125 65.484375 \nQ 22.078125 65.484375 20.828125 64.9375 \nQ 19.578125 64.40625 18.875 63.40625 \nQ 18.171875 62.40625 17.890625 60.9375 \nQ 17.625 59.46875 17.625 57.5625 \nL 17.625 52.828125 \nL 27.9375 52.828125 \nL 27.9375 46.4375 \nz\n\" id=\"LiberationSans-102\"/>\n       <path d=\"M 40.28125 0 \nL 40.28125 33.5 \nQ 40.28125 37.359375 39.71875 39.9375 \nQ 39.15625 42.53125 37.890625 44.109375 \nQ 36.625 45.703125 34.546875 46.359375 \nQ 32.46875 47.015625 29.390625 47.015625 \nQ 26.265625 47.015625 23.75 45.921875 \nQ 21.234375 44.828125 19.453125 42.75 \nQ 17.671875 40.671875 16.6875 37.625 \nQ 15.71875 34.578125 15.71875 30.609375 \nL 15.71875 0 \nL 6.9375 0 \nL 6.9375 41.546875 \nQ 6.9375 43.21875 6.90625 45.046875 \nQ 6.890625 46.875 6.828125 48.5 \nQ 6.78125 50.140625 6.734375 51.3125 \nQ 6.6875 52.484375 6.640625 52.828125 \nL 14.9375 52.828125 \nQ 14.984375 52.59375 15.03125 51.515625 \nQ 15.09375 50.4375 15.15625 49.046875 \nQ 15.234375 47.65625 15.28125 46.21875 \nQ 15.328125 44.78125 15.328125 43.796875 \nL 15.484375 43.796875 \nQ 16.75 46.09375 18.265625 47.953125 \nQ 19.78125 49.8125 21.78125 51.09375 \nQ 23.78125 52.390625 26.359375 53.09375 \nQ 28.953125 53.8125 32.375 53.8125 \nQ 36.765625 53.8125 39.9375 52.734375 \nQ 43.109375 51.65625 45.15625 49.40625 \nQ 47.21875 47.171875 48.171875 43.625 \nQ 49.125 40.09375 49.125 35.203125 \nL 49.125 0 \nz\n\" id=\"LiberationSans-110\"/>\n      </defs>\n      <g style=\"fill:#262626;\" transform=\"translate(7.2 280.628437)scale(0.1 -0.1)\">\n       <use xlink:href=\"#LiberationSans-102\"/>\n       <use x=\"27.783203\" xlink:href=\"#LiberationSans-117\"/>\n       <use x=\"83.398438\" xlink:href=\"#LiberationSans-110\"/>\n       <use x=\"139.013672\" xlink:href=\"#LiberationSans-103\"/>\n       <use x=\"194.628906\" xlink:href=\"#LiberationSans-101\"/>\n       <use x=\"250.244141\" xlink:href=\"#LiberationSans-114\"/>\n       <use x=\"283.544922\" xlink:href=\"#LiberationSans-97\"/>\n       <use x=\"339.160156\" xlink:href=\"#LiberationSans-114\"/>\n      </g>\n     </g>\n    </g>\n    <g id=\"ytick_11\">\n     <g id=\"line2d_17\"/>\n     <g id=\"text_17\">\n      <!-- att -->\n      <g style=\"fill:#262626;\" transform=\"translate(33.325 305.543437)scale(0.1 -0.1)\">\n       <use xlink:href=\"#LiberationSans-97\"/>\n       <use x=\"55.615234\" xlink:href=\"#LiberationSans-116\"/>\n       <use x=\"83.398438\" xlink:href=\"#LiberationSans-116\"/>\n      </g>\n     </g>\n    </g>\n    <g id=\"ytick_12\">\n     <g id=\"line2d_18\"/>\n     <g id=\"text_18\">\n      <!-- man -->\n      <g style=\"fill:#262626;\" transform=\"translate(24.990625 330.458437)scale(0.1 -0.1)\">\n       <use xlink:href=\"#LiberationSans-109\"/>\n       <use x=\"83.300781\" xlink:href=\"#LiberationSans-97\"/>\n       <use x=\"138.916016\" xlink:href=\"#LiberationSans-110\"/>\n      </g>\n     </g>\n    </g>\n   </g>\n   <g id=\"PolyCollection_1\">\n    <path clip-path=\"url(#p1752ed27ab)\" d=\"M 51.442188 40.3125 \nL 51.442188 65.2275 \nL 110.962188 65.2275 \nL 110.962188 40.3125 \nL 51.442188 40.3125 \nz\n\" style=\"fill:#084f99;\"/>\n    <path clip-path=\"url(#p1752ed27ab)\" d=\"M 110.962188 40.3125 \nL 110.962188 65.2275 \nL 170.482188 65.2275 \nL 170.482188 40.3125 \nL 110.962188 40.3125 \nz\n\" style=\"fill:#d9e8f5;\"/>\n    <path clip-path=\"url(#p1752ed27ab)\" d=\"M 170.482188 40.3125 \nL 170.482188 65.2275 \nL 230.002188 65.2275 \nL 230.002188 40.3125 \nL 170.482188 40.3125 \nz\n\" style=\"fill:#105ba4;\"/>\n    <path clip-path=\"url(#p1752ed27ab)\" d=\"M 230.002188 40.3125 \nL 230.002188 65.2275 \nL 289.522188 65.2275 \nL 289.522188 40.3125 \nL 230.002188 40.3125 \nz\n\" style=\"fill:#084990;\"/>\n    <path clip-path=\"url(#p1752ed27ab)\" d=\"M 289.522188 40.3125 \nL 289.522188 65.2275 \nL 349.042188 65.2275 \nL 349.042188 40.3125 \nL 289.522188 40.3125 \nz\n\" style=\"fill:#084285;\"/>\n    <path clip-path=\"url(#p1752ed27ab)\" d=\"M 349.042188 40.3125 \nL 349.042188 65.2275 \nL 408.562188 65.2275 \nL 408.562188 40.3125 \nL 349.042188 40.3125 \nz\n\" style=\"fill:#084488;\"/>\n    <path clip-path=\"url(#p1752ed27ab)\" d=\"M 51.442188 65.2275 \nL 51.442188 90.1425 \nL 110.962188 90.1425 \nL 110.962188 65.2275 \nL 51.442188 65.2275 \nz\n\" style=\"fill:#084d96;\"/>\n    <path clip-path=\"url(#p1752ed27ab)\" d=\"M 110.962188 65.2275 \nL 110.962188 90.1425 \nL 170.482188 90.1425 \nL 170.482188 65.2275 \nL 110.962188 65.2275 \nz\n\" style=\"fill:#f7fbff;\"/>\n    <path clip-path=\"url(#p1752ed27ab)\" d=\"M 170.482188 65.2275 \nL 170.482188 90.1425 \nL 230.002188 90.1425 \nL 230.002188 65.2275 \nL 170.482188 65.2275 \nz\n\" style=\"fill:#084184;\"/>\n    <path clip-path=\"url(#p1752ed27ab)\" d=\"M 230.002188 65.2275 \nL 230.002188 90.1425 \nL 289.522188 90.1425 \nL 289.522188 65.2275 \nL 230.002188 65.2275 \nz\n\" style=\"fill:#083877;\"/>\n    <path clip-path=\"url(#p1752ed27ab)\" d=\"M 289.522188 65.2275 \nL 289.522188 90.1425 \nL 349.042188 90.1425 \nL 349.042188 65.2275 \nL 289.522188 65.2275 \nz\n\" style=\"fill:#08468b;\"/>\n    <path clip-path=\"url(#p1752ed27ab)\" d=\"M 349.042188 65.2275 \nL 349.042188 90.1425 \nL 408.562188 90.1425 \nL 408.562188 65.2275 \nL 349.042188 65.2275 \nz\n\" style=\"fill:#08468b;\"/>\n    <path clip-path=\"url(#p1752ed27ab)\" d=\"M 51.442188 90.1425 \nL 51.442188 115.0575 \nL 110.962188 115.0575 \nL 110.962188 90.1425 \nL 51.442188 90.1425 \nz\n\" style=\"fill:#084e98;\"/>\n    <path clip-path=\"url(#p1752ed27ab)\" d=\"M 110.962188 90.1425 \nL 110.962188 115.0575 \nL 170.482188 115.0575 \nL 170.482188 90.1425 \nL 110.962188 90.1425 \nz\n\" style=\"fill:#ccdff1;\"/>\n    <path clip-path=\"url(#p1752ed27ab)\" d=\"M 170.482188 90.1425 \nL 170.482188 115.0575 \nL 230.002188 115.0575 \nL 230.002188 90.1425 \nL 170.482188 90.1425 \nz\n\" style=\"fill:#2777b8;\"/>\n    <path clip-path=\"url(#p1752ed27ab)\" d=\"M 230.002188 90.1425 \nL 230.002188 115.0575 \nL 289.522188 115.0575 \nL 289.522188 90.1425 \nL 230.002188 90.1425 \nz\n\" style=\"fill:#083e81;\"/>\n    <path clip-path=\"url(#p1752ed27ab)\" d=\"M 289.522188 90.1425 \nL 289.522188 115.0575 \nL 349.042188 115.0575 \nL 349.042188 90.1425 \nL 289.522188 90.1425 \nz\n\" style=\"fill:#084082;\"/>\n    <path clip-path=\"url(#p1752ed27ab)\" d=\"M 349.042188 90.1425 \nL 349.042188 115.0575 \nL 408.562188 115.0575 \nL 408.562188 90.1425 \nL 349.042188 90.1425 \nz\n\" style=\"fill:#08468b;\"/>\n    <path clip-path=\"url(#p1752ed27ab)\" d=\"M 51.442188 115.0575 \nL 51.442188 139.9725 \nL 110.962188 139.9725 \nL 110.962188 115.0575 \nL 51.442188 115.0575 \nz\n\" style=\"fill:#083979;\"/>\n    <path clip-path=\"url(#p1752ed27ab)\" d=\"M 110.962188 115.0575 \nL 110.962188 139.9725 \nL 170.482188 139.9725 \nL 170.482188 115.0575 \nL 110.962188 115.0575 \nz\n\" style=\"fill:#084e98;\"/>\n    <path clip-path=\"url(#p1752ed27ab)\" d=\"M 170.482188 115.0575 \nL 170.482188 139.9725 \nL 230.002188 139.9725 \nL 230.002188 115.0575 \nL 170.482188 115.0575 \nz\n\" style=\"fill:#1562a9;\"/>\n    <path clip-path=\"url(#p1752ed27ab)\" d=\"M 230.002188 115.0575 \nL 230.002188 139.9725 \nL 289.522188 139.9725 \nL 289.522188 115.0575 \nL 230.002188 115.0575 \nz\n\" style=\"fill:#6caed6;\"/>\n    <path clip-path=\"url(#p1752ed27ab)\" d=\"M 289.522188 115.0575 \nL 289.522188 139.9725 \nL 349.042188 139.9725 \nL 349.042188 115.0575 \nL 289.522188 115.0575 \nz\n\" style=\"fill:#3686c0;\"/>\n    <path clip-path=\"url(#p1752ed27ab)\" d=\"M 349.042188 115.0575 \nL 349.042188 139.9725 \nL 408.562188 139.9725 \nL 408.562188 115.0575 \nL 349.042188 115.0575 \nz\n\" style=\"fill:#1865ac;\"/>\n    <path clip-path=\"url(#p1752ed27ab)\" d=\"M 51.442188 139.9725 \nL 51.442188 164.8875 \nL 110.962188 164.8875 \nL 110.962188 139.9725 \nL 51.442188 139.9725 \nz\n\" style=\"fill:#08306b;\"/>\n    <path clip-path=\"url(#p1752ed27ab)\" d=\"M 110.962188 139.9725 \nL 110.962188 164.8875 \nL 170.482188 164.8875 \nL 170.482188 139.9725 \nL 110.962188 139.9725 \nz\n\" style=\"fill:#083573;\"/>\n    <path clip-path=\"url(#p1752ed27ab)\" d=\"M 170.482188 139.9725 \nL 170.482188 164.8875 \nL 230.002188 164.8875 \nL 230.002188 139.9725 \nL 170.482188 139.9725 \nz\n\" style=\"fill:#08326e;\"/>\n    <path clip-path=\"url(#p1752ed27ab)\" d=\"M 230.002188 139.9725 \nL 230.002188 164.8875 \nL 289.522188 164.8875 \nL 289.522188 139.9725 \nL 230.002188 139.9725 \nz\n\" style=\"fill:#09529d;\"/>\n    <path clip-path=\"url(#p1752ed27ab)\" d=\"M 289.522188 139.9725 \nL 289.522188 164.8875 \nL 349.042188 164.8875 \nL 349.042188 139.9725 \nL 289.522188 139.9725 \nz\n\" style=\"fill:#abd0e6;\"/>\n    <path clip-path=\"url(#p1752ed27ab)\" d=\"M 349.042188 139.9725 \nL 349.042188 164.8875 \nL 408.562188 164.8875 \nL 408.562188 139.9725 \nL 349.042188 139.9725 \nz\n\" style=\"fill:#7fb9da;\"/>\n    <path clip-path=\"url(#p1752ed27ab)\" d=\"M 51.442188 164.8875 \nL 51.442188 189.8025 \nL 110.962188 189.8025 \nL 110.962188 164.8875 \nL 51.442188 164.8875 \nz\n\" style=\"fill:#08326e;\"/>\n    <path clip-path=\"url(#p1752ed27ab)\" d=\"M 110.962188 164.8875 \nL 110.962188 189.8025 \nL 170.482188 189.8025 \nL 170.482188 164.8875 \nL 110.962188 164.8875 \nz\n\" style=\"fill:#084082;\"/>\n    <path clip-path=\"url(#p1752ed27ab)\" d=\"M 170.482188 164.8875 \nL 170.482188 189.8025 \nL 230.002188 189.8025 \nL 230.002188 164.8875 \nL 170.482188 164.8875 \nz\n\" style=\"fill:#083370;\"/>\n    <path clip-path=\"url(#p1752ed27ab)\" d=\"M 230.002188 164.8875 \nL 230.002188 189.8025 \nL 289.522188 189.8025 \nL 289.522188 164.8875 \nL 230.002188 164.8875 \nz\n\" style=\"fill:#083877;\"/>\n    <path clip-path=\"url(#p1752ed27ab)\" d=\"M 289.522188 164.8875 \nL 289.522188 189.8025 \nL 349.042188 189.8025 \nL 349.042188 164.8875 \nL 289.522188 164.8875 \nz\n\" style=\"fill:#58a1cf;\"/>\n    <path clip-path=\"url(#p1752ed27ab)\" d=\"M 349.042188 164.8875 \nL 349.042188 189.8025 \nL 408.562188 189.8025 \nL 408.562188 164.8875 \nL 349.042188 164.8875 \nz\n\" style=\"fill:#d3e4f3;\"/>\n    <path clip-path=\"url(#p1752ed27ab)\" d=\"M 51.442188 189.8025 \nL 51.442188 214.7175 \nL 110.962188 214.7175 \nL 110.962188 189.8025 \nL 51.442188 189.8025 \nz\n\" style=\"fill:#083979;\"/>\n    <path clip-path=\"url(#p1752ed27ab)\" d=\"M 110.962188 189.8025 \nL 110.962188 214.7175 \nL 170.482188 214.7175 \nL 170.482188 189.8025 \nL 110.962188 189.8025 \nz\n\" style=\"fill:#125ea6;\"/>\n    <path clip-path=\"url(#p1752ed27ab)\" d=\"M 170.482188 189.8025 \nL 170.482188 214.7175 \nL 230.002188 214.7175 \nL 230.002188 189.8025 \nL 170.482188 189.8025 \nz\n\" style=\"fill:#083e81;\"/>\n    <path clip-path=\"url(#p1752ed27ab)\" d=\"M 230.002188 189.8025 \nL 230.002188 214.7175 \nL 289.522188 214.7175 \nL 289.522188 189.8025 \nL 230.002188 189.8025 \nz\n\" style=\"fill:#084082;\"/>\n    <path clip-path=\"url(#p1752ed27ab)\" d=\"M 289.522188 189.8025 \nL 289.522188 214.7175 \nL 349.042188 214.7175 \nL 349.042188 189.8025 \nL 289.522188 189.8025 \nz\n\" style=\"fill:#3181bd;\"/>\n    <path clip-path=\"url(#p1752ed27ab)\" d=\"M 349.042188 189.8025 \nL 349.042188 214.7175 \nL 408.562188 214.7175 \nL 408.562188 189.8025 \nL 349.042188 189.8025 \nz\n\" style=\"fill:#c2d9ee;\"/>\n    <path clip-path=\"url(#p1752ed27ab)\" d=\"M 51.442188 214.7175 \nL 51.442188 239.6325 \nL 110.962188 239.6325 \nL 110.962188 214.7175 \nL 51.442188 214.7175 \nz\n\" style=\"fill:#125ea6;\"/>\n    <path clip-path=\"url(#p1752ed27ab)\" d=\"M 110.962188 214.7175 \nL 110.962188 239.6325 \nL 170.482188 239.6325 \nL 170.482188 214.7175 \nL 110.962188 214.7175 \nz\n\" style=\"fill:#1f6eb3;\"/>\n    <path clip-path=\"url(#p1752ed27ab)\" d=\"M 170.482188 214.7175 \nL 170.482188 239.6325 \nL 230.002188 239.6325 \nL 230.002188 214.7175 \nL 170.482188 214.7175 \nz\n\" style=\"fill:#084184;\"/>\n    <path clip-path=\"url(#p1752ed27ab)\" d=\"M 230.002188 214.7175 \nL 230.002188 239.6325 \nL 289.522188 239.6325 \nL 289.522188 214.7175 \nL 230.002188 214.7175 \nz\n\" style=\"fill:#08468b;\"/>\n    <path clip-path=\"url(#p1752ed27ab)\" d=\"M 289.522188 214.7175 \nL 289.522188 239.6325 \nL 349.042188 239.6325 \nL 349.042188 214.7175 \nL 289.522188 214.7175 \nz\n\" style=\"fill:#1d6cb1;\"/>\n    <path clip-path=\"url(#p1752ed27ab)\" d=\"M 349.042188 214.7175 \nL 349.042188 239.6325 \nL 408.562188 239.6325 \nL 408.562188 214.7175 \nL 349.042188 214.7175 \nz\n\" style=\"fill:#8abfdd;\"/>\n    <path clip-path=\"url(#p1752ed27ab)\" d=\"M 51.442188 239.6325 \nL 51.442188 264.5475 \nL 110.962188 264.5475 \nL 110.962188 239.6325 \nL 51.442188 239.6325 \nz\n\" style=\"fill:#084990;\"/>\n    <path clip-path=\"url(#p1752ed27ab)\" d=\"M 110.962188 239.6325 \nL 110.962188 264.5475 \nL 170.482188 264.5475 \nL 170.482188 239.6325 \nL 110.962188 239.6325 \nz\n\" style=\"fill:#0a549e;\"/>\n    <path clip-path=\"url(#p1752ed27ab)\" d=\"M 170.482188 239.6325 \nL 170.482188 264.5475 \nL 230.002188 264.5475 \nL 230.002188 239.6325 \nL 170.482188 239.6325 \nz\n\" style=\"fill:#083e81;\"/>\n    <path clip-path=\"url(#p1752ed27ab)\" d=\"M 230.002188 239.6325 \nL 230.002188 264.5475 \nL 289.522188 264.5475 \nL 289.522188 239.6325 \nL 230.002188 239.6325 \nz\n\" style=\"fill:#2d7dbb;\"/>\n    <path clip-path=\"url(#p1752ed27ab)\" d=\"M 289.522188 239.6325 \nL 289.522188 264.5475 \nL 349.042188 264.5475 \nL 349.042188 239.6325 \nL 289.522188 239.6325 \nz\n\" style=\"fill:#6dafd7;\"/>\n    <path clip-path=\"url(#p1752ed27ab)\" d=\"M 349.042188 239.6325 \nL 349.042188 264.5475 \nL 408.562188 264.5475 \nL 408.562188 239.6325 \nL 349.042188 239.6325 \nz\n\" style=\"fill:#2a7ab9;\"/>\n    <path clip-path=\"url(#p1752ed27ab)\" d=\"M 51.442188 264.5475 \nL 51.442188 289.4625 \nL 110.962188 289.4625 \nL 110.962188 264.5475 \nL 51.442188 264.5475 \nz\n\" style=\"fill:#08306b;\"/>\n    <path clip-path=\"url(#p1752ed27ab)\" d=\"M 110.962188 264.5475 \nL 110.962188 289.4625 \nL 170.482188 289.4625 \nL 170.482188 264.5475 \nL 110.962188 264.5475 \nz\n\" style=\"fill:#08306b;\"/>\n    <path clip-path=\"url(#p1752ed27ab)\" d=\"M 170.482188 264.5475 \nL 170.482188 289.4625 \nL 230.002188 289.4625 \nL 230.002188 264.5475 \nL 170.482188 264.5475 \nz\n\" style=\"fill:#08316d;\"/>\n    <path clip-path=\"url(#p1752ed27ab)\" d=\"M 230.002188 264.5475 \nL 230.002188 289.4625 \nL 289.522188 289.4625 \nL 289.522188 264.5475 \nL 230.002188 264.5475 \nz\n\" style=\"fill:#08478d;\"/>\n    <path clip-path=\"url(#p1752ed27ab)\" d=\"M 289.522188 264.5475 \nL 289.522188 289.4625 \nL 349.042188 289.4625 \nL 349.042188 264.5475 \nL 289.522188 264.5475 \nz\n\" style=\"fill:#cfe1f2;\"/>\n    <path clip-path=\"url(#p1752ed27ab)\" d=\"M 349.042188 264.5475 \nL 349.042188 289.4625 \nL 408.562188 289.4625 \nL 408.562188 264.5475 \nL 349.042188 264.5475 \nz\n\" style=\"fill:#66abd4;\"/>\n    <path clip-path=\"url(#p1752ed27ab)\" d=\"M 51.442188 289.4625 \nL 51.442188 314.3775 \nL 110.962188 314.3775 \nL 110.962188 289.4625 \nL 51.442188 289.4625 \nz\n\" style=\"fill:#08306b;\"/>\n    <path clip-path=\"url(#p1752ed27ab)\" d=\"M 110.962188 289.4625 \nL 110.962188 314.3775 \nL 170.482188 314.3775 \nL 170.482188 289.4625 \nL 110.962188 289.4625 \nz\n\" style=\"fill:#08306b;\"/>\n    <path clip-path=\"url(#p1752ed27ab)\" d=\"M 170.482188 289.4625 \nL 170.482188 314.3775 \nL 230.002188 314.3775 \nL 230.002188 289.4625 \nL 170.482188 289.4625 \nz\n\" style=\"fill:#08306b;\"/>\n    <path clip-path=\"url(#p1752ed27ab)\" d=\"M 230.002188 289.4625 \nL 230.002188 314.3775 \nL 289.522188 314.3775 \nL 289.522188 289.4625 \nL 230.002188 289.4625 \nz\n\" style=\"fill:#083471;\"/>\n    <path clip-path=\"url(#p1752ed27ab)\" d=\"M 289.522188 289.4625 \nL 289.522188 314.3775 \nL 349.042188 314.3775 \nL 349.042188 289.4625 \nL 289.522188 289.4625 \nz\n\" style=\"fill:#539ecd;\"/>\n    <path clip-path=\"url(#p1752ed27ab)\" d=\"M 349.042188 289.4625 \nL 349.042188 314.3775 \nL 408.562188 314.3775 \nL 408.562188 289.4625 \nL 349.042188 289.4625 \nz\n\" style=\"fill:#e9f2fa;\"/>\n    <path clip-path=\"url(#p1752ed27ab)\" d=\"M 51.442188 314.3775 \nL 51.442188 339.2925 \nL 110.962188 339.2925 \nL 110.962188 314.3775 \nL 51.442188 314.3775 \nz\n\" style=\"fill:#08306b;\"/>\n    <path clip-path=\"url(#p1752ed27ab)\" d=\"M 110.962188 314.3775 \nL 110.962188 339.2925 \nL 170.482188 339.2925 \nL 170.482188 314.3775 \nL 110.962188 314.3775 \nz\n\" style=\"fill:#08306b;\"/>\n    <path clip-path=\"url(#p1752ed27ab)\" d=\"M 170.482188 314.3775 \nL 170.482188 339.2925 \nL 230.002188 339.2925 \nL 230.002188 314.3775 \nL 170.482188 314.3775 \nz\n\" style=\"fill:#08306b;\"/>\n    <path clip-path=\"url(#p1752ed27ab)\" d=\"M 230.002188 314.3775 \nL 230.002188 339.2925 \nL 289.522188 339.2925 \nL 289.522188 314.3775 \nL 230.002188 314.3775 \nz\n\" style=\"fill:#083979;\"/>\n    <path clip-path=\"url(#p1752ed27ab)\" d=\"M 289.522188 314.3775 \nL 289.522188 339.2925 \nL 349.042188 339.2925 \nL 349.042188 314.3775 \nL 289.522188 314.3775 \nz\n\" style=\"fill:#6fb0d7;\"/>\n    <path clip-path=\"url(#p1752ed27ab)\" d=\"M 349.042188 314.3775 \nL 349.042188 339.2925 \nL 408.562188 339.2925 \nL 408.562188 314.3775 \nL 349.042188 314.3775 \nz\n\" style=\"fill:#d6e5f4;\"/>\n   </g>\n   <g id=\"patch_3\">\n    <path d=\"M 51.442188 339.2925 \nL 51.442188 40.3125 \n\" style=\"fill:none;\"/>\n   </g>\n   <g id=\"patch_4\">\n    <path d=\"M 408.562188 339.2925 \nL 408.562188 40.3125 \n\" style=\"fill:none;\"/>\n   </g>\n   <g id=\"patch_5\">\n    <path d=\"M 51.442188 339.2925 \nL 408.562188 339.2925 \n\" style=\"fill:none;\"/>\n   </g>\n   <g id=\"patch_6\">\n    <path d=\"M 51.442188 40.3125 \nL 408.562188 40.3125 \n\" style=\"fill:none;\"/>\n   </g>\n  </g>\n  <g id=\"axes_2\">\n   <g id=\"patch_7\">\n    <path clip-path=\"url(#pda807b3b16)\" d=\"M 430.882188 339.2925 \nL 430.882188 338.124609 \nL 430.882188 41.480391 \nL 430.882188 40.3125 \nL 445.831188 40.3125 \nL 445.831188 41.480391 \nL 445.831188 338.124609 \nL 445.831188 339.2925 \nz\n\" style=\"fill:#eaeaf2;stroke:#eaeaf2;stroke-linejoin:miter;stroke-width:0.01;\"/>\n   </g>\n   <g id=\"matplotlib.axis_3\"/>\n   <g id=\"matplotlib.axis_4\">\n    <g id=\"ytick_13\">\n     <g id=\"line2d_19\"/>\n     <g id=\"text_19\">\n      <!-- 0.1 -->\n      <defs>\n       <path d=\"M 51.703125 34.421875 \nQ 51.703125 24.515625 49.828125 17.75 \nQ 47.953125 10.984375 44.703125 6.8125 \nQ 41.453125 2.640625 37.0625 0.828125 \nQ 32.671875 -0.984375 27.6875 -0.984375 \nQ 22.65625 -0.984375 18.3125 0.828125 \nQ 13.96875 2.640625 10.765625 6.78125 \nQ 7.5625 10.9375 5.734375 17.703125 \nQ 3.90625 24.46875 3.90625 34.421875 \nQ 3.90625 44.828125 5.734375 51.640625 \nQ 7.5625 58.453125 10.78125 62.5 \nQ 14.015625 66.546875 18.40625 68.1875 \nQ 22.796875 69.828125 27.984375 69.828125 \nQ 32.90625 69.828125 37.21875 68.1875 \nQ 41.546875 66.546875 44.765625 62.5 \nQ 48 58.453125 49.84375 51.640625 \nQ 51.703125 44.828125 51.703125 34.421875 \nz\nM 42.78125 34.421875 \nQ 42.78125 42.625 41.796875 48.0625 \nQ 40.828125 53.515625 38.921875 56.765625 \nQ 37.015625 60.015625 34.25 61.359375 \nQ 31.5 62.703125 27.984375 62.703125 \nQ 24.265625 62.703125 21.4375 61.328125 \nQ 18.609375 59.96875 16.671875 56.71875 \nQ 14.75 53.46875 13.765625 48.015625 \nQ 12.796875 42.578125 12.796875 34.421875 \nQ 12.796875 26.515625 13.796875 21.09375 \nQ 14.796875 15.671875 16.71875 12.375 \nQ 18.65625 9.078125 21.4375 7.640625 \nQ 24.21875 6.203125 27.78125 6.203125 \nQ 31.25 6.203125 34.03125 7.640625 \nQ 36.8125 9.078125 38.734375 12.375 \nQ 40.671875 15.671875 41.71875 21.09375 \nQ 42.78125 26.515625 42.78125 34.421875 \nz\n\" id=\"LiberationSans-48\"/>\n       <path d=\"M 7.625 0 \nL 7.625 7.46875 \nL 25.140625 7.46875 \nL 25.140625 60.40625 \nL 9.625 49.3125 \nL 9.625 57.625 \nL 25.875 68.796875 \nL 33.984375 68.796875 \nL 33.984375 7.46875 \nL 50.734375 7.46875 \nL 50.734375 0 \nz\n\" id=\"LiberationSans-49\"/>\n      </defs>\n      <g style=\"fill:#262626;\" transform=\"translate(452.831188 301.816628)scale(0.1 -0.1)\">\n       <use xlink:href=\"#LiberationSans-48\"/>\n       <use x=\"55.615234\" xlink:href=\"#LiberationSans-46\"/>\n       <use x=\"83.398438\" xlink:href=\"#LiberationSans-49\"/>\n      </g>\n     </g>\n    </g>\n    <g id=\"ytick_14\">\n     <g id=\"line2d_20\"/>\n     <g id=\"text_20\">\n      <!-- 0.2 -->\n      <defs>\n       <path d=\"M 5.03125 0 \nL 5.03125 6.203125 \nQ 7.515625 11.921875 11.109375 16.28125 \nQ 14.703125 20.65625 18.65625 24.1875 \nQ 22.609375 27.734375 26.484375 30.765625 \nQ 30.375 33.796875 33.5 36.8125 \nQ 36.625 39.84375 38.546875 43.15625 \nQ 40.484375 46.484375 40.484375 50.6875 \nQ 40.484375 53.609375 39.59375 55.828125 \nQ 38.71875 58.0625 37.0625 59.5625 \nQ 35.40625 61.078125 33.078125 61.828125 \nQ 30.765625 62.59375 27.9375 62.59375 \nQ 25.296875 62.59375 22.96875 61.859375 \nQ 20.65625 61.140625 18.84375 59.671875 \nQ 17.046875 58.203125 15.890625 56.03125 \nQ 14.75 53.859375 14.40625 50.984375 \nL 5.421875 51.8125 \nQ 5.859375 55.515625 7.46875 58.78125 \nQ 9.078125 62.0625 11.90625 64.53125 \nQ 14.75 67 18.71875 68.40625 \nQ 22.703125 69.828125 27.9375 69.828125 \nQ 33.0625 69.828125 37.0625 68.609375 \nQ 41.0625 67.390625 43.8125 64.984375 \nQ 46.578125 62.59375 48.046875 59.078125 \nQ 49.515625 55.5625 49.515625 50.984375 \nQ 49.515625 47.515625 48.265625 44.390625 \nQ 47.015625 41.265625 44.9375 38.421875 \nQ 42.875 35.59375 40.140625 32.953125 \nQ 37.40625 30.328125 34.421875 27.8125 \nQ 31.453125 25.296875 28.421875 22.828125 \nQ 25.390625 20.359375 22.71875 17.859375 \nQ 20.0625 15.375 17.96875 12.8125 \nQ 15.875 10.25 14.703125 7.46875 \nL 50.59375 7.46875 \nL 50.59375 0 \nz\n\" id=\"LiberationSans-50\"/>\n      </defs>\n      <g style=\"fill:#262626;\" transform=\"translate(452.831188 260.441728)scale(0.1 -0.1)\">\n       <use xlink:href=\"#LiberationSans-48\"/>\n       <use x=\"55.615234\" xlink:href=\"#LiberationSans-46\"/>\n       <use x=\"83.398438\" xlink:href=\"#LiberationSans-50\"/>\n      </g>\n     </g>\n    </g>\n    <g id=\"ytick_15\">\n     <g id=\"line2d_21\"/>\n     <g id=\"text_21\">\n      <!-- 0.3 -->\n      <defs>\n       <path d=\"M 51.21875 19 \nQ 51.21875 14.265625 49.671875 10.546875 \nQ 48.140625 6.84375 45.1875 4.265625 \nQ 42.234375 1.703125 37.859375 0.359375 \nQ 33.5 -0.984375 27.875 -0.984375 \nQ 21.484375 -0.984375 17.109375 0.609375 \nQ 12.75 2.203125 9.90625 4.8125 \nQ 7.078125 7.421875 5.65625 10.765625 \nQ 4.25 14.109375 3.8125 17.671875 \nL 12.890625 18.5 \nQ 13.28125 15.765625 14.328125 13.515625 \nQ 15.375 11.28125 17.1875 9.671875 \nQ 19 8.0625 21.625 7.171875 \nQ 24.265625 6.296875 27.875 6.296875 \nQ 34.515625 6.296875 38.296875 9.5625 \nQ 42.09375 12.84375 42.09375 19.28125 \nQ 42.09375 23.09375 40.40625 25.40625 \nQ 38.71875 27.734375 36.203125 29.03125 \nQ 33.6875 30.328125 30.734375 30.765625 \nQ 27.78125 31.203125 25.296875 31.203125 \nL 20.3125 31.203125 \nL 20.3125 38.8125 \nL 25.09375 38.8125 \nQ 27.59375 38.8125 30.265625 39.328125 \nQ 32.953125 39.84375 35.171875 41.1875 \nQ 37.40625 42.53125 38.84375 44.828125 \nQ 40.28125 47.125 40.28125 50.6875 \nQ 40.28125 56.203125 37.03125 59.390625 \nQ 33.796875 62.59375 27.390625 62.59375 \nQ 21.578125 62.59375 17.984375 59.609375 \nQ 14.40625 56.640625 13.8125 51.21875 \nL 4.984375 51.90625 \nQ 5.515625 56.453125 7.46875 59.8125 \nQ 9.421875 63.1875 12.421875 65.40625 \nQ 15.4375 67.625 19.28125 68.71875 \nQ 23.140625 69.828125 27.484375 69.828125 \nQ 33.25 69.828125 37.390625 68.375 \nQ 41.546875 66.9375 44.1875 64.46875 \nQ 46.828125 62.015625 48.0625 58.6875 \nQ 49.3125 55.375 49.3125 51.609375 \nQ 49.3125 48.578125 48.484375 45.9375 \nQ 47.65625 43.3125 45.890625 41.203125 \nQ 44.140625 39.109375 41.421875 37.59375 \nQ 38.71875 36.078125 34.90625 35.296875 \nL 34.90625 35.109375 \nQ 39.0625 34.671875 42.140625 33.21875 \nQ 45.21875 31.78125 47.21875 29.625 \nQ 49.21875 27.484375 50.21875 24.75 \nQ 51.21875 22.015625 51.21875 19 \nz\n\" id=\"LiberationSans-51\"/>\n      </defs>\n      <g style=\"fill:#262626;\" transform=\"translate(452.831188 219.066829)scale(0.1 -0.1)\">\n       <use xlink:href=\"#LiberationSans-48\"/>\n       <use x=\"55.615234\" xlink:href=\"#LiberationSans-46\"/>\n       <use x=\"83.398438\" xlink:href=\"#LiberationSans-51\"/>\n      </g>\n     </g>\n    </g>\n    <g id=\"ytick_16\">\n     <g id=\"line2d_22\"/>\n     <g id=\"text_22\">\n      <!-- 0.4 -->\n      <defs>\n       <path d=\"M 43.015625 15.578125 \nL 43.015625 0 \nL 34.71875 0 \nL 34.71875 15.578125 \nL 2.296875 15.578125 \nL 2.296875 22.40625 \nL 33.796875 68.796875 \nL 43.015625 68.796875 \nL 43.015625 22.515625 \nL 52.6875 22.515625 \nL 52.6875 15.578125 \nz\nM 34.71875 58.890625 \nQ 34.625 58.640625 34.234375 57.9375 \nQ 33.84375 57.234375 33.34375 56.34375 \nQ 32.859375 55.46875 32.34375 54.5625 \nQ 31.84375 53.65625 31.453125 53.078125 \nL 13.8125 27.09375 \nQ 13.578125 26.703125 13.109375 26.0625 \nQ 12.640625 25.4375 12.15625 24.78125 \nQ 11.671875 24.125 11.171875 23.484375 \nQ 10.6875 22.859375 10.40625 22.515625 \nL 34.71875 22.515625 \nz\n\" id=\"LiberationSans-52\"/>\n      </defs>\n      <g style=\"fill:#262626;\" transform=\"translate(452.831188 177.691929)scale(0.1 -0.1)\">\n       <use xlink:href=\"#LiberationSans-48\"/>\n       <use x=\"55.615234\" xlink:href=\"#LiberationSans-46\"/>\n       <use x=\"83.398438\" xlink:href=\"#LiberationSans-52\"/>\n      </g>\n     </g>\n    </g>\n    <g id=\"ytick_17\">\n     <g id=\"line2d_23\"/>\n     <g id=\"text_23\">\n      <!-- 0.5 -->\n      <defs>\n       <path d=\"M 51.421875 22.40625 \nQ 51.421875 17.234375 49.859375 12.9375 \nQ 48.296875 8.640625 45.21875 5.53125 \nQ 42.140625 2.4375 37.578125 0.71875 \nQ 33.015625 -0.984375 27 -0.984375 \nQ 21.578125 -0.984375 17.546875 0.28125 \nQ 13.53125 1.5625 10.734375 3.78125 \nQ 7.953125 6 6.3125 8.984375 \nQ 4.6875 11.96875 4 15.375 \nL 12.890625 16.40625 \nQ 13.421875 14.453125 14.390625 12.625 \nQ 15.375 10.796875 17.0625 9.34375 \nQ 18.75 7.90625 21.21875 7.046875 \nQ 23.6875 6.203125 27.203125 6.203125 \nQ 30.609375 6.203125 33.390625 7.25 \nQ 36.1875 8.296875 38.15625 10.34375 \nQ 40.140625 12.40625 41.203125 15.375 \nQ 42.28125 18.359375 42.28125 22.21875 \nQ 42.28125 25.390625 41.25 28.046875 \nQ 40.234375 30.71875 38.328125 32.640625 \nQ 36.421875 34.578125 33.65625 35.640625 \nQ 30.90625 36.71875 27.390625 36.71875 \nQ 25.203125 36.71875 23.34375 36.328125 \nQ 21.484375 35.9375 19.890625 35.25 \nQ 18.3125 34.578125 17.015625 33.671875 \nQ 15.71875 32.765625 14.59375 31.78125 \nL 6 31.78125 \nL 8.296875 68.796875 \nL 47.40625 68.796875 \nL 47.40625 61.328125 \nL 16.3125 61.328125 \nL 14.984375 39.5 \nQ 17.328125 41.3125 20.84375 42.59375 \nQ 24.359375 43.890625 29.203125 43.890625 \nQ 34.328125 43.890625 38.421875 42.328125 \nQ 42.53125 40.765625 45.40625 37.90625 \nQ 48.296875 35.0625 49.859375 31.109375 \nQ 51.421875 27.15625 51.421875 22.40625 \nz\n\" id=\"LiberationSans-53\"/>\n      </defs>\n      <g style=\"fill:#262626;\" transform=\"translate(452.831188 136.31703)scale(0.1 -0.1)\">\n       <use xlink:href=\"#LiberationSans-48\"/>\n       <use x=\"55.615234\" xlink:href=\"#LiberationSans-46\"/>\n       <use x=\"83.398438\" xlink:href=\"#LiberationSans-53\"/>\n      </g>\n     </g>\n    </g>\n    <g id=\"ytick_18\">\n     <g id=\"line2d_24\"/>\n     <g id=\"text_24\">\n      <!-- 0.6 -->\n      <defs>\n       <path d=\"M 51.21875 22.515625 \nQ 51.21875 17.328125 49.78125 13 \nQ 48.34375 8.6875 45.53125 5.578125 \nQ 42.71875 2.484375 38.5625 0.75 \nQ 34.421875 -0.984375 29 -0.984375 \nQ 23 -0.984375 18.5 1.3125 \nQ 14.015625 3.609375 11.03125 7.921875 \nQ 8.0625 12.25 6.5625 18.53125 \nQ 5.078125 24.8125 5.078125 32.8125 \nQ 5.078125 42 6.765625 48.921875 \nQ 8.453125 55.859375 11.625 60.5 \nQ 14.796875 65.140625 19.359375 67.484375 \nQ 23.921875 69.828125 29.6875 69.828125 \nQ 33.203125 69.828125 36.28125 69.09375 \nQ 39.359375 68.359375 41.875 66.71875 \nQ 44.390625 65.09375 46.28125 62.40625 \nQ 48.1875 59.71875 49.3125 55.8125 \nL 40.921875 54.296875 \nQ 39.546875 58.734375 36.546875 60.71875 \nQ 33.546875 62.703125 29.59375 62.703125 \nQ 25.984375 62.703125 23.046875 60.984375 \nQ 20.125 59.28125 18.0625 55.875 \nQ 16.015625 52.484375 14.90625 47.359375 \nQ 13.8125 42.234375 13.8125 35.40625 \nQ 16.21875 39.84375 20.5625 42.15625 \nQ 24.90625 44.484375 30.515625 44.484375 \nQ 35.203125 44.484375 39.015625 42.96875 \nQ 42.828125 41.453125 45.53125 38.59375 \nQ 48.25 35.75 49.734375 31.671875 \nQ 51.21875 27.59375 51.21875 22.515625 \nz\nM 42.28125 22.125 \nQ 42.28125 25.6875 41.40625 28.5625 \nQ 40.53125 31.453125 38.765625 33.46875 \nQ 37.015625 35.5 34.421875 36.59375 \nQ 31.84375 37.703125 28.421875 37.703125 \nQ 26.03125 37.703125 23.578125 36.984375 \nQ 21.140625 36.28125 19.15625 34.6875 \nQ 17.1875 33.109375 15.9375 30.515625 \nQ 14.703125 27.9375 14.703125 24.21875 \nQ 14.703125 20.40625 15.671875 17.109375 \nQ 16.65625 13.8125 18.484375 11.375 \nQ 20.3125 8.9375 22.890625 7.515625 \nQ 25.484375 6.109375 28.71875 6.109375 \nQ 31.890625 6.109375 34.40625 7.203125 \nQ 36.921875 8.296875 38.671875 10.375 \nQ 40.4375 12.453125 41.359375 15.421875 \nQ 42.28125 18.40625 42.28125 22.125 \nz\n\" id=\"LiberationSans-54\"/>\n      </defs>\n      <g style=\"fill:#262626;\" transform=\"translate(452.831188 94.94213)scale(0.1 -0.1)\">\n       <use xlink:href=\"#LiberationSans-48\"/>\n       <use x=\"55.615234\" xlink:href=\"#LiberationSans-46\"/>\n       <use x=\"83.398438\" xlink:href=\"#LiberationSans-54\"/>\n      </g>\n     </g>\n    </g>\n    <g id=\"ytick_19\">\n     <g id=\"line2d_25\"/>\n     <g id=\"text_25\">\n      <!-- 0.7 -->\n      <defs>\n       <path d=\"M 50.59375 61.671875 \nQ 45.40625 53.765625 41.0625 46.453125 \nQ 36.71875 39.15625 33.59375 31.75 \nQ 30.46875 24.359375 28.734375 16.578125 \nQ 27 8.796875 27 0 \nL 17.828125 0 \nQ 17.828125 8.25 19.78125 16.1875 \nQ 21.734375 24.125 25.046875 31.765625 \nQ 28.375 39.40625 32.765625 46.78125 \nQ 37.15625 54.15625 42.09375 61.328125 \nL 5.125 61.328125 \nL 5.125 68.796875 \nL 50.59375 68.796875 \nz\n\" id=\"LiberationSans-55\"/>\n      </defs>\n      <g style=\"fill:#262626;\" transform=\"translate(452.831188 53.56723)scale(0.1 -0.1)\">\n       <use xlink:href=\"#LiberationSans-48\"/>\n       <use x=\"55.615234\" xlink:href=\"#LiberationSans-46\"/>\n       <use x=\"83.398438\" xlink:href=\"#LiberationSans-55\"/>\n      </g>\n     </g>\n    </g>\n   </g>\n   <image height=\"299\" id=\"image7cc7b59745\" transform=\"scale(1 -1)translate(0 -299)\" width=\"15\" x=\"431\" xlink:href=\"data:image/png;base64,\niVBORw0KGgoAAAANSUhEUgAAAA8AAAErCAYAAAABnNneAAAABHNCSVQICAgIfAhkiAAAAWFJREFUeJztm8GNw0AMA3cNP66c9JX+37ka7AE8GFj+E8ySoqQ1nP33+f7Wzedc+7iLXefam4Al5vu0652CjVUPMxPwIf1salWxPKPMY9XD4GmAzzFvC0ytAmDtzCKYCMasigqmqS2m6oWCVRvgqH0RPA3wSfA7G+AwX3mYVQe5uTcF684qBI6qLTGPVRnmrlVFtcVZ5Ql2NK0Csz1r1QY7MxKsmqpobWt5hsFAYKsZRGcVDQYAM8HuE1fzLC5xTcFOolg1VV4kITMAe7MKVhhhFjcDBI42QMKs7dtaM1DXCsTcbICgwqqpMhtg8xZLwNVlnTBHX+NFfdbObL7GY8wATCaG9/bRnFWeYMndk74DLJaneE0QZxUBe8OdfTf0Qquagnln7jZAAG4WyaTqOjMAT6ougptFMqm6zgzAk6onmdcLU+Xdq2CeCbiZqqZg0Vllfl2bbL3mP3KTgnln9mr7H6/jCEJx9UtRAAAAAElFTkSuQmCC\" y=\"-40\"/>\n   <g id=\"patch_8\">\n    <path d=\"M 430.882188 339.2925 \nL 430.882188 338.124609 \nL 430.882188 41.480391 \nL 430.882188 40.3125 \nL 445.831188 40.3125 \nL 445.831188 41.480391 \nL 445.831188 338.124609 \nL 445.831188 339.2925 \nz\n\" style=\"fill:none;\"/>\n   </g>\n  </g>\n </g>\n <defs>\n  <clipPath id=\"p1752ed27ab\">\n   <rect height=\"298.98\" width=\"357.12\" x=\"51.442188\" y=\"40.3125\"/>\n  </clipPath>\n  <clipPath id=\"pda807b3b16\">\n   <rect height=\"298.98\" width=\"14.949\" x=\"430.882188\" y=\"40.3125\"/>\n  </clipPath>\n </defs>\n</svg>\n"
          },
          "metadata": {
            "tags": []
          }
        }
      ]
    },
    {
      "cell_type": "code",
      "metadata": {
        "colab": {
          "base_uri": "https://localhost:8080/",
          "height": 522
        },
        "id": "VxLQQ0HcFp5C",
        "outputId": "8b141efc-568d-494e-ccfc-5a896460d546"
      },
      "source": [
        "plot_attention(translator, 'I congratulate him on his excellent report.')"
      ],
      "execution_count": 89,
      "outputs": [
        {
          "output_type": "display_data",
          "data": {
            "text/plain": [
              "<Figure size 576x396 with 2 Axes>"
            ],
            "image/svg+xml": "<?xml version=\"1.0\" encoding=\"utf-8\" standalone=\"no\"?>\n<!DOCTYPE svg PUBLIC \"-//W3C//DTD SVG 1.1//EN\"\n  \"http://www.w3.org/Graphics/SVG/1.1/DTD/svg11.dtd\">\n<!-- Created with matplotlib (https://matplotlib.org/) -->\n<svg height=\"375.414375pt\" version=\"1.1\" viewBox=\"0 0 491.73275 375.414375\" width=\"491.73275pt\" xmlns=\"http://www.w3.org/2000/svg\" xmlns:xlink=\"http://www.w3.org/1999/xlink\">\n <defs>\n  <style type=\"text/css\">\n*{stroke-linecap:butt;stroke-linejoin:round;}\n  </style>\n </defs>\n <g id=\"figure_1\">\n  <g id=\"patch_1\">\n   <path d=\"M 0 375.414375 \nL 491.73275 375.414375 \nL 491.73275 -0 \nL 0 -0 \nz\n\" style=\"fill:#ffffff;\"/>\n  </g>\n  <g id=\"axes_1\">\n   <g id=\"patch_2\">\n    <path d=\"M 69.24375 368.214375 \nL 426.36375 368.214375 \nL 426.36375 69.234375 \nL 69.24375 69.234375 \nz\n\" style=\"fill:#eaeaf2;\"/>\n   </g>\n   <g id=\"matplotlib.axis_1\">\n    <g id=\"xtick_1\">\n     <g id=\"line2d_1\"/>\n     <g id=\"text_1\">\n      <!-- I -->\n      <defs>\n       <path d=\"M 9.234375 0 \nL 9.234375 68.796875 \nL 18.5625 68.796875 \nL 18.5625 0 \nz\n\" id=\"LiberationSans-73\"/>\n      </defs>\n      <g style=\"fill:#262626;\" transform=\"translate(97.338259 62.234375)rotate(-90)scale(0.1 -0.1)\">\n       <use xlink:href=\"#LiberationSans-73\"/>\n      </g>\n     </g>\n    </g>\n    <g id=\"xtick_2\">\n     <g id=\"line2d_2\"/>\n     <g id=\"text_2\">\n      <!-- congratulate -->\n      <defs>\n       <path d=\"M 13.421875 26.65625 \nQ 13.421875 22.125 14.078125 18.3125 \nQ 14.75 14.5 16.3125 11.734375 \nQ 17.875 8.984375 20.4375 7.46875 \nQ 23 5.953125 26.765625 5.953125 \nQ 31.453125 5.953125 34.59375 8.484375 \nQ 37.75 11.03125 38.484375 16.3125 \nL 47.359375 15.71875 \nQ 46.921875 12.453125 45.453125 9.421875 \nQ 44 6.390625 41.484375 4.09375 \nQ 38.96875 1.8125 35.34375 0.40625 \nQ 31.734375 -0.984375 27 -0.984375 \nQ 20.796875 -0.984375 16.453125 1.109375 \nQ 12.109375 3.21875 9.390625 6.90625 \nQ 6.6875 10.59375 5.46875 15.59375 \nQ 4.25 20.609375 4.25 26.46875 \nQ 4.25 31.78125 5.125 35.859375 \nQ 6 39.9375 7.59375 42.984375 \nQ 9.1875 46.046875 11.328125 48.125 \nQ 13.484375 50.203125 15.984375 51.4375 \nQ 18.5 52.6875 21.28125 53.25 \nQ 24.078125 53.8125 26.90625 53.8125 \nQ 31.34375 53.8125 34.8125 52.59375 \nQ 38.28125 51.375 40.796875 49.25 \nQ 43.3125 47.125 44.875 44.234375 \nQ 46.4375 41.359375 47.078125 38.03125 \nL 38.03125 37.359375 \nQ 37.359375 41.75 34.5625 44.328125 \nQ 31.78125 46.921875 26.65625 46.921875 \nQ 22.90625 46.921875 20.390625 45.671875 \nQ 17.875 44.4375 16.3125 41.921875 \nQ 14.75 39.40625 14.078125 35.59375 \nQ 13.421875 31.78125 13.421875 26.65625 \nz\n\" id=\"LiberationSans-99\"/>\n       <path d=\"M 51.421875 26.46875 \nQ 51.421875 12.59375 45.3125 5.796875 \nQ 39.203125 -0.984375 27.59375 -0.984375 \nQ 22.078125 -0.984375 17.71875 0.671875 \nQ 13.375 2.34375 10.375 5.765625 \nQ 7.375 9.1875 5.78125 14.328125 \nQ 4.203125 19.484375 4.203125 26.46875 \nQ 4.203125 53.8125 27.875 53.8125 \nQ 34.03125 53.8125 38.5 52.09375 \nQ 42.96875 50.390625 45.828125 46.96875 \nQ 48.6875 43.5625 50.046875 38.421875 \nQ 51.421875 33.296875 51.421875 26.46875 \nz\nM 42.1875 26.46875 \nQ 42.1875 32.625 41.234375 36.625 \nQ 40.28125 40.625 38.453125 43.015625 \nQ 36.625 45.40625 33.984375 46.359375 \nQ 31.34375 47.3125 28.03125 47.3125 \nQ 24.65625 47.3125 21.9375 46.3125 \nQ 19.234375 45.3125 17.328125 42.890625 \nQ 15.4375 40.484375 14.421875 36.46875 \nQ 13.421875 32.46875 13.421875 26.46875 \nQ 13.421875 20.3125 14.5 16.28125 \nQ 15.578125 12.25 17.453125 9.859375 \nQ 19.34375 7.46875 21.90625 6.484375 \nQ 24.46875 5.515625 27.484375 5.515625 \nQ 30.859375 5.515625 33.59375 6.46875 \nQ 36.328125 7.421875 38.234375 9.8125 \nQ 40.140625 12.203125 41.15625 16.25 \nQ 42.1875 20.3125 42.1875 26.46875 \nz\n\" id=\"LiberationSans-111\"/>\n       <path d=\"M 40.28125 0 \nL 40.28125 33.5 \nQ 40.28125 37.359375 39.71875 39.9375 \nQ 39.15625 42.53125 37.890625 44.109375 \nQ 36.625 45.703125 34.546875 46.359375 \nQ 32.46875 47.015625 29.390625 47.015625 \nQ 26.265625 47.015625 23.75 45.921875 \nQ 21.234375 44.828125 19.453125 42.75 \nQ 17.671875 40.671875 16.6875 37.625 \nQ 15.71875 34.578125 15.71875 30.609375 \nL 15.71875 0 \nL 6.9375 0 \nL 6.9375 41.546875 \nQ 6.9375 43.21875 6.90625 45.046875 \nQ 6.890625 46.875 6.828125 48.5 \nQ 6.78125 50.140625 6.734375 51.3125 \nQ 6.6875 52.484375 6.640625 52.828125 \nL 14.9375 52.828125 \nQ 14.984375 52.59375 15.03125 51.515625 \nQ 15.09375 50.4375 15.15625 49.046875 \nQ 15.234375 47.65625 15.28125 46.21875 \nQ 15.328125 44.78125 15.328125 43.796875 \nL 15.484375 43.796875 \nQ 16.75 46.09375 18.265625 47.953125 \nQ 19.78125 49.8125 21.78125 51.09375 \nQ 23.78125 52.390625 26.359375 53.09375 \nQ 28.953125 53.8125 32.375 53.8125 \nQ 36.765625 53.8125 39.9375 52.734375 \nQ 43.109375 51.65625 45.15625 49.40625 \nQ 47.21875 47.171875 48.171875 43.625 \nQ 49.125 40.09375 49.125 35.203125 \nL 49.125 0 \nz\n\" id=\"LiberationSans-110\"/>\n       <path d=\"M 26.765625 -20.75 \nQ 22.21875 -20.75 18.703125 -19.8125 \nQ 15.1875 -18.890625 12.6875 -17.15625 \nQ 10.203125 -15.4375 8.640625 -13.03125 \nQ 7.078125 -10.640625 6.390625 -7.71875 \nL 15.234375 -6.453125 \nQ 16.109375 -10.109375 19.109375 -12.078125 \nQ 22.125 -14.0625 27 -14.0625 \nQ 29.984375 -14.0625 32.421875 -13.234375 \nQ 34.859375 -12.40625 36.5625 -10.5625 \nQ 38.28125 -8.734375 39.203125 -5.796875 \nQ 40.140625 -2.875 40.140625 1.3125 \nL 40.140625 9.8125 \nL 40.046875 9.8125 \nQ 39.0625 7.8125 37.625 5.984375 \nQ 36.1875 4.15625 34.109375 2.734375 \nQ 32.03125 1.3125 29.296875 0.453125 \nQ 26.5625 -0.390625 23.046875 -0.390625 \nQ 18.015625 -0.390625 14.421875 1.296875 \nQ 10.84375 2.984375 8.5625 6.34375 \nQ 6.296875 9.71875 5.25 14.71875 \nQ 4.203125 19.734375 4.203125 26.3125 \nQ 4.203125 32.671875 5.25 37.75 \nQ 6.296875 42.828125 8.65625 46.359375 \nQ 11.03125 49.90625 14.8125 51.78125 \nQ 18.609375 53.65625 24.03125 53.65625 \nQ 29.640625 53.65625 33.765625 51.09375 \nQ 37.890625 48.53125 40.140625 43.796875 \nL 40.234375 43.796875 \nQ 40.234375 45.015625 40.296875 46.53125 \nQ 40.375 48.046875 40.453125 49.390625 \nQ 40.53125 50.734375 40.625 51.703125 \nQ 40.71875 52.6875 40.828125 52.828125 \nL 49.171875 52.828125 \nQ 49.125 52.390625 49.078125 51.34375 \nQ 49.03125 50.296875 48.96875 48.828125 \nQ 48.921875 47.359375 48.890625 45.578125 \nQ 48.875 43.796875 48.875 41.890625 \nL 48.875 1.515625 \nQ 48.875 -9.578125 43.421875 -15.15625 \nQ 37.984375 -20.75 26.765625 -20.75 \nz\nM 40.140625 26.421875 \nQ 40.140625 31.9375 38.9375 35.859375 \nQ 37.75 39.796875 35.796875 42.28125 \nQ 33.84375 44.78125 31.328125 45.953125 \nQ 28.8125 47.125 26.171875 47.125 \nQ 22.796875 47.125 20.375 45.953125 \nQ 17.96875 44.78125 16.375 42.265625 \nQ 14.796875 39.75 14.03125 35.8125 \nQ 13.28125 31.890625 13.28125 26.421875 \nQ 13.28125 20.703125 14.03125 16.8125 \nQ 14.796875 12.9375 16.359375 10.546875 \nQ 17.921875 8.15625 20.3125 7.125 \nQ 22.703125 6.109375 26.03125 6.109375 \nQ 28.65625 6.109375 31.171875 7.21875 \nQ 33.6875 8.34375 35.6875 10.78125 \nQ 37.703125 13.234375 38.921875 17.09375 \nQ 40.140625 20.953125 40.140625 26.421875 \nz\n\" id=\"LiberationSans-103\"/>\n       <path d=\"M 6.9375 0 \nL 6.9375 40.53125 \nQ 6.9375 42.1875 6.90625 43.921875 \nQ 6.890625 45.65625 6.828125 47.265625 \nQ 6.78125 48.875 6.734375 50.28125 \nQ 6.6875 51.703125 6.640625 52.828125 \nL 14.9375 52.828125 \nQ 14.984375 51.703125 15.0625 50.265625 \nQ 15.140625 48.828125 15.203125 47.3125 \nQ 15.28125 45.796875 15.296875 44.40625 \nQ 15.328125 43.015625 15.328125 42.046875 \nL 15.53125 42.046875 \nQ 16.453125 45.0625 17.5 47.28125 \nQ 18.5625 49.515625 19.96875 50.953125 \nQ 21.390625 52.390625 23.34375 53.09375 \nQ 25.296875 53.8125 28.078125 53.8125 \nQ 29.15625 53.8125 30.125 53.640625 \nQ 31.109375 53.46875 31.640625 53.328125 \nL 31.640625 45.265625 \nQ 30.765625 45.515625 29.59375 45.625 \nQ 28.421875 45.75 26.953125 45.75 \nQ 23.921875 45.75 21.796875 44.375 \nQ 19.671875 43.015625 18.328125 40.59375 \nQ 17 38.1875 16.359375 34.84375 \nQ 15.71875 31.5 15.71875 27.546875 \nL 15.71875 0 \nz\n\" id=\"LiberationSans-114\"/>\n       <path d=\"M 20.21875 -0.984375 \nQ 12.25 -0.984375 8.25 3.21875 \nQ 4.25 7.421875 4.25 14.75 \nQ 4.25 19.96875 6.21875 23.3125 \nQ 8.203125 26.65625 11.390625 28.5625 \nQ 14.59375 30.46875 18.6875 31.203125 \nQ 22.796875 31.9375 27.046875 32.03125 \nL 38.921875 32.234375 \nL 38.921875 35.109375 \nQ 38.921875 38.375 38.234375 40.671875 \nQ 37.546875 42.96875 36.125 44.375 \nQ 34.71875 45.796875 32.59375 46.453125 \nQ 30.46875 47.125 27.59375 47.125 \nQ 25.046875 47.125 23 46.75 \nQ 20.953125 46.390625 19.4375 45.4375 \nQ 17.921875 44.484375 16.984375 42.84375 \nQ 16.0625 41.21875 15.765625 38.71875 \nL 6.59375 39.546875 \nQ 7.078125 42.671875 8.4375 45.28125 \nQ 9.8125 47.90625 12.328125 49.796875 \nQ 14.84375 51.703125 18.625 52.75 \nQ 22.40625 53.8125 27.78125 53.8125 \nQ 37.75 53.8125 42.765625 49.234375 \nQ 47.796875 44.671875 47.796875 36.03125 \nL 47.796875 13.28125 \nQ 47.796875 9.375 48.828125 7.390625 \nQ 49.859375 5.421875 52.734375 5.421875 \nQ 53.46875 5.421875 54.203125 5.515625 \nQ 54.9375 5.609375 55.609375 5.765625 \nL 55.609375 0.296875 \nQ 53.953125 -0.09375 52.3125 -0.28125 \nQ 50.6875 -0.484375 48.828125 -0.484375 \nQ 46.34375 -0.484375 44.5625 0.171875 \nQ 42.78125 0.828125 41.65625 2.171875 \nQ 40.53125 3.515625 39.9375 5.484375 \nQ 39.359375 7.46875 39.203125 10.109375 \nL 38.921875 10.109375 \nQ 37.5 7.5625 35.8125 5.515625 \nQ 34.125 3.46875 31.875 2.03125 \nQ 29.640625 0.59375 26.78125 -0.1875 \nQ 23.921875 -0.984375 20.21875 -0.984375 \nz\nM 22.21875 5.609375 \nQ 26.421875 5.609375 29.5625 7.140625 \nQ 32.71875 8.6875 34.78125 11.078125 \nQ 36.859375 13.484375 37.890625 16.3125 \nQ 38.921875 19.140625 38.921875 21.734375 \nL 38.921875 26.078125 \nL 29.296875 25.875 \nQ 26.078125 25.828125 23.171875 25.40625 \nQ 20.265625 25 18.0625 23.78125 \nQ 15.875 22.5625 14.578125 20.359375 \nQ 13.28125 18.171875 13.28125 14.59375 \nQ 13.28125 10.296875 15.59375 7.953125 \nQ 17.921875 5.609375 22.21875 5.609375 \nz\n\" id=\"LiberationSans-97\"/>\n       <path d=\"M 27.046875 0.390625 \nQ 25.046875 -0.140625 22.96875 -0.453125 \nQ 20.90625 -0.78125 18.171875 -0.78125 \nQ 7.625 -0.78125 7.625 11.1875 \nL 7.625 46.4375 \nL 1.515625 46.4375 \nL 1.515625 52.828125 \nL 7.953125 52.828125 \nL 10.546875 64.65625 \nL 16.40625 64.65625 \nL 16.40625 52.828125 \nL 26.171875 52.828125 \nL 26.171875 46.4375 \nL 16.40625 46.4375 \nL 16.40625 13.09375 \nQ 16.40625 9.28125 17.640625 7.734375 \nQ 18.890625 6.203125 21.96875 6.203125 \nQ 23.25 6.203125 24.4375 6.390625 \nQ 25.640625 6.59375 27.046875 6.890625 \nz\n\" id=\"LiberationSans-116\"/>\n       <path d=\"M 15.328125 52.828125 \nL 15.328125 19.34375 \nQ 15.328125 15.484375 15.890625 12.890625 \nQ 16.453125 10.296875 17.71875 8.703125 \nQ 19 7.125 21.0625 6.46875 \nQ 23.140625 5.8125 26.21875 5.8125 \nQ 29.34375 5.8125 31.859375 6.90625 \nQ 34.375 8.015625 36.15625 10.078125 \nQ 37.9375 12.15625 38.90625 15.203125 \nQ 39.890625 18.265625 39.890625 22.21875 \nL 39.890625 52.828125 \nL 48.6875 52.828125 \nL 48.6875 11.28125 \nQ 48.6875 9.625 48.703125 7.78125 \nQ 48.734375 5.953125 48.78125 4.3125 \nQ 48.828125 2.6875 48.875 1.515625 \nQ 48.921875 0.34375 48.96875 0 \nL 40.671875 0 \nQ 40.625 0.25 40.578125 1.3125 \nQ 40.53125 2.390625 40.453125 3.78125 \nQ 40.375 5.171875 40.328125 6.609375 \nQ 40.28125 8.0625 40.28125 9.03125 \nL 40.140625 9.03125 \nQ 38.875 6.734375 37.359375 4.875 \nQ 35.84375 3.03125 33.84375 1.734375 \nQ 31.84375 0.4375 29.25 -0.265625 \nQ 26.65625 -0.984375 23.25 -0.984375 \nQ 18.84375 -0.984375 15.671875 0.09375 \nQ 12.5 1.171875 10.453125 3.421875 \nQ 8.40625 5.671875 7.453125 9.1875 \nQ 6.5 12.703125 6.5 17.625 \nL 6.5 52.828125 \nz\n\" id=\"LiberationSans-117\"/>\n       <path d=\"M 6.734375 0 \nL 6.734375 72.46875 \nL 15.53125 72.46875 \nL 15.53125 0 \nz\n\" id=\"LiberationSans-108\"/>\n       <path d=\"M 13.484375 24.5625 \nQ 13.484375 20.40625 14.328125 16.90625 \nQ 15.1875 13.421875 16.96875 10.90625 \nQ 18.75 8.40625 21.53125 7 \nQ 24.3125 5.609375 28.21875 5.609375 \nQ 33.9375 5.609375 37.375 7.90625 \nQ 40.828125 10.203125 42.046875 13.71875 \nL 49.75 11.53125 \nQ 48.921875 9.328125 47.4375 7.109375 \nQ 45.953125 4.890625 43.453125 3.09375 \nQ 40.96875 1.3125 37.234375 0.15625 \nQ 33.5 -0.984375 28.21875 -0.984375 \nQ 16.5 -0.984375 10.375 6 \nQ 4.25 12.984375 4.25 26.765625 \nQ 4.25 34.1875 6.09375 39.328125 \nQ 7.953125 44.484375 11.171875 47.703125 \nQ 14.40625 50.921875 18.703125 52.359375 \nQ 23 53.8125 27.875 53.8125 \nQ 34.515625 53.8125 38.984375 51.65625 \nQ 43.453125 49.515625 46.15625 45.71875 \nQ 48.875 41.9375 50.015625 36.8125 \nQ 51.171875 31.6875 51.171875 25.734375 \nL 51.171875 24.5625 \nz\nM 42.09375 31.296875 \nQ 41.359375 39.65625 37.84375 43.484375 \nQ 34.328125 47.3125 27.734375 47.3125 \nQ 25.53125 47.3125 23.109375 46.609375 \nQ 20.703125 45.90625 18.65625 44.09375 \nQ 16.609375 42.28125 15.1875 39.171875 \nQ 13.765625 36.078125 13.578125 31.296875 \nz\n\" id=\"LiberationSans-101\"/>\n      </defs>\n      <g style=\"fill:#262626;\" transform=\"translate(148.355402 62.234375)rotate(-90)scale(0.1 -0.1)\">\n       <use xlink:href=\"#LiberationSans-99\"/>\n       <use x=\"50\" xlink:href=\"#LiberationSans-111\"/>\n       <use x=\"105.615234\" xlink:href=\"#LiberationSans-110\"/>\n       <use x=\"161.230469\" xlink:href=\"#LiberationSans-103\"/>\n       <use x=\"216.845703\" xlink:href=\"#LiberationSans-114\"/>\n       <use x=\"250.146484\" xlink:href=\"#LiberationSans-97\"/>\n       <use x=\"305.761719\" xlink:href=\"#LiberationSans-116\"/>\n       <use x=\"333.544922\" xlink:href=\"#LiberationSans-117\"/>\n       <use x=\"389.160156\" xlink:href=\"#LiberationSans-108\"/>\n       <use x=\"411.376953\" xlink:href=\"#LiberationSans-97\"/>\n       <use x=\"466.992188\" xlink:href=\"#LiberationSans-116\"/>\n       <use x=\"494.775391\" xlink:href=\"#LiberationSans-101\"/>\n      </g>\n     </g>\n    </g>\n    <g id=\"xtick_3\">\n     <g id=\"line2d_3\"/>\n     <g id=\"text_3\">\n      <!-- him -->\n      <defs>\n       <path d=\"M 15.484375 43.796875 \nQ 16.9375 46.484375 18.640625 48.359375 \nQ 20.359375 50.25 22.40625 51.46875 \nQ 24.46875 52.6875 26.90625 53.25 \nQ 29.34375 53.8125 32.375 53.8125 \nQ 37.453125 53.8125 40.703125 52.4375 \nQ 43.953125 51.078125 45.828125 48.609375 \nQ 47.703125 46.140625 48.40625 42.71875 \nQ 49.125 39.3125 49.125 35.203125 \nL 49.125 0 \nL 40.28125 0 \nL 40.28125 33.5 \nQ 40.28125 36.859375 39.859375 39.390625 \nQ 39.453125 41.9375 38.28125 43.625 \nQ 37.109375 45.3125 34.953125 46.15625 \nQ 32.8125 47.015625 29.390625 47.015625 \nQ 26.265625 47.015625 23.75 45.890625 \nQ 21.234375 44.78125 19.453125 42.71875 \nQ 17.671875 40.671875 16.6875 37.734375 \nQ 15.71875 34.8125 15.71875 31.15625 \nL 15.71875 0 \nL 6.9375 0 \nL 6.9375 72.46875 \nL 15.71875 72.46875 \nL 15.71875 53.609375 \nQ 15.71875 52 15.671875 50.390625 \nQ 15.625 48.78125 15.546875 47.40625 \nQ 15.484375 46.046875 15.421875 45.09375 \nQ 15.375 44.140625 15.328125 43.796875 \nz\n\" id=\"LiberationSans-104\"/>\n       <path d=\"M 6.6875 64.0625 \nL 6.6875 72.46875 \nL 15.484375 72.46875 \nL 15.484375 64.0625 \nz\nM 6.6875 0 \nL 6.6875 52.828125 \nL 15.484375 52.828125 \nL 15.484375 0 \nz\n\" id=\"LiberationSans-105\"/>\n       <path d=\"M 37.5 0 \nL 37.5 33.5 \nQ 37.5 37.359375 37.015625 39.9375 \nQ 36.53125 42.53125 35.375 44.109375 \nQ 34.234375 45.703125 32.375 46.359375 \nQ 30.515625 47.015625 27.828125 47.015625 \nQ 25.046875 47.015625 22.796875 45.921875 \nQ 20.5625 44.828125 18.96875 42.75 \nQ 17.390625 40.671875 16.53125 37.625 \nQ 15.671875 34.578125 15.671875 30.609375 \nL 15.671875 0 \nL 6.9375 0 \nL 6.9375 41.546875 \nQ 6.9375 43.21875 6.90625 45.046875 \nQ 6.890625 46.875 6.828125 48.5 \nQ 6.78125 50.140625 6.734375 51.3125 \nQ 6.6875 52.484375 6.640625 52.828125 \nL 14.9375 52.828125 \nQ 14.984375 52.59375 15.03125 51.515625 \nQ 15.09375 50.4375 15.15625 49.046875 \nQ 15.234375 47.65625 15.28125 46.21875 \nQ 15.328125 44.78125 15.328125 43.796875 \nL 15.484375 43.796875 \nQ 16.65625 46.09375 18.015625 47.953125 \nQ 19.390625 49.8125 21.21875 51.09375 \nQ 23.046875 52.390625 25.40625 53.09375 \nQ 27.78125 53.8125 30.90625 53.8125 \nQ 36.921875 53.8125 40.40625 51.421875 \nQ 43.890625 49.03125 45.265625 43.796875 \nL 45.40625 43.796875 \nQ 46.578125 46.09375 48.046875 47.953125 \nQ 49.515625 49.8125 51.46875 51.09375 \nQ 53.421875 52.390625 55.859375 53.09375 \nQ 58.296875 53.8125 61.421875 53.8125 \nQ 65.4375 53.8125 68.328125 52.734375 \nQ 71.234375 51.65625 73.09375 49.40625 \nQ 74.953125 47.171875 75.828125 43.625 \nQ 76.703125 40.09375 76.703125 35.203125 \nL 76.703125 0 \nL 68.015625 0 \nL 68.015625 33.5 \nQ 68.015625 37.359375 67.53125 39.9375 \nQ 67.046875 42.53125 65.890625 44.109375 \nQ 64.75 45.703125 62.890625 46.359375 \nQ 61.03125 47.015625 58.34375 47.015625 \nQ 55.5625 47.015625 53.3125 45.96875 \nQ 51.078125 44.921875 49.484375 42.875 \nQ 47.90625 40.828125 47.046875 37.75 \nQ 46.1875 34.671875 46.1875 30.609375 \nL 46.1875 0 \nz\n\" id=\"LiberationSans-109\"/>\n      </defs>\n      <g style=\"fill:#262626;\" transform=\"translate(199.372545 62.234375)rotate(-90)scale(0.1 -0.1)\">\n       <use xlink:href=\"#LiberationSans-104\"/>\n       <use x=\"55.615234\" xlink:href=\"#LiberationSans-105\"/>\n       <use x=\"77.832031\" xlink:href=\"#LiberationSans-109\"/>\n      </g>\n     </g>\n    </g>\n    <g id=\"xtick_4\">\n     <g id=\"line2d_4\"/>\n     <g id=\"text_4\">\n      <!-- on -->\n      <g style=\"fill:#262626;\" transform=\"translate(250.389688 62.234375)rotate(-90)scale(0.1 -0.1)\">\n       <use xlink:href=\"#LiberationSans-111\"/>\n       <use x=\"55.615234\" xlink:href=\"#LiberationSans-110\"/>\n      </g>\n     </g>\n    </g>\n    <g id=\"xtick_5\">\n     <g id=\"line2d_5\"/>\n     <g id=\"text_5\">\n      <!-- his -->\n      <defs>\n       <path d=\"M 46.390625 14.59375 \nQ 46.390625 10.890625 44.9375 7.984375 \nQ 43.5 5.078125 40.765625 3.09375 \nQ 38.03125 1.125 34.046875 0.0625 \nQ 30.078125 -0.984375 24.953125 -0.984375 \nQ 20.359375 -0.984375 16.671875 -0.265625 \nQ 12.984375 0.4375 10.203125 2 \nQ 7.421875 3.5625 5.53125 6.125 \nQ 3.65625 8.6875 2.78125 12.40625 \nL 10.546875 13.921875 \nQ 11.671875 9.671875 15.1875 7.6875 \nQ 18.703125 5.71875 24.953125 5.71875 \nQ 27.78125 5.71875 30.140625 6.109375 \nQ 32.515625 6.5 34.21875 7.453125 \nQ 35.9375 8.40625 36.890625 9.984375 \nQ 37.84375 11.578125 37.84375 13.921875 \nQ 37.84375 16.3125 36.71875 17.84375 \nQ 35.59375 19.390625 33.59375 20.40625 \nQ 31.59375 21.4375 28.734375 22.1875 \nQ 25.875 22.953125 22.46875 23.875 \nQ 19.28125 24.703125 16.15625 25.734375 \nQ 13.03125 26.765625 10.515625 28.4375 \nQ 8.015625 30.125 6.453125 32.609375 \nQ 4.890625 35.109375 4.890625 38.875 \nQ 4.890625 46.09375 10.03125 49.875 \nQ 15.1875 53.65625 25.046875 53.65625 \nQ 33.796875 53.65625 38.9375 50.578125 \nQ 44.09375 47.515625 45.453125 40.71875 \nL 37.546875 39.75 \nQ 37.109375 41.796875 35.9375 43.1875 \nQ 34.765625 44.578125 33.109375 45.4375 \nQ 31.453125 46.296875 29.375 46.65625 \nQ 27.296875 47.015625 25.046875 47.015625 \nQ 19.09375 47.015625 16.25 45.203125 \nQ 13.421875 43.40625 13.421875 39.75 \nQ 13.421875 37.59375 14.46875 36.203125 \nQ 15.53125 34.8125 17.40625 33.859375 \nQ 19.28125 32.90625 21.921875 32.203125 \nQ 24.5625 31.5 27.734375 30.71875 \nQ 29.828125 30.171875 32.03125 29.5625 \nQ 34.234375 28.953125 36.296875 28.09375 \nQ 38.375 27.25 40.203125 26.09375 \nQ 42.046875 24.953125 43.40625 23.34375 \nQ 44.78125 21.734375 45.578125 19.578125 \nQ 46.390625 17.4375 46.390625 14.59375 \nz\n\" id=\"LiberationSans-115\"/>\n      </defs>\n      <g style=\"fill:#262626;\" transform=\"translate(301.40683 62.234375)rotate(-90)scale(0.1 -0.1)\">\n       <use xlink:href=\"#LiberationSans-104\"/>\n       <use x=\"55.615234\" xlink:href=\"#LiberationSans-105\"/>\n       <use x=\"77.832031\" xlink:href=\"#LiberationSans-115\"/>\n      </g>\n     </g>\n    </g>\n    <g id=\"xtick_6\">\n     <g id=\"line2d_6\"/>\n     <g id=\"text_6\">\n      <!-- excellent -->\n      <defs>\n       <path d=\"M 39.109375 0 \nL 24.90625 21.6875 \nL 10.59375 0 \nL 1.125 0 \nL 19.921875 27.15625 \nL 2 52.828125 \nL 11.71875 52.828125 \nL 24.90625 32.28125 \nL 37.984375 52.828125 \nL 47.796875 52.828125 \nL 29.890625 27.25 \nL 48.921875 0 \nz\n\" id=\"LiberationSans-120\"/>\n      </defs>\n      <g style=\"fill:#262626;\" transform=\"translate(352.423973 62.234375)rotate(-90)scale(0.1 -0.1)\">\n       <use xlink:href=\"#LiberationSans-101\"/>\n       <use x=\"55.615234\" xlink:href=\"#LiberationSans-120\"/>\n       <use x=\"105.615234\" xlink:href=\"#LiberationSans-99\"/>\n       <use x=\"155.615234\" xlink:href=\"#LiberationSans-101\"/>\n       <use x=\"211.230469\" xlink:href=\"#LiberationSans-108\"/>\n       <use x=\"233.447266\" xlink:href=\"#LiberationSans-108\"/>\n       <use x=\"255.664062\" xlink:href=\"#LiberationSans-101\"/>\n       <use x=\"311.279297\" xlink:href=\"#LiberationSans-110\"/>\n       <use x=\"366.894531\" xlink:href=\"#LiberationSans-116\"/>\n      </g>\n     </g>\n    </g>\n    <g id=\"xtick_7\">\n     <g id=\"line2d_7\"/>\n     <g id=\"text_7\">\n      <!-- report. -->\n      <defs>\n       <path d=\"M 51.421875 26.65625 \nQ 51.421875 20.65625 50.4375 15.578125 \nQ 49.46875 10.5 47.1875 6.828125 \nQ 44.921875 3.171875 41.1875 1.09375 \nQ 37.453125 -0.984375 31.984375 -0.984375 \nQ 26.3125 -0.984375 22.0625 1.171875 \nQ 17.828125 3.328125 15.578125 8.203125 \nL 15.328125 8.203125 \nQ 15.375 8.109375 15.40625 7.328125 \nQ 15.4375 6.546875 15.453125 5.375 \nQ 15.484375 4.203125 15.5 2.75 \nQ 15.53125 1.3125 15.53125 -0.09375 \nL 15.53125 -20.75 \nL 6.734375 -20.75 \nL 6.734375 42.046875 \nQ 6.734375 43.953125 6.703125 45.703125 \nQ 6.6875 47.46875 6.640625 48.90625 \nQ 6.59375 50.34375 6.546875 51.359375 \nQ 6.5 52.390625 6.453125 52.828125 \nL 14.9375 52.828125 \nQ 14.984375 52.6875 15.0625 51.796875 \nQ 15.140625 50.921875 15.203125 49.671875 \nQ 15.28125 48.4375 15.359375 47.015625 \nQ 15.4375 45.609375 15.4375 44.34375 \nL 15.625 44.34375 \nQ 16.84375 46.875 18.40625 48.65625 \nQ 19.96875 50.4375 21.96875 51.578125 \nQ 23.96875 52.734375 26.4375 53.25 \nQ 28.90625 53.765625 31.984375 53.765625 \nQ 37.453125 53.765625 41.1875 51.8125 \nQ 44.921875 49.859375 47.1875 46.3125 \nQ 49.46875 42.78125 50.4375 37.765625 \nQ 51.421875 32.765625 51.421875 26.65625 \nz\nM 42.1875 26.46875 \nQ 42.1875 31.34375 41.59375 35.15625 \nQ 41.015625 38.96875 39.578125 41.59375 \nQ 38.140625 44.234375 35.734375 45.59375 \nQ 33.34375 46.96875 29.734375 46.96875 \nQ 26.8125 46.96875 24.21875 46.140625 \nQ 21.625 45.3125 19.703125 42.96875 \nQ 17.78125 40.625 16.65625 36.5 \nQ 15.53125 32.375 15.53125 25.78125 \nQ 15.53125 20.171875 16.453125 16.28125 \nQ 17.390625 12.40625 19.171875 10.015625 \nQ 20.953125 7.625 23.578125 6.5625 \nQ 26.21875 5.515625 29.640625 5.515625 \nQ 33.296875 5.515625 35.71875 6.921875 \nQ 38.140625 8.34375 39.578125 11.03125 \nQ 41.015625 13.71875 41.59375 17.59375 \nQ 42.1875 21.484375 42.1875 26.46875 \nz\n\" id=\"LiberationSans-112\"/>\n       <path d=\"M 9.125 0 \nL 9.125 10.6875 \nL 18.65625 10.6875 \nL 18.65625 0 \nz\n\" id=\"LiberationSans-46\"/>\n      </defs>\n      <g style=\"fill:#262626;\" transform=\"translate(403.441116 62.234375)rotate(-90)scale(0.1 -0.1)\">\n       <use xlink:href=\"#LiberationSans-114\"/>\n       <use x=\"33.300781\" xlink:href=\"#LiberationSans-101\"/>\n       <use x=\"88.916016\" xlink:href=\"#LiberationSans-112\"/>\n       <use x=\"144.53125\" xlink:href=\"#LiberationSans-111\"/>\n       <use x=\"200.146484\" xlink:href=\"#LiberationSans-114\"/>\n       <use x=\"233.447266\" xlink:href=\"#LiberationSans-116\"/>\n       <use x=\"261.230469\" xlink:href=\"#LiberationSans-46\"/>\n      </g>\n     </g>\n    </g>\n   </g>\n   <g id=\"matplotlib.axis_2\">\n    <g id=\"ytick_1\">\n     <g id=\"line2d_8\"/>\n     <g id=\"text_8\">\n      <!-- Jag -->\n      <defs>\n       <path d=\"M 22.3125 -0.984375 \nQ 13.96875 -0.984375 8.609375 3.359375 \nQ 3.265625 7.71875 1.5625 17.09375 \nL 10.6875 18.609375 \nQ 11.1875 15.4375 12.296875 13.15625 \nQ 13.421875 10.890625 14.984375 9.421875 \nQ 16.546875 7.953125 18.453125 7.265625 \nQ 20.359375 6.59375 22.359375 6.59375 \nQ 27.4375 6.59375 30.359375 10.078125 \nQ 33.296875 13.578125 33.296875 20.3125 \nL 33.296875 61.1875 \nL 20.0625 61.1875 \nL 20.0625 68.796875 \nL 42.578125 68.796875 \nL 42.578125 20.515625 \nQ 42.578125 15.578125 41.203125 11.625 \nQ 39.84375 7.671875 37.234375 4.859375 \nQ 34.625 2.046875 30.859375 0.53125 \nQ 27.09375 -0.984375 22.3125 -0.984375 \nz\n\" id=\"LiberationSans-74\"/>\n      </defs>\n      <g style=\"fill:#262626;\" transform=\"translate(46.121875 94.213527)scale(0.1 -0.1)\">\n       <use xlink:href=\"#LiberationSans-74\"/>\n       <use x=\"50\" xlink:href=\"#LiberationSans-97\"/>\n       <use x=\"105.615234\" xlink:href=\"#LiberationSans-103\"/>\n      </g>\n     </g>\n    </g>\n    <g id=\"ytick_2\">\n     <g id=\"line2d_9\"/>\n     <g id=\"text_9\">\n      <!-- gratulerar -->\n      <g style=\"fill:#262626;\" transform=\"translate(19.45 136.924955)scale(0.1 -0.1)\">\n       <use xlink:href=\"#LiberationSans-103\"/>\n       <use x=\"55.615234\" xlink:href=\"#LiberationSans-114\"/>\n       <use x=\"88.916016\" xlink:href=\"#LiberationSans-97\"/>\n       <use x=\"144.53125\" xlink:href=\"#LiberationSans-116\"/>\n       <use x=\"172.314453\" xlink:href=\"#LiberationSans-117\"/>\n       <use x=\"227.929688\" xlink:href=\"#LiberationSans-108\"/>\n       <use x=\"250.146484\" xlink:href=\"#LiberationSans-101\"/>\n       <use x=\"305.761719\" xlink:href=\"#LiberationSans-114\"/>\n       <use x=\"339.0625\" xlink:href=\"#LiberationSans-97\"/>\n       <use x=\"394.677734\" xlink:href=\"#LiberationSans-114\"/>\n      </g>\n     </g>\n    </g>\n    <g id=\"ytick_3\">\n     <g id=\"line2d_10\"/>\n     <g id=\"text_10\">\n      <!-- honom -->\n      <g style=\"fill:#262626;\" transform=\"translate(31.670313 179.636384)scale(0.1 -0.1)\">\n       <use xlink:href=\"#LiberationSans-104\"/>\n       <use x=\"55.615234\" xlink:href=\"#LiberationSans-111\"/>\n       <use x=\"111.230469\" xlink:href=\"#LiberationSans-110\"/>\n       <use x=\"166.845703\" xlink:href=\"#LiberationSans-111\"/>\n       <use x=\"222.460938\" xlink:href=\"#LiberationSans-109\"/>\n      </g>\n     </g>\n    </g>\n    <g id=\"ytick_4\">\n     <g id=\"line2d_11\"/>\n     <g id=\"text_11\">\n      <!-- till -->\n      <g style=\"fill:#262626;\" transform=\"translate(52.8 222.347813)scale(0.1 -0.1)\">\n       <use xlink:href=\"#LiberationSans-116\"/>\n       <use x=\"27.783203\" xlink:href=\"#LiberationSans-105\"/>\n       <use x=\"50\" xlink:href=\"#LiberationSans-108\"/>\n       <use x=\"72.216797\" xlink:href=\"#LiberationSans-108\"/>\n      </g>\n     </g>\n    </g>\n    <g id=\"ytick_5\">\n     <g id=\"line2d_12\"/>\n     <g id=\"text_12\">\n      <!-- hans -->\n      <g style=\"fill:#262626;\" transform=\"translate(40.560938 265.059241)scale(0.1 -0.1)\">\n       <use xlink:href=\"#LiberationSans-104\"/>\n       <use x=\"55.615234\" xlink:href=\"#LiberationSans-97\"/>\n       <use x=\"111.230469\" xlink:href=\"#LiberationSans-110\"/>\n       <use x=\"166.845703\" xlink:href=\"#LiberationSans-115\"/>\n      </g>\n     </g>\n    </g>\n    <g id=\"ytick_6\">\n     <g id=\"line2d_13\"/>\n     <g id=\"text_13\">\n      <!-- utmärkta -->\n      <defs>\n       <path d=\"M 20.21875 -0.984375 \nQ 12.25 -0.984375 8.25 3.21875 \nQ 4.25 7.421875 4.25 14.75 \nQ 4.25 19.96875 6.21875 23.3125 \nQ 8.203125 26.65625 11.390625 28.5625 \nQ 14.59375 30.46875 18.6875 31.203125 \nQ 22.796875 31.9375 27.046875 32.03125 \nL 38.921875 32.234375 \nL 38.921875 35.109375 \nQ 38.921875 38.375 38.234375 40.671875 \nQ 37.546875 42.96875 36.125 44.375 \nQ 34.71875 45.796875 32.59375 46.453125 \nQ 30.46875 47.125 27.59375 47.125 \nQ 25.046875 47.125 23 46.75 \nQ 20.953125 46.390625 19.4375 45.4375 \nQ 17.921875 44.484375 16.984375 42.84375 \nQ 16.0625 41.21875 15.765625 38.71875 \nL 6.59375 39.546875 \nQ 7.078125 42.671875 8.4375 45.28125 \nQ 9.8125 47.90625 12.328125 49.796875 \nQ 14.84375 51.703125 18.625 52.75 \nQ 22.40625 53.8125 27.78125 53.8125 \nQ 37.75 53.8125 42.765625 49.234375 \nQ 47.796875 44.671875 47.796875 36.03125 \nL 47.796875 13.28125 \nQ 47.796875 9.375 48.828125 7.390625 \nQ 49.859375 5.421875 52.734375 5.421875 \nQ 53.46875 5.421875 54.203125 5.515625 \nQ 54.9375 5.609375 55.609375 5.765625 \nL 55.609375 0.296875 \nQ 53.953125 -0.09375 52.3125 -0.28125 \nQ 50.6875 -0.484375 48.828125 -0.484375 \nQ 46.34375 -0.484375 44.5625 0.171875 \nQ 42.78125 0.828125 41.65625 2.171875 \nQ 40.53125 3.515625 39.9375 5.484375 \nQ 39.359375 7.46875 39.203125 10.109375 \nL 38.921875 10.109375 \nQ 37.5 7.5625 35.8125 5.515625 \nQ 34.125 3.46875 31.875 2.03125 \nQ 29.640625 0.59375 26.78125 -0.1875 \nQ 23.921875 -0.984375 20.21875 -0.984375 \nz\nM 22.21875 5.609375 \nQ 26.421875 5.609375 29.5625 7.140625 \nQ 32.71875 8.6875 34.78125 11.078125 \nQ 36.859375 13.484375 37.890625 16.3125 \nQ 38.921875 19.140625 38.921875 21.734375 \nL 38.921875 26.078125 \nL 29.296875 25.875 \nQ 26.078125 25.828125 23.171875 25.40625 \nQ 20.265625 25 18.0625 23.78125 \nQ 15.875 22.5625 14.578125 20.359375 \nQ 13.28125 18.171875 13.28125 14.59375 \nQ 13.28125 10.296875 15.59375 7.953125 \nQ 17.921875 5.609375 22.21875 5.609375 \nz\nM 32.9375 59.515625 \nL 32.9375 68.5 \nL 40.890625 68.5 \nL 40.890625 59.515625 \nz\nM 13.703125 59.515625 \nL 13.703125 68.5 \nL 21.75 68.5 \nL 21.75 59.515625 \nz\n\" id=\"LiberationSans-228\"/>\n       <path d=\"M 39.84375 0 \nL 21.96875 24.125 \nL 15.53125 18.796875 \nL 15.53125 0 \nL 6.734375 0 \nL 6.734375 72.46875 \nL 15.53125 72.46875 \nL 15.53125 27.203125 \nL 38.71875 52.828125 \nL 49.03125 52.828125 \nL 27.59375 30.125 \nL 50.140625 0 \nz\n\" id=\"LiberationSans-107\"/>\n      </defs>\n      <g style=\"fill:#262626;\" transform=\"translate(23.345313 307.77067)scale(0.1 -0.1)\">\n       <use xlink:href=\"#LiberationSans-117\"/>\n       <use x=\"55.615234\" xlink:href=\"#LiberationSans-116\"/>\n       <use x=\"83.398438\" xlink:href=\"#LiberationSans-109\"/>\n       <use x=\"166.699219\" xlink:href=\"#LiberationSans-228\"/>\n       <use x=\"222.314453\" xlink:href=\"#LiberationSans-114\"/>\n       <use x=\"255.615234\" xlink:href=\"#LiberationSans-107\"/>\n       <use x=\"305.615234\" xlink:href=\"#LiberationSans-116\"/>\n       <use x=\"333.398438\" xlink:href=\"#LiberationSans-97\"/>\n      </g>\n     </g>\n    </g>\n    <g id=\"ytick_7\">\n     <g id=\"line2d_14\"/>\n     <g id=\"text_14\">\n      <!-- betänkande. -->\n      <defs>\n       <path d=\"M 51.421875 26.65625 \nQ 51.421875 -0.984375 31.984375 -0.984375 \nQ 25.984375 -0.984375 22 1.1875 \nQ 18.015625 3.375 15.53125 8.203125 \nL 15.4375 8.203125 \nQ 15.4375 6.9375 15.359375 5.5625 \nQ 15.28125 4.203125 15.203125 3.03125 \nQ 15.140625 1.859375 15.0625 1.03125 \nQ 14.984375 0.203125 14.9375 0 \nL 6.453125 0 \nQ 6.5 0.4375 6.546875 1.484375 \nQ 6.59375 2.546875 6.640625 4 \nQ 6.6875 5.46875 6.703125 7.21875 \nQ 6.734375 8.984375 6.734375 10.890625 \nL 6.734375 72.46875 \nL 15.53125 72.46875 \nL 15.53125 51.8125 \nQ 15.53125 50.34375 15.5 49 \nQ 15.484375 47.65625 15.4375 46.625 \nQ 15.375 45.40625 15.328125 44.34375 \nL 15.53125 44.34375 \nQ 17.96875 49.421875 22 51.609375 \nQ 26.03125 53.8125 31.984375 53.8125 \nQ 42 53.8125 46.703125 47.0625 \nQ 51.421875 40.328125 51.421875 26.65625 \nz\nM 42.1875 26.375 \nQ 42.1875 31.84375 41.5 35.75 \nQ 40.828125 39.65625 39.3125 42.15625 \nQ 37.796875 44.671875 35.453125 45.84375 \nQ 33.109375 47.015625 29.734375 47.015625 \nQ 26.265625 47.015625 23.609375 45.890625 \nQ 20.953125 44.78125 19.171875 42.28125 \nQ 17.390625 39.796875 16.453125 35.734375 \nQ 15.53125 31.6875 15.53125 25.828125 \nQ 15.53125 20.171875 16.453125 16.3125 \nQ 17.390625 12.453125 19.171875 10.03125 \nQ 20.953125 7.625 23.578125 6.5625 \nQ 26.21875 5.515625 29.640625 5.515625 \nQ 32.859375 5.515625 35.203125 6.640625 \nQ 37.546875 7.765625 39.109375 10.25 \nQ 40.671875 12.75 41.421875 16.71875 \nQ 42.1875 20.703125 42.1875 26.375 \nz\n\" id=\"LiberationSans-98\"/>\n       <path d=\"M 40.09375 8.5 \nQ 37.640625 3.421875 33.609375 1.21875 \nQ 29.59375 -0.984375 23.640625 -0.984375 \nQ 13.625 -0.984375 8.90625 5.75 \nQ 4.203125 12.5 4.203125 26.171875 \nQ 4.203125 53.8125 23.640625 53.8125 \nQ 29.640625 53.8125 33.640625 51.609375 \nQ 37.640625 49.421875 40.09375 44.625 \nL 40.1875 44.625 \nQ 40.1875 45.125 40.15625 46.171875 \nQ 40.140625 47.21875 40.109375 48.359375 \nQ 40.09375 49.515625 40.09375 50.53125 \nQ 40.09375 51.5625 40.09375 52 \nL 40.09375 72.46875 \nL 48.875 72.46875 \nL 48.875 10.890625 \nQ 48.875 8.984375 48.890625 7.21875 \nQ 48.921875 5.46875 48.96875 4 \nQ 49.03125 2.546875 49.078125 1.484375 \nQ 49.125 0.4375 49.171875 0 \nL 40.765625 0 \nQ 40.671875 0.484375 40.59375 1.390625 \nQ 40.53125 2.296875 40.453125 3.46875 \nQ 40.375 4.640625 40.328125 5.9375 \nQ 40.28125 7.234375 40.28125 8.5 \nz\nM 13.421875 26.46875 \nQ 13.421875 21 14.109375 17.09375 \nQ 14.796875 13.1875 16.3125 10.671875 \nQ 17.828125 8.15625 20.171875 6.984375 \nQ 22.515625 5.8125 25.875 5.8125 \nQ 29.34375 5.8125 32 6.9375 \nQ 34.671875 8.0625 36.453125 10.578125 \nQ 38.234375 13.09375 39.15625 17.140625 \nQ 40.09375 21.1875 40.09375 27.046875 \nQ 40.09375 32.671875 39.15625 36.546875 \nQ 38.234375 40.4375 36.421875 42.828125 \nQ 34.625 45.21875 32 46.265625 \nQ 29.390625 47.3125 25.984375 47.3125 \nQ 22.75 47.3125 20.40625 46.1875 \nQ 18.0625 45.0625 16.5 42.578125 \nQ 14.9375 40.09375 14.171875 36.109375 \nQ 13.421875 32.125 13.421875 26.46875 \nz\n\" id=\"LiberationSans-100\"/>\n      </defs>\n      <g style=\"fill:#262626;\" transform=\"translate(7.2 350.482098)scale(0.1 -0.1)\">\n       <use xlink:href=\"#LiberationSans-98\"/>\n       <use x=\"55.615234\" xlink:href=\"#LiberationSans-101\"/>\n       <use x=\"111.230469\" xlink:href=\"#LiberationSans-116\"/>\n       <use x=\"139.013672\" xlink:href=\"#LiberationSans-228\"/>\n       <use x=\"194.628906\" xlink:href=\"#LiberationSans-110\"/>\n       <use x=\"250.244141\" xlink:href=\"#LiberationSans-107\"/>\n       <use x=\"300.244141\" xlink:href=\"#LiberationSans-97\"/>\n       <use x=\"355.859375\" xlink:href=\"#LiberationSans-110\"/>\n       <use x=\"411.474609\" xlink:href=\"#LiberationSans-100\"/>\n       <use x=\"467.089844\" xlink:href=\"#LiberationSans-101\"/>\n       <use x=\"522.705078\" xlink:href=\"#LiberationSans-46\"/>\n      </g>\n     </g>\n    </g>\n   </g>\n   <g id=\"PolyCollection_1\">\n    <path clip-path=\"url(#p4eab0ade13)\" d=\"M 69.24375 69.234375 \nL 69.24375 111.945804 \nL 120.260893 111.945804 \nL 120.260893 69.234375 \nL 69.24375 69.234375 \nz\n\" style=\"fill:#083a7a;\"/>\n    <path clip-path=\"url(#p4eab0ade13)\" d=\"M 120.260893 69.234375 \nL 120.260893 111.945804 \nL 171.278036 111.945804 \nL 171.278036 69.234375 \nL 120.260893 69.234375 \nz\n\" style=\"fill:#4997c9;\"/>\n    <path clip-path=\"url(#p4eab0ade13)\" d=\"M 171.278036 69.234375 \nL 171.278036 111.945804 \nL 222.295179 111.945804 \nL 222.295179 69.234375 \nL 171.278036 69.234375 \nz\n\" style=\"fill:#c1d9ed;\"/>\n    <path clip-path=\"url(#p4eab0ade13)\" d=\"M 222.295179 69.234375 \nL 222.295179 111.945804 \nL 273.312321 111.945804 \nL 273.312321 69.234375 \nL 222.295179 69.234375 \nz\n\" style=\"fill:#083d7f;\"/>\n    <path clip-path=\"url(#p4eab0ade13)\" d=\"M 273.312321 69.234375 \nL 273.312321 111.945804 \nL 324.329464 111.945804 \nL 324.329464 69.234375 \nL 273.312321 69.234375 \nz\n\" style=\"fill:#083979;\"/>\n    <path clip-path=\"url(#p4eab0ade13)\" d=\"M 324.329464 69.234375 \nL 324.329464 111.945804 \nL 375.346607 111.945804 \nL 375.346607 69.234375 \nL 324.329464 69.234375 \nz\n\" style=\"fill:#08326e;\"/>\n    <path clip-path=\"url(#p4eab0ade13)\" d=\"M 375.346607 69.234375 \nL 375.346607 111.945804 \nL 426.36375 111.945804 \nL 426.36375 69.234375 \nL 375.346607 69.234375 \nz\n\" style=\"fill:#08306b;\"/>\n    <path clip-path=\"url(#p4eab0ade13)\" d=\"M 69.24375 111.945804 \nL 69.24375 154.657232 \nL 120.260893 154.657232 \nL 120.260893 111.945804 \nL 69.24375 111.945804 \nz\n\" style=\"fill:#084082;\"/>\n    <path clip-path=\"url(#p4eab0ade13)\" d=\"M 120.260893 111.945804 \nL 120.260893 154.657232 \nL 171.278036 154.657232 \nL 171.278036 111.945804 \nL 120.260893 111.945804 \nz\n\" style=\"fill:#d9e8f5;\"/>\n    <path clip-path=\"url(#p4eab0ade13)\" d=\"M 171.278036 111.945804 \nL 171.278036 154.657232 \nL 222.295179 154.657232 \nL 222.295179 111.945804 \nL 171.278036 111.945804 \nz\n\" style=\"fill:#3484bf;\"/>\n    <path clip-path=\"url(#p4eab0ade13)\" d=\"M 222.295179 111.945804 \nL 222.295179 154.657232 \nL 273.312321 154.657232 \nL 273.312321 111.945804 \nL 222.295179 111.945804 \nz\n\" style=\"fill:#083370;\"/>\n    <path clip-path=\"url(#p4eab0ade13)\" d=\"M 273.312321 111.945804 \nL 273.312321 154.657232 \nL 324.329464 154.657232 \nL 324.329464 111.945804 \nL 273.312321 111.945804 \nz\n\" style=\"fill:#083471;\"/>\n    <path clip-path=\"url(#p4eab0ade13)\" d=\"M 324.329464 111.945804 \nL 324.329464 154.657232 \nL 375.346607 154.657232 \nL 375.346607 111.945804 \nL 324.329464 111.945804 \nz\n\" style=\"fill:#08316d;\"/>\n    <path clip-path=\"url(#p4eab0ade13)\" d=\"M 375.346607 111.945804 \nL 375.346607 154.657232 \nL 426.36375 154.657232 \nL 426.36375 111.945804 \nL 375.346607 111.945804 \nz\n\" style=\"fill:#08306b;\"/>\n    <path clip-path=\"url(#p4eab0ade13)\" d=\"M 69.24375 154.657232 \nL 69.24375 197.368661 \nL 120.260893 197.368661 \nL 120.260893 154.657232 \nL 69.24375 154.657232 \nz\n\" style=\"fill:#083370;\"/>\n    <path clip-path=\"url(#p4eab0ade13)\" d=\"M 120.260893 154.657232 \nL 120.260893 197.368661 \nL 171.278036 197.368661 \nL 171.278036 154.657232 \nL 120.260893 154.657232 \nz\n\" style=\"fill:#66abd4;\"/>\n    <path clip-path=\"url(#p4eab0ade13)\" d=\"M 171.278036 154.657232 \nL 171.278036 197.368661 \nL 222.295179 197.368661 \nL 222.295179 154.657232 \nL 171.278036 154.657232 \nz\n\" style=\"fill:#c3daee;\"/>\n    <path clip-path=\"url(#p4eab0ade13)\" d=\"M 222.295179 154.657232 \nL 222.295179 197.368661 \nL 273.312321 197.368661 \nL 273.312321 154.657232 \nL 222.295179 154.657232 \nz\n\" style=\"fill:#083370;\"/>\n    <path clip-path=\"url(#p4eab0ade13)\" d=\"M 273.312321 154.657232 \nL 273.312321 197.368661 \nL 324.329464 197.368661 \nL 324.329464 154.657232 \nL 273.312321 154.657232 \nz\n\" style=\"fill:#083370;\"/>\n    <path clip-path=\"url(#p4eab0ade13)\" d=\"M 324.329464 154.657232 \nL 324.329464 197.368661 \nL 375.346607 197.368661 \nL 375.346607 154.657232 \nL 324.329464 154.657232 \nz\n\" style=\"fill:#08306b;\"/>\n    <path clip-path=\"url(#p4eab0ade13)\" d=\"M 375.346607 154.657232 \nL 375.346607 197.368661 \nL 426.36375 197.368661 \nL 426.36375 154.657232 \nL 375.346607 154.657232 \nz\n\" style=\"fill:#08306b;\"/>\n    <path clip-path=\"url(#p4eab0ade13)\" d=\"M 69.24375 197.368661 \nL 69.24375 240.080089 \nL 120.260893 240.080089 \nL 120.260893 197.368661 \nL 69.24375 197.368661 \nz\n\" style=\"fill:#083776;\"/>\n    <path clip-path=\"url(#p4eab0ade13)\" d=\"M 120.260893 197.368661 \nL 120.260893 240.080089 \nL 171.278036 240.080089 \nL 171.278036 197.368661 \nL 120.260893 197.368661 \nz\n\" style=\"fill:#084b93;\"/>\n    <path clip-path=\"url(#p4eab0ade13)\" d=\"M 171.278036 197.368661 \nL 171.278036 240.080089 \nL 222.295179 240.080089 \nL 222.295179 197.368661 \nL 171.278036 197.368661 \nz\n\" style=\"fill:#b8d5ea;\"/>\n    <path clip-path=\"url(#p4eab0ade13)\" d=\"M 222.295179 197.368661 \nL 222.295179 240.080089 \nL 273.312321 240.080089 \nL 273.312321 197.368661 \nL 222.295179 197.368661 \nz\n\" style=\"fill:#105ba4;\"/>\n    <path clip-path=\"url(#p4eab0ade13)\" d=\"M 273.312321 197.368661 \nL 273.312321 240.080089 \nL 324.329464 240.080089 \nL 324.329464 197.368661 \nL 273.312321 197.368661 \nz\n\" style=\"fill:#1460a8;\"/>\n    <path clip-path=\"url(#p4eab0ade13)\" d=\"M 324.329464 197.368661 \nL 324.329464 240.080089 \nL 375.346607 240.080089 \nL 375.346607 197.368661 \nL 324.329464 197.368661 \nz\n\" style=\"fill:#08458a;\"/>\n    <path clip-path=\"url(#p4eab0ade13)\" d=\"M 375.346607 197.368661 \nL 375.346607 240.080089 \nL 426.36375 240.080089 \nL 426.36375 197.368661 \nL 375.346607 197.368661 \nz\n\" style=\"fill:#08306b;\"/>\n    <path clip-path=\"url(#p4eab0ade13)\" d=\"M 69.24375 240.080089 \nL 69.24375 282.791518 \nL 120.260893 282.791518 \nL 120.260893 240.080089 \nL 69.24375 240.080089 \nz\n\" style=\"fill:#08316d;\"/>\n    <path clip-path=\"url(#p4eab0ade13)\" d=\"M 120.260893 240.080089 \nL 120.260893 282.791518 \nL 171.278036 282.791518 \nL 171.278036 240.080089 \nL 120.260893 240.080089 \nz\n\" style=\"fill:#083471;\"/>\n    <path clip-path=\"url(#p4eab0ade13)\" d=\"M 171.278036 240.080089 \nL 171.278036 282.791518 \nL 222.295179 282.791518 \nL 222.295179 240.080089 \nL 171.278036 240.080089 \nz\n\" style=\"fill:#08509b;\"/>\n    <path clip-path=\"url(#p4eab0ade13)\" d=\"M 222.295179 240.080089 \nL 222.295179 282.791518 \nL 273.312321 282.791518 \nL 273.312321 240.080089 \nL 222.295179 240.080089 \nz\n\" style=\"fill:#0f5aa3;\"/>\n    <path clip-path=\"url(#p4eab0ade13)\" d=\"M 273.312321 240.080089 \nL 273.312321 282.791518 \nL 324.329464 282.791518 \nL 324.329464 240.080089 \nL 273.312321 240.080089 \nz\n\" style=\"fill:#cde0f1;\"/>\n    <path clip-path=\"url(#p4eab0ade13)\" d=\"M 324.329464 240.080089 \nL 324.329464 282.791518 \nL 375.346607 282.791518 \nL 375.346607 240.080089 \nL 324.329464 240.080089 \nz\n\" style=\"fill:#115ca5;\"/>\n    <path clip-path=\"url(#p4eab0ade13)\" d=\"M 375.346607 240.080089 \nL 375.346607 282.791518 \nL 426.36375 282.791518 \nL 426.36375 240.080089 \nL 375.346607 240.080089 \nz\n\" style=\"fill:#08306b;\"/>\n    <path clip-path=\"url(#p4eab0ade13)\" d=\"M 69.24375 282.791518 \nL 69.24375 325.502946 \nL 120.260893 325.502946 \nL 120.260893 282.791518 \nL 69.24375 282.791518 \nz\n\" style=\"fill:#08306b;\"/>\n    <path clip-path=\"url(#p4eab0ade13)\" d=\"M 120.260893 282.791518 \nL 120.260893 325.502946 \nL 171.278036 325.502946 \nL 171.278036 282.791518 \nL 120.260893 282.791518 \nz\n\" style=\"fill:#08326e;\"/>\n    <path clip-path=\"url(#p4eab0ade13)\" d=\"M 171.278036 282.791518 \nL 171.278036 325.502946 \nL 222.295179 325.502946 \nL 222.295179 282.791518 \nL 171.278036 282.791518 \nz\n\" style=\"fill:#084082;\"/>\n    <path clip-path=\"url(#p4eab0ade13)\" d=\"M 222.295179 282.791518 \nL 222.295179 325.502946 \nL 273.312321 325.502946 \nL 273.312321 282.791518 \nL 222.295179 282.791518 \nz\n\" style=\"fill:#083573;\"/>\n    <path clip-path=\"url(#p4eab0ade13)\" d=\"M 273.312321 282.791518 \nL 273.312321 325.502946 \nL 324.329464 325.502946 \nL 324.329464 282.791518 \nL 273.312321 282.791518 \nz\n\" style=\"fill:#115ca5;\"/>\n    <path clip-path=\"url(#p4eab0ade13)\" d=\"M 324.329464 282.791518 \nL 324.329464 325.502946 \nL 375.346607 325.502946 \nL 375.346607 282.791518 \nL 324.329464 282.791518 \nz\n\" style=\"fill:#f7fbff;\"/>\n    <path clip-path=\"url(#p4eab0ade13)\" d=\"M 375.346607 282.791518 \nL 375.346607 325.502946 \nL 426.36375 325.502946 \nL 426.36375 282.791518 \nL 375.346607 282.791518 \nz\n\" style=\"fill:#08316d;\"/>\n    <path clip-path=\"url(#p4eab0ade13)\" d=\"M 69.24375 325.502946 \nL 69.24375 368.214375 \nL 120.260893 368.214375 \nL 120.260893 325.502946 \nL 69.24375 325.502946 \nz\n\" style=\"fill:#08306b;\"/>\n    <path clip-path=\"url(#p4eab0ade13)\" d=\"M 120.260893 325.502946 \nL 120.260893 368.214375 \nL 171.278036 368.214375 \nL 171.278036 325.502946 \nL 120.260893 325.502946 \nz\n\" style=\"fill:#08326e;\"/>\n    <path clip-path=\"url(#p4eab0ade13)\" d=\"M 171.278036 325.502946 \nL 171.278036 368.214375 \nL 222.295179 368.214375 \nL 222.295179 325.502946 \nL 171.278036 325.502946 \nz\n\" style=\"fill:#083573;\"/>\n    <path clip-path=\"url(#p4eab0ade13)\" d=\"M 222.295179 325.502946 \nL 222.295179 368.214375 \nL 273.312321 368.214375 \nL 273.312321 325.502946 \nL 222.295179 325.502946 \nz\n\" style=\"fill:#083370;\"/>\n    <path clip-path=\"url(#p4eab0ade13)\" d=\"M 273.312321 325.502946 \nL 273.312321 368.214375 \nL 324.329464 368.214375 \nL 324.329464 325.502946 \nL 273.312321 325.502946 \nz\n\" style=\"fill:#083573;\"/>\n    <path clip-path=\"url(#p4eab0ade13)\" d=\"M 324.329464 325.502946 \nL 324.329464 368.214375 \nL 375.346607 368.214375 \nL 375.346607 325.502946 \nL 324.329464 325.502946 \nz\n\" style=\"fill:#2e7ebc;\"/>\n    <path clip-path=\"url(#p4eab0ade13)\" d=\"M 375.346607 325.502946 \nL 375.346607 368.214375 \nL 426.36375 368.214375 \nL 426.36375 325.502946 \nL 375.346607 325.502946 \nz\n\" style=\"fill:#e3eef9;\"/>\n   </g>\n   <g id=\"patch_3\">\n    <path d=\"M 69.24375 368.214375 \nL 69.24375 69.234375 \n\" style=\"fill:none;\"/>\n   </g>\n   <g id=\"patch_4\">\n    <path d=\"M 426.36375 368.214375 \nL 426.36375 69.234375 \n\" style=\"fill:none;\"/>\n   </g>\n   <g id=\"patch_5\">\n    <path d=\"M 69.24375 368.214375 \nL 426.36375 368.214375 \n\" style=\"fill:none;\"/>\n   </g>\n   <g id=\"patch_6\">\n    <path d=\"M 69.24375 69.234375 \nL 426.36375 69.234375 \n\" style=\"fill:none;\"/>\n   </g>\n  </g>\n  <g id=\"axes_2\">\n   <g id=\"patch_7\">\n    <path clip-path=\"url(#p24b1270afd)\" d=\"M 448.68375 368.214375 \nL 448.68375 367.046484 \nL 448.68375 70.402266 \nL 448.68375 69.234375 \nL 463.63275 69.234375 \nL 463.63275 70.402266 \nL 463.63275 367.046484 \nL 463.63275 368.214375 \nz\n\" style=\"fill:#eaeaf2;stroke:#eaeaf2;stroke-linejoin:miter;stroke-width:0.01;\"/>\n   </g>\n   <g id=\"matplotlib.axis_3\"/>\n   <g id=\"matplotlib.axis_4\">\n    <g id=\"ytick_8\">\n     <g id=\"line2d_15\"/>\n     <g id=\"text_15\">\n      <!-- 0.1 -->\n      <defs>\n       <path d=\"M 51.703125 34.421875 \nQ 51.703125 24.515625 49.828125 17.75 \nQ 47.953125 10.984375 44.703125 6.8125 \nQ 41.453125 2.640625 37.0625 0.828125 \nQ 32.671875 -0.984375 27.6875 -0.984375 \nQ 22.65625 -0.984375 18.3125 0.828125 \nQ 13.96875 2.640625 10.765625 6.78125 \nQ 7.5625 10.9375 5.734375 17.703125 \nQ 3.90625 24.46875 3.90625 34.421875 \nQ 3.90625 44.828125 5.734375 51.640625 \nQ 7.5625 58.453125 10.78125 62.5 \nQ 14.015625 66.546875 18.40625 68.1875 \nQ 22.796875 69.828125 27.984375 69.828125 \nQ 32.90625 69.828125 37.21875 68.1875 \nQ 41.546875 66.546875 44.765625 62.5 \nQ 48 58.453125 49.84375 51.640625 \nQ 51.703125 44.828125 51.703125 34.421875 \nz\nM 42.78125 34.421875 \nQ 42.78125 42.625 41.796875 48.0625 \nQ 40.828125 53.515625 38.921875 56.765625 \nQ 37.015625 60.015625 34.25 61.359375 \nQ 31.5 62.703125 27.984375 62.703125 \nQ 24.265625 62.703125 21.4375 61.328125 \nQ 18.609375 59.96875 16.671875 56.71875 \nQ 14.75 53.46875 13.765625 48.015625 \nQ 12.796875 42.578125 12.796875 34.421875 \nQ 12.796875 26.515625 13.796875 21.09375 \nQ 14.796875 15.671875 16.71875 12.375 \nQ 18.65625 9.078125 21.4375 7.640625 \nQ 24.21875 6.203125 27.78125 6.203125 \nQ 31.25 6.203125 34.03125 7.640625 \nQ 36.8125 9.078125 38.734375 12.375 \nQ 40.671875 15.671875 41.71875 21.09375 \nQ 42.78125 26.515625 42.78125 34.421875 \nz\n\" id=\"LiberationSans-48\"/>\n       <path d=\"M 7.625 0 \nL 7.625 7.46875 \nL 25.140625 7.46875 \nL 25.140625 60.40625 \nL 9.625 49.3125 \nL 9.625 57.625 \nL 25.875 68.796875 \nL 33.984375 68.796875 \nL 33.984375 7.46875 \nL 50.734375 7.46875 \nL 50.734375 0 \nz\n\" id=\"LiberationSans-49\"/>\n      </defs>\n      <g style=\"fill:#262626;\" transform=\"translate(470.63275 333.884556)scale(0.1 -0.1)\">\n       <use xlink:href=\"#LiberationSans-48\"/>\n       <use x=\"55.615234\" xlink:href=\"#LiberationSans-46\"/>\n       <use x=\"83.398438\" xlink:href=\"#LiberationSans-49\"/>\n      </g>\n     </g>\n    </g>\n    <g id=\"ytick_9\">\n     <g id=\"line2d_16\"/>\n     <g id=\"text_16\">\n      <!-- 0.2 -->\n      <defs>\n       <path d=\"M 5.03125 0 \nL 5.03125 6.203125 \nQ 7.515625 11.921875 11.109375 16.28125 \nQ 14.703125 20.65625 18.65625 24.1875 \nQ 22.609375 27.734375 26.484375 30.765625 \nQ 30.375 33.796875 33.5 36.8125 \nQ 36.625 39.84375 38.546875 43.15625 \nQ 40.484375 46.484375 40.484375 50.6875 \nQ 40.484375 53.609375 39.59375 55.828125 \nQ 38.71875 58.0625 37.0625 59.5625 \nQ 35.40625 61.078125 33.078125 61.828125 \nQ 30.765625 62.59375 27.9375 62.59375 \nQ 25.296875 62.59375 22.96875 61.859375 \nQ 20.65625 61.140625 18.84375 59.671875 \nQ 17.046875 58.203125 15.890625 56.03125 \nQ 14.75 53.859375 14.40625 50.984375 \nL 5.421875 51.8125 \nQ 5.859375 55.515625 7.46875 58.78125 \nQ 9.078125 62.0625 11.90625 64.53125 \nQ 14.75 67 18.71875 68.40625 \nQ 22.703125 69.828125 27.9375 69.828125 \nQ 33.0625 69.828125 37.0625 68.609375 \nQ 41.0625 67.390625 43.8125 64.984375 \nQ 46.578125 62.59375 48.046875 59.078125 \nQ 49.515625 55.5625 49.515625 50.984375 \nQ 49.515625 47.515625 48.265625 44.390625 \nQ 47.015625 41.265625 44.9375 38.421875 \nQ 42.875 35.59375 40.140625 32.953125 \nQ 37.40625 30.328125 34.421875 27.8125 \nQ 31.453125 25.296875 28.421875 22.828125 \nQ 25.390625 20.359375 22.71875 17.859375 \nQ 20.0625 15.375 17.96875 12.8125 \nQ 15.875 10.25 14.703125 7.46875 \nL 50.59375 7.46875 \nL 50.59375 0 \nz\n\" id=\"LiberationSans-50\"/>\n      </defs>\n      <g style=\"fill:#262626;\" transform=\"translate(470.63275 295.890807)scale(0.1 -0.1)\">\n       <use xlink:href=\"#LiberationSans-48\"/>\n       <use x=\"55.615234\" xlink:href=\"#LiberationSans-46\"/>\n       <use x=\"83.398438\" xlink:href=\"#LiberationSans-50\"/>\n      </g>\n     </g>\n    </g>\n    <g id=\"ytick_10\">\n     <g id=\"line2d_17\"/>\n     <g id=\"text_17\">\n      <!-- 0.3 -->\n      <defs>\n       <path d=\"M 51.21875 19 \nQ 51.21875 14.265625 49.671875 10.546875 \nQ 48.140625 6.84375 45.1875 4.265625 \nQ 42.234375 1.703125 37.859375 0.359375 \nQ 33.5 -0.984375 27.875 -0.984375 \nQ 21.484375 -0.984375 17.109375 0.609375 \nQ 12.75 2.203125 9.90625 4.8125 \nQ 7.078125 7.421875 5.65625 10.765625 \nQ 4.25 14.109375 3.8125 17.671875 \nL 12.890625 18.5 \nQ 13.28125 15.765625 14.328125 13.515625 \nQ 15.375 11.28125 17.1875 9.671875 \nQ 19 8.0625 21.625 7.171875 \nQ 24.265625 6.296875 27.875 6.296875 \nQ 34.515625 6.296875 38.296875 9.5625 \nQ 42.09375 12.84375 42.09375 19.28125 \nQ 42.09375 23.09375 40.40625 25.40625 \nQ 38.71875 27.734375 36.203125 29.03125 \nQ 33.6875 30.328125 30.734375 30.765625 \nQ 27.78125 31.203125 25.296875 31.203125 \nL 20.3125 31.203125 \nL 20.3125 38.8125 \nL 25.09375 38.8125 \nQ 27.59375 38.8125 30.265625 39.328125 \nQ 32.953125 39.84375 35.171875 41.1875 \nQ 37.40625 42.53125 38.84375 44.828125 \nQ 40.28125 47.125 40.28125 50.6875 \nQ 40.28125 56.203125 37.03125 59.390625 \nQ 33.796875 62.59375 27.390625 62.59375 \nQ 21.578125 62.59375 17.984375 59.609375 \nQ 14.40625 56.640625 13.8125 51.21875 \nL 4.984375 51.90625 \nQ 5.515625 56.453125 7.46875 59.8125 \nQ 9.421875 63.1875 12.421875 65.40625 \nQ 15.4375 67.625 19.28125 68.71875 \nQ 23.140625 69.828125 27.484375 69.828125 \nQ 33.25 69.828125 37.390625 68.375 \nQ 41.546875 66.9375 44.1875 64.46875 \nQ 46.828125 62.015625 48.0625 58.6875 \nQ 49.3125 55.375 49.3125 51.609375 \nQ 49.3125 48.578125 48.484375 45.9375 \nQ 47.65625 43.3125 45.890625 41.203125 \nQ 44.140625 39.109375 41.421875 37.59375 \nQ 38.71875 36.078125 34.90625 35.296875 \nL 34.90625 35.109375 \nQ 39.0625 34.671875 42.140625 33.21875 \nQ 45.21875 31.78125 47.21875 29.625 \nQ 49.21875 27.484375 50.21875 24.75 \nQ 51.21875 22.015625 51.21875 19 \nz\n\" id=\"LiberationSans-51\"/>\n      </defs>\n      <g style=\"fill:#262626;\" transform=\"translate(470.63275 257.897059)scale(0.1 -0.1)\">\n       <use xlink:href=\"#LiberationSans-48\"/>\n       <use x=\"55.615234\" xlink:href=\"#LiberationSans-46\"/>\n       <use x=\"83.398438\" xlink:href=\"#LiberationSans-51\"/>\n      </g>\n     </g>\n    </g>\n    <g id=\"ytick_11\">\n     <g id=\"line2d_18\"/>\n     <g id=\"text_18\">\n      <!-- 0.4 -->\n      <defs>\n       <path d=\"M 43.015625 15.578125 \nL 43.015625 0 \nL 34.71875 0 \nL 34.71875 15.578125 \nL 2.296875 15.578125 \nL 2.296875 22.40625 \nL 33.796875 68.796875 \nL 43.015625 68.796875 \nL 43.015625 22.515625 \nL 52.6875 22.515625 \nL 52.6875 15.578125 \nz\nM 34.71875 58.890625 \nQ 34.625 58.640625 34.234375 57.9375 \nQ 33.84375 57.234375 33.34375 56.34375 \nQ 32.859375 55.46875 32.34375 54.5625 \nQ 31.84375 53.65625 31.453125 53.078125 \nL 13.8125 27.09375 \nQ 13.578125 26.703125 13.109375 26.0625 \nQ 12.640625 25.4375 12.15625 24.78125 \nQ 11.671875 24.125 11.171875 23.484375 \nQ 10.6875 22.859375 10.40625 22.515625 \nL 34.71875 22.515625 \nz\n\" id=\"LiberationSans-52\"/>\n      </defs>\n      <g style=\"fill:#262626;\" transform=\"translate(470.63275 219.903311)scale(0.1 -0.1)\">\n       <use xlink:href=\"#LiberationSans-48\"/>\n       <use x=\"55.615234\" xlink:href=\"#LiberationSans-46\"/>\n       <use x=\"83.398438\" xlink:href=\"#LiberationSans-52\"/>\n      </g>\n     </g>\n    </g>\n    <g id=\"ytick_12\">\n     <g id=\"line2d_19\"/>\n     <g id=\"text_19\">\n      <!-- 0.5 -->\n      <defs>\n       <path d=\"M 51.421875 22.40625 \nQ 51.421875 17.234375 49.859375 12.9375 \nQ 48.296875 8.640625 45.21875 5.53125 \nQ 42.140625 2.4375 37.578125 0.71875 \nQ 33.015625 -0.984375 27 -0.984375 \nQ 21.578125 -0.984375 17.546875 0.28125 \nQ 13.53125 1.5625 10.734375 3.78125 \nQ 7.953125 6 6.3125 8.984375 \nQ 4.6875 11.96875 4 15.375 \nL 12.890625 16.40625 \nQ 13.421875 14.453125 14.390625 12.625 \nQ 15.375 10.796875 17.0625 9.34375 \nQ 18.75 7.90625 21.21875 7.046875 \nQ 23.6875 6.203125 27.203125 6.203125 \nQ 30.609375 6.203125 33.390625 7.25 \nQ 36.1875 8.296875 38.15625 10.34375 \nQ 40.140625 12.40625 41.203125 15.375 \nQ 42.28125 18.359375 42.28125 22.21875 \nQ 42.28125 25.390625 41.25 28.046875 \nQ 40.234375 30.71875 38.328125 32.640625 \nQ 36.421875 34.578125 33.65625 35.640625 \nQ 30.90625 36.71875 27.390625 36.71875 \nQ 25.203125 36.71875 23.34375 36.328125 \nQ 21.484375 35.9375 19.890625 35.25 \nQ 18.3125 34.578125 17.015625 33.671875 \nQ 15.71875 32.765625 14.59375 31.78125 \nL 6 31.78125 \nL 8.296875 68.796875 \nL 47.40625 68.796875 \nL 47.40625 61.328125 \nL 16.3125 61.328125 \nL 14.984375 39.5 \nQ 17.328125 41.3125 20.84375 42.59375 \nQ 24.359375 43.890625 29.203125 43.890625 \nQ 34.328125 43.890625 38.421875 42.328125 \nQ 42.53125 40.765625 45.40625 37.90625 \nQ 48.296875 35.0625 49.859375 31.109375 \nQ 51.421875 27.15625 51.421875 22.40625 \nz\n\" id=\"LiberationSans-53\"/>\n      </defs>\n      <g style=\"fill:#262626;\" transform=\"translate(470.63275 181.909563)scale(0.1 -0.1)\">\n       <use xlink:href=\"#LiberationSans-48\"/>\n       <use x=\"55.615234\" xlink:href=\"#LiberationSans-46\"/>\n       <use x=\"83.398438\" xlink:href=\"#LiberationSans-53\"/>\n      </g>\n     </g>\n    </g>\n    <g id=\"ytick_13\">\n     <g id=\"line2d_20\"/>\n     <g id=\"text_20\">\n      <!-- 0.6 -->\n      <defs>\n       <path d=\"M 51.21875 22.515625 \nQ 51.21875 17.328125 49.78125 13 \nQ 48.34375 8.6875 45.53125 5.578125 \nQ 42.71875 2.484375 38.5625 0.75 \nQ 34.421875 -0.984375 29 -0.984375 \nQ 23 -0.984375 18.5 1.3125 \nQ 14.015625 3.609375 11.03125 7.921875 \nQ 8.0625 12.25 6.5625 18.53125 \nQ 5.078125 24.8125 5.078125 32.8125 \nQ 5.078125 42 6.765625 48.921875 \nQ 8.453125 55.859375 11.625 60.5 \nQ 14.796875 65.140625 19.359375 67.484375 \nQ 23.921875 69.828125 29.6875 69.828125 \nQ 33.203125 69.828125 36.28125 69.09375 \nQ 39.359375 68.359375 41.875 66.71875 \nQ 44.390625 65.09375 46.28125 62.40625 \nQ 48.1875 59.71875 49.3125 55.8125 \nL 40.921875 54.296875 \nQ 39.546875 58.734375 36.546875 60.71875 \nQ 33.546875 62.703125 29.59375 62.703125 \nQ 25.984375 62.703125 23.046875 60.984375 \nQ 20.125 59.28125 18.0625 55.875 \nQ 16.015625 52.484375 14.90625 47.359375 \nQ 13.8125 42.234375 13.8125 35.40625 \nQ 16.21875 39.84375 20.5625 42.15625 \nQ 24.90625 44.484375 30.515625 44.484375 \nQ 35.203125 44.484375 39.015625 42.96875 \nQ 42.828125 41.453125 45.53125 38.59375 \nQ 48.25 35.75 49.734375 31.671875 \nQ 51.21875 27.59375 51.21875 22.515625 \nz\nM 42.28125 22.125 \nQ 42.28125 25.6875 41.40625 28.5625 \nQ 40.53125 31.453125 38.765625 33.46875 \nQ 37.015625 35.5 34.421875 36.59375 \nQ 31.84375 37.703125 28.421875 37.703125 \nQ 26.03125 37.703125 23.578125 36.984375 \nQ 21.140625 36.28125 19.15625 34.6875 \nQ 17.1875 33.109375 15.9375 30.515625 \nQ 14.703125 27.9375 14.703125 24.21875 \nQ 14.703125 20.40625 15.671875 17.109375 \nQ 16.65625 13.8125 18.484375 11.375 \nQ 20.3125 8.9375 22.890625 7.515625 \nQ 25.484375 6.109375 28.71875 6.109375 \nQ 31.890625 6.109375 34.40625 7.203125 \nQ 36.921875 8.296875 38.671875 10.375 \nQ 40.4375 12.453125 41.359375 15.421875 \nQ 42.28125 18.40625 42.28125 22.125 \nz\n\" id=\"LiberationSans-54\"/>\n      </defs>\n      <g style=\"fill:#262626;\" transform=\"translate(470.63275 143.915814)scale(0.1 -0.1)\">\n       <use xlink:href=\"#LiberationSans-48\"/>\n       <use x=\"55.615234\" xlink:href=\"#LiberationSans-46\"/>\n       <use x=\"83.398438\" xlink:href=\"#LiberationSans-54\"/>\n      </g>\n     </g>\n    </g>\n    <g id=\"ytick_14\">\n     <g id=\"line2d_21\"/>\n     <g id=\"text_21\">\n      <!-- 0.7 -->\n      <defs>\n       <path d=\"M 50.59375 61.671875 \nQ 45.40625 53.765625 41.0625 46.453125 \nQ 36.71875 39.15625 33.59375 31.75 \nQ 30.46875 24.359375 28.734375 16.578125 \nQ 27 8.796875 27 0 \nL 17.828125 0 \nQ 17.828125 8.25 19.78125 16.1875 \nQ 21.734375 24.125 25.046875 31.765625 \nQ 28.375 39.40625 32.765625 46.78125 \nQ 37.15625 54.15625 42.09375 61.328125 \nL 5.125 61.328125 \nL 5.125 68.796875 \nL 50.59375 68.796875 \nz\n\" id=\"LiberationSans-55\"/>\n      </defs>\n      <g style=\"fill:#262626;\" transform=\"translate(470.63275 105.922066)scale(0.1 -0.1)\">\n       <use xlink:href=\"#LiberationSans-48\"/>\n       <use x=\"55.615234\" xlink:href=\"#LiberationSans-46\"/>\n       <use x=\"83.398438\" xlink:href=\"#LiberationSans-55\"/>\n      </g>\n     </g>\n    </g>\n   </g>\n   <image height=\"299\" id=\"imageb2bb76d884\" transform=\"scale(1 -1)translate(0 -299)\" width=\"15\" x=\"449\" xlink:href=\"data:image/png;base64,\niVBORw0KGgoAAAANSUhEUgAAAA8AAAErCAYAAAABnNneAAAABHNCSVQICAgIfAhkiAAAAWFJREFUeJztm8GNw0AMA3cNP66c9JX+37ka7AE8GFj+E8ySoqQ1nP33+f7Wzedc+7iLXefam4Al5vu0652CjVUPMxPwIf1salWxPKPMY9XD4GmAzzFvC0ytAmDtzCKYCMasigqmqS2m6oWCVRvgqH0RPA3wSfA7G+AwX3mYVQe5uTcF684qBI6qLTGPVRnmrlVFtcVZ5Ql2NK0Csz1r1QY7MxKsmqpobWt5hsFAYKsZRGcVDQYAM8HuE1fzLC5xTcFOolg1VV4kITMAe7MKVhhhFjcDBI42QMKs7dtaM1DXCsTcbICgwqqpMhtg8xZLwNVlnTBHX+NFfdbObL7GY8wATCaG9/bRnFWeYMndk74DLJaneE0QZxUBe8OdfTf0Qquagnln7jZAAG4WyaTqOjMAT6ougptFMqm6zgzAk6onmdcLU+Xdq2CeCbiZqqZg0Vllfl2bbL3mP3KTgnln9mr7H6/jCEJx9UtRAAAAAElFTkSuQmCC\" y=\"-69\"/>\n   <g id=\"patch_8\">\n    <path d=\"M 448.68375 368.214375 \nL 448.68375 367.046484 \nL 448.68375 70.402266 \nL 448.68375 69.234375 \nL 463.63275 69.234375 \nL 463.63275 70.402266 \nL 463.63275 367.046484 \nL 463.63275 368.214375 \nz\n\" style=\"fill:none;\"/>\n   </g>\n  </g>\n </g>\n <defs>\n  <clipPath id=\"p4eab0ade13\">\n   <rect height=\"298.98\" width=\"357.12\" x=\"69.24375\" y=\"69.234375\"/>\n  </clipPath>\n  <clipPath id=\"p24b1270afd\">\n   <rect height=\"298.98\" width=\"14.949\" x=\"448.68375\" y=\"69.234375\"/>\n  </clipPath>\n </defs>\n</svg>\n"
          },
          "metadata": {
            "tags": []
          }
        }
      ]
    },
    {
      "cell_type": "code",
      "metadata": {
        "colab": {
          "base_uri": "https://localhost:8080/",
          "height": 517
        },
        "id": "pWppTCF4HIe0",
        "outputId": "7dfaf480-1c40-41a7-8f38-e653e4a308a0"
      },
      "source": [
        "plot_attention(translator, 'Are there any comments?')"
      ],
      "execution_count": 95,
      "outputs": [
        {
          "output_type": "display_data",
          "data": {
            "text/plain": [
              "<Figure size 576x396 with 2 Axes>"
            ],
            "image/svg+xml": "<?xml version=\"1.0\" encoding=\"utf-8\" standalone=\"no\"?>\n<!DOCTYPE svg PUBLIC \"-//W3C//DTD SVG 1.1//EN\"\n  \"http://www.w3.org/Graphics/SVG/1.1/DTD/svg11.dtd\">\n<!-- Created with matplotlib (https://matplotlib.org/) -->\n<svg height=\"372.06125pt\" version=\"1.1\" viewBox=\"0 0 485.6015 372.06125\" width=\"485.6015pt\" xmlns=\"http://www.w3.org/2000/svg\" xmlns:xlink=\"http://www.w3.org/1999/xlink\">\n <defs>\n  <style type=\"text/css\">\n*{stroke-linecap:butt;stroke-linejoin:round;}\n  </style>\n </defs>\n <g id=\"figure_1\">\n  <g id=\"patch_1\">\n   <path d=\"M 0 372.06125 \nL 485.6015 372.06125 \nL 485.6015 -0 \nL 0 -0 \nz\n\" style=\"fill:#ffffff;\"/>\n  </g>\n  <g id=\"axes_1\">\n   <g id=\"patch_2\">\n    <path d=\"M 63.1125 364.86125 \nL 420.2325 364.86125 \nL 420.2325 65.88125 \nL 63.1125 65.88125 \nz\n\" style=\"fill:#eaeaf2;\"/>\n   </g>\n   <g id=\"matplotlib.axis_1\">\n    <g id=\"xtick_1\">\n     <g id=\"line2d_1\"/>\n     <g id=\"text_1\">\n      <!-- Are -->\n      <defs>\n       <path d=\"M 56.984375 0 \nL 49.125 20.125 \nL 17.78125 20.125 \nL 9.859375 0 \nL 0.203125 0 \nL 28.265625 68.796875 \nL 38.875 68.796875 \nL 66.5 0 \nz\nM 37.5 50.09375 \nQ 36.71875 52.046875 36 54.046875 \nQ 35.296875 56.0625 34.765625 57.6875 \nQ 34.234375 59.328125 33.859375 60.421875 \nQ 33.5 61.53125 33.453125 61.765625 \nQ 33.34375 61.53125 33 60.40625 \nQ 32.671875 59.28125 32.109375 57.609375 \nQ 31.546875 55.953125 30.828125 53.953125 \nQ 30.125 51.953125 29.390625 50 \nL 20.609375 27.390625 \nL 46.34375 27.390625 \nz\n\" id=\"LiberationSans-65\"/>\n       <path d=\"M 6.9375 0 \nL 6.9375 40.53125 \nQ 6.9375 42.1875 6.90625 43.921875 \nQ 6.890625 45.65625 6.828125 47.265625 \nQ 6.78125 48.875 6.734375 50.28125 \nQ 6.6875 51.703125 6.640625 52.828125 \nL 14.9375 52.828125 \nQ 14.984375 51.703125 15.0625 50.265625 \nQ 15.140625 48.828125 15.203125 47.3125 \nQ 15.28125 45.796875 15.296875 44.40625 \nQ 15.328125 43.015625 15.328125 42.046875 \nL 15.53125 42.046875 \nQ 16.453125 45.0625 17.5 47.28125 \nQ 18.5625 49.515625 19.96875 50.953125 \nQ 21.390625 52.390625 23.34375 53.09375 \nQ 25.296875 53.8125 28.078125 53.8125 \nQ 29.15625 53.8125 30.125 53.640625 \nQ 31.109375 53.46875 31.640625 53.328125 \nL 31.640625 45.265625 \nQ 30.765625 45.515625 29.59375 45.625 \nQ 28.421875 45.75 26.953125 45.75 \nQ 23.921875 45.75 21.796875 44.375 \nQ 19.671875 43.015625 18.328125 40.59375 \nQ 17 38.1875 16.359375 34.84375 \nQ 15.71875 31.5 15.71875 27.546875 \nL 15.71875 0 \nz\n\" id=\"LiberationSans-114\"/>\n       <path d=\"M 13.484375 24.5625 \nQ 13.484375 20.40625 14.328125 16.90625 \nQ 15.1875 13.421875 16.96875 10.90625 \nQ 18.75 8.40625 21.53125 7 \nQ 24.3125 5.609375 28.21875 5.609375 \nQ 33.9375 5.609375 37.375 7.90625 \nQ 40.828125 10.203125 42.046875 13.71875 \nL 49.75 11.53125 \nQ 48.921875 9.328125 47.4375 7.109375 \nQ 45.953125 4.890625 43.453125 3.09375 \nQ 40.96875 1.3125 37.234375 0.15625 \nQ 33.5 -0.984375 28.21875 -0.984375 \nQ 16.5 -0.984375 10.375 6 \nQ 4.25 12.984375 4.25 26.765625 \nQ 4.25 34.1875 6.09375 39.328125 \nQ 7.953125 44.484375 11.171875 47.703125 \nQ 14.40625 50.921875 18.703125 52.359375 \nQ 23 53.8125 27.875 53.8125 \nQ 34.515625 53.8125 38.984375 51.65625 \nQ 43.453125 49.515625 46.15625 45.71875 \nQ 48.875 41.9375 50.015625 36.8125 \nQ 51.171875 31.6875 51.171875 25.734375 \nL 51.171875 24.5625 \nz\nM 42.09375 31.296875 \nQ 41.359375 39.65625 37.84375 43.484375 \nQ 34.328125 47.3125 27.734375 47.3125 \nQ 25.53125 47.3125 23.109375 46.609375 \nQ 20.703125 45.90625 18.65625 44.09375 \nQ 16.609375 42.28125 15.1875 39.171875 \nQ 13.765625 36.078125 13.578125 31.296875 \nz\n\" id=\"LiberationSans-101\"/>\n      </defs>\n      <g style=\"fill:#262626;\" transform=\"translate(110.338438 58.88125)rotate(-90)scale(0.1 -0.1)\">\n       <use xlink:href=\"#LiberationSans-65\"/>\n       <use x=\"66.699219\" xlink:href=\"#LiberationSans-114\"/>\n       <use x=\"100\" xlink:href=\"#LiberationSans-101\"/>\n      </g>\n     </g>\n    </g>\n    <g id=\"xtick_2\">\n     <g id=\"line2d_2\"/>\n     <g id=\"text_2\">\n      <!-- there -->\n      <defs>\n       <path d=\"M 27.046875 0.390625 \nQ 25.046875 -0.140625 22.96875 -0.453125 \nQ 20.90625 -0.78125 18.171875 -0.78125 \nQ 7.625 -0.78125 7.625 11.1875 \nL 7.625 46.4375 \nL 1.515625 46.4375 \nL 1.515625 52.828125 \nL 7.953125 52.828125 \nL 10.546875 64.65625 \nL 16.40625 64.65625 \nL 16.40625 52.828125 \nL 26.171875 52.828125 \nL 26.171875 46.4375 \nL 16.40625 46.4375 \nL 16.40625 13.09375 \nQ 16.40625 9.28125 17.640625 7.734375 \nQ 18.890625 6.203125 21.96875 6.203125 \nQ 23.25 6.203125 24.4375 6.390625 \nQ 25.640625 6.59375 27.046875 6.890625 \nz\n\" id=\"LiberationSans-116\"/>\n       <path d=\"M 15.484375 43.796875 \nQ 16.9375 46.484375 18.640625 48.359375 \nQ 20.359375 50.25 22.40625 51.46875 \nQ 24.46875 52.6875 26.90625 53.25 \nQ 29.34375 53.8125 32.375 53.8125 \nQ 37.453125 53.8125 40.703125 52.4375 \nQ 43.953125 51.078125 45.828125 48.609375 \nQ 47.703125 46.140625 48.40625 42.71875 \nQ 49.125 39.3125 49.125 35.203125 \nL 49.125 0 \nL 40.28125 0 \nL 40.28125 33.5 \nQ 40.28125 36.859375 39.859375 39.390625 \nQ 39.453125 41.9375 38.28125 43.625 \nQ 37.109375 45.3125 34.953125 46.15625 \nQ 32.8125 47.015625 29.390625 47.015625 \nQ 26.265625 47.015625 23.75 45.890625 \nQ 21.234375 44.78125 19.453125 42.71875 \nQ 17.671875 40.671875 16.6875 37.734375 \nQ 15.71875 34.8125 15.71875 31.15625 \nL 15.71875 0 \nL 6.9375 0 \nL 6.9375 72.46875 \nL 15.71875 72.46875 \nL 15.71875 53.609375 \nQ 15.71875 52 15.671875 50.390625 \nQ 15.625 48.78125 15.546875 47.40625 \nQ 15.484375 46.046875 15.421875 45.09375 \nQ 15.375 44.140625 15.328125 43.796875 \nz\n\" id=\"LiberationSans-104\"/>\n      </defs>\n      <g style=\"fill:#262626;\" transform=\"translate(199.618438 58.88125)rotate(-90)scale(0.1 -0.1)\">\n       <use xlink:href=\"#LiberationSans-116\"/>\n       <use x=\"27.783203\" xlink:href=\"#LiberationSans-104\"/>\n       <use x=\"83.398438\" xlink:href=\"#LiberationSans-101\"/>\n       <use x=\"139.013672\" xlink:href=\"#LiberationSans-114\"/>\n       <use x=\"172.314453\" xlink:href=\"#LiberationSans-101\"/>\n      </g>\n     </g>\n    </g>\n    <g id=\"xtick_3\">\n     <g id=\"line2d_3\"/>\n     <g id=\"text_3\">\n      <!-- any -->\n      <defs>\n       <path d=\"M 20.21875 -0.984375 \nQ 12.25 -0.984375 8.25 3.21875 \nQ 4.25 7.421875 4.25 14.75 \nQ 4.25 19.96875 6.21875 23.3125 \nQ 8.203125 26.65625 11.390625 28.5625 \nQ 14.59375 30.46875 18.6875 31.203125 \nQ 22.796875 31.9375 27.046875 32.03125 \nL 38.921875 32.234375 \nL 38.921875 35.109375 \nQ 38.921875 38.375 38.234375 40.671875 \nQ 37.546875 42.96875 36.125 44.375 \nQ 34.71875 45.796875 32.59375 46.453125 \nQ 30.46875 47.125 27.59375 47.125 \nQ 25.046875 47.125 23 46.75 \nQ 20.953125 46.390625 19.4375 45.4375 \nQ 17.921875 44.484375 16.984375 42.84375 \nQ 16.0625 41.21875 15.765625 38.71875 \nL 6.59375 39.546875 \nQ 7.078125 42.671875 8.4375 45.28125 \nQ 9.8125 47.90625 12.328125 49.796875 \nQ 14.84375 51.703125 18.625 52.75 \nQ 22.40625 53.8125 27.78125 53.8125 \nQ 37.75 53.8125 42.765625 49.234375 \nQ 47.796875 44.671875 47.796875 36.03125 \nL 47.796875 13.28125 \nQ 47.796875 9.375 48.828125 7.390625 \nQ 49.859375 5.421875 52.734375 5.421875 \nQ 53.46875 5.421875 54.203125 5.515625 \nQ 54.9375 5.609375 55.609375 5.765625 \nL 55.609375 0.296875 \nQ 53.953125 -0.09375 52.3125 -0.28125 \nQ 50.6875 -0.484375 48.828125 -0.484375 \nQ 46.34375 -0.484375 44.5625 0.171875 \nQ 42.78125 0.828125 41.65625 2.171875 \nQ 40.53125 3.515625 39.9375 5.484375 \nQ 39.359375 7.46875 39.203125 10.109375 \nL 38.921875 10.109375 \nQ 37.5 7.5625 35.8125 5.515625 \nQ 34.125 3.46875 31.875 2.03125 \nQ 29.640625 0.59375 26.78125 -0.1875 \nQ 23.921875 -0.984375 20.21875 -0.984375 \nz\nM 22.21875 5.609375 \nQ 26.421875 5.609375 29.5625 7.140625 \nQ 32.71875 8.6875 34.78125 11.078125 \nQ 36.859375 13.484375 37.890625 16.3125 \nQ 38.921875 19.140625 38.921875 21.734375 \nL 38.921875 26.078125 \nL 29.296875 25.875 \nQ 26.078125 25.828125 23.171875 25.40625 \nQ 20.265625 25 18.0625 23.78125 \nQ 15.875 22.5625 14.578125 20.359375 \nQ 13.28125 18.171875 13.28125 14.59375 \nQ 13.28125 10.296875 15.59375 7.953125 \nQ 17.921875 5.609375 22.21875 5.609375 \nz\n\" id=\"LiberationSans-97\"/>\n       <path d=\"M 40.28125 0 \nL 40.28125 33.5 \nQ 40.28125 37.359375 39.71875 39.9375 \nQ 39.15625 42.53125 37.890625 44.109375 \nQ 36.625 45.703125 34.546875 46.359375 \nQ 32.46875 47.015625 29.390625 47.015625 \nQ 26.265625 47.015625 23.75 45.921875 \nQ 21.234375 44.828125 19.453125 42.75 \nQ 17.671875 40.671875 16.6875 37.625 \nQ 15.71875 34.578125 15.71875 30.609375 \nL 15.71875 0 \nL 6.9375 0 \nL 6.9375 41.546875 \nQ 6.9375 43.21875 6.90625 45.046875 \nQ 6.890625 46.875 6.828125 48.5 \nQ 6.78125 50.140625 6.734375 51.3125 \nQ 6.6875 52.484375 6.640625 52.828125 \nL 14.9375 52.828125 \nQ 14.984375 52.59375 15.03125 51.515625 \nQ 15.09375 50.4375 15.15625 49.046875 \nQ 15.234375 47.65625 15.28125 46.21875 \nQ 15.328125 44.78125 15.328125 43.796875 \nL 15.484375 43.796875 \nQ 16.75 46.09375 18.265625 47.953125 \nQ 19.78125 49.8125 21.78125 51.09375 \nQ 23.78125 52.390625 26.359375 53.09375 \nQ 28.953125 53.8125 32.375 53.8125 \nQ 36.765625 53.8125 39.9375 52.734375 \nQ 43.109375 51.65625 45.15625 49.40625 \nQ 47.21875 47.171875 48.171875 43.625 \nQ 49.125 40.09375 49.125 35.203125 \nL 49.125 0 \nz\n\" id=\"LiberationSans-110\"/>\n       <path d=\"M 29.5 0 \nQ 27.640625 -4.78125 25.703125 -8.609375 \nQ 23.78125 -12.453125 21.390625 -15.15625 \nQ 19 -17.875 16.0625 -19.3125 \nQ 13.140625 -20.75 9.328125 -20.75 \nQ 7.671875 -20.75 6.25 -20.65625 \nQ 4.828125 -20.5625 3.265625 -20.21875 \nL 3.265625 -13.625 \nQ 4.203125 -13.765625 5.375 -13.84375 \nQ 6.546875 -13.921875 7.375 -13.921875 \nQ 11.234375 -13.921875 14.546875 -11.03125 \nQ 17.875 -8.15625 20.359375 -1.859375 \nL 21.1875 0.25 \nL 0.25 52.828125 \nL 9.625 52.828125 \nL 20.75 23.640625 \nQ 21.234375 22.3125 21.984375 20.109375 \nQ 22.75 17.921875 23.5 15.71875 \nQ 24.265625 13.53125 24.84375 11.765625 \nQ 25.4375 10.015625 25.53125 9.578125 \nQ 25.6875 10.109375 26.25 11.6875 \nQ 26.8125 13.28125 27.515625 15.234375 \nQ 28.21875 17.1875 28.953125 19.1875 \nQ 29.6875 21.1875 30.171875 22.65625 \nL 40.53125 52.828125 \nL 49.8125 52.828125 \nz\n\" id=\"LiberationSans-121\"/>\n      </defs>\n      <g style=\"fill:#262626;\" transform=\"translate(288.898438 58.88125)rotate(-90)scale(0.1 -0.1)\">\n       <use xlink:href=\"#LiberationSans-97\"/>\n       <use x=\"55.615234\" xlink:href=\"#LiberationSans-110\"/>\n       <use x=\"111.230469\" xlink:href=\"#LiberationSans-121\"/>\n      </g>\n     </g>\n    </g>\n    <g id=\"xtick_4\">\n     <g id=\"line2d_4\"/>\n     <g id=\"text_4\">\n      <!-- comments? -->\n      <defs>\n       <path d=\"M 13.421875 26.65625 \nQ 13.421875 22.125 14.078125 18.3125 \nQ 14.75 14.5 16.3125 11.734375 \nQ 17.875 8.984375 20.4375 7.46875 \nQ 23 5.953125 26.765625 5.953125 \nQ 31.453125 5.953125 34.59375 8.484375 \nQ 37.75 11.03125 38.484375 16.3125 \nL 47.359375 15.71875 \nQ 46.921875 12.453125 45.453125 9.421875 \nQ 44 6.390625 41.484375 4.09375 \nQ 38.96875 1.8125 35.34375 0.40625 \nQ 31.734375 -0.984375 27 -0.984375 \nQ 20.796875 -0.984375 16.453125 1.109375 \nQ 12.109375 3.21875 9.390625 6.90625 \nQ 6.6875 10.59375 5.46875 15.59375 \nQ 4.25 20.609375 4.25 26.46875 \nQ 4.25 31.78125 5.125 35.859375 \nQ 6 39.9375 7.59375 42.984375 \nQ 9.1875 46.046875 11.328125 48.125 \nQ 13.484375 50.203125 15.984375 51.4375 \nQ 18.5 52.6875 21.28125 53.25 \nQ 24.078125 53.8125 26.90625 53.8125 \nQ 31.34375 53.8125 34.8125 52.59375 \nQ 38.28125 51.375 40.796875 49.25 \nQ 43.3125 47.125 44.875 44.234375 \nQ 46.4375 41.359375 47.078125 38.03125 \nL 38.03125 37.359375 \nQ 37.359375 41.75 34.5625 44.328125 \nQ 31.78125 46.921875 26.65625 46.921875 \nQ 22.90625 46.921875 20.390625 45.671875 \nQ 17.875 44.4375 16.3125 41.921875 \nQ 14.75 39.40625 14.078125 35.59375 \nQ 13.421875 31.78125 13.421875 26.65625 \nz\n\" id=\"LiberationSans-99\"/>\n       <path d=\"M 51.421875 26.46875 \nQ 51.421875 12.59375 45.3125 5.796875 \nQ 39.203125 -0.984375 27.59375 -0.984375 \nQ 22.078125 -0.984375 17.71875 0.671875 \nQ 13.375 2.34375 10.375 5.765625 \nQ 7.375 9.1875 5.78125 14.328125 \nQ 4.203125 19.484375 4.203125 26.46875 \nQ 4.203125 53.8125 27.875 53.8125 \nQ 34.03125 53.8125 38.5 52.09375 \nQ 42.96875 50.390625 45.828125 46.96875 \nQ 48.6875 43.5625 50.046875 38.421875 \nQ 51.421875 33.296875 51.421875 26.46875 \nz\nM 42.1875 26.46875 \nQ 42.1875 32.625 41.234375 36.625 \nQ 40.28125 40.625 38.453125 43.015625 \nQ 36.625 45.40625 33.984375 46.359375 \nQ 31.34375 47.3125 28.03125 47.3125 \nQ 24.65625 47.3125 21.9375 46.3125 \nQ 19.234375 45.3125 17.328125 42.890625 \nQ 15.4375 40.484375 14.421875 36.46875 \nQ 13.421875 32.46875 13.421875 26.46875 \nQ 13.421875 20.3125 14.5 16.28125 \nQ 15.578125 12.25 17.453125 9.859375 \nQ 19.34375 7.46875 21.90625 6.484375 \nQ 24.46875 5.515625 27.484375 5.515625 \nQ 30.859375 5.515625 33.59375 6.46875 \nQ 36.328125 7.421875 38.234375 9.8125 \nQ 40.140625 12.203125 41.15625 16.25 \nQ 42.1875 20.3125 42.1875 26.46875 \nz\n\" id=\"LiberationSans-111\"/>\n       <path d=\"M 37.5 0 \nL 37.5 33.5 \nQ 37.5 37.359375 37.015625 39.9375 \nQ 36.53125 42.53125 35.375 44.109375 \nQ 34.234375 45.703125 32.375 46.359375 \nQ 30.515625 47.015625 27.828125 47.015625 \nQ 25.046875 47.015625 22.796875 45.921875 \nQ 20.5625 44.828125 18.96875 42.75 \nQ 17.390625 40.671875 16.53125 37.625 \nQ 15.671875 34.578125 15.671875 30.609375 \nL 15.671875 0 \nL 6.9375 0 \nL 6.9375 41.546875 \nQ 6.9375 43.21875 6.90625 45.046875 \nQ 6.890625 46.875 6.828125 48.5 \nQ 6.78125 50.140625 6.734375 51.3125 \nQ 6.6875 52.484375 6.640625 52.828125 \nL 14.9375 52.828125 \nQ 14.984375 52.59375 15.03125 51.515625 \nQ 15.09375 50.4375 15.15625 49.046875 \nQ 15.234375 47.65625 15.28125 46.21875 \nQ 15.328125 44.78125 15.328125 43.796875 \nL 15.484375 43.796875 \nQ 16.65625 46.09375 18.015625 47.953125 \nQ 19.390625 49.8125 21.21875 51.09375 \nQ 23.046875 52.390625 25.40625 53.09375 \nQ 27.78125 53.8125 30.90625 53.8125 \nQ 36.921875 53.8125 40.40625 51.421875 \nQ 43.890625 49.03125 45.265625 43.796875 \nL 45.40625 43.796875 \nQ 46.578125 46.09375 48.046875 47.953125 \nQ 49.515625 49.8125 51.46875 51.09375 \nQ 53.421875 52.390625 55.859375 53.09375 \nQ 58.296875 53.8125 61.421875 53.8125 \nQ 65.4375 53.8125 68.328125 52.734375 \nQ 71.234375 51.65625 73.09375 49.40625 \nQ 74.953125 47.171875 75.828125 43.625 \nQ 76.703125 40.09375 76.703125 35.203125 \nL 76.703125 0 \nL 68.015625 0 \nL 68.015625 33.5 \nQ 68.015625 37.359375 67.53125 39.9375 \nQ 67.046875 42.53125 65.890625 44.109375 \nQ 64.75 45.703125 62.890625 46.359375 \nQ 61.03125 47.015625 58.34375 47.015625 \nQ 55.5625 47.015625 53.3125 45.96875 \nQ 51.078125 44.921875 49.484375 42.875 \nQ 47.90625 40.828125 47.046875 37.75 \nQ 46.1875 34.671875 46.1875 30.609375 \nL 46.1875 0 \nz\n\" id=\"LiberationSans-109\"/>\n       <path d=\"M 46.390625 14.59375 \nQ 46.390625 10.890625 44.9375 7.984375 \nQ 43.5 5.078125 40.765625 3.09375 \nQ 38.03125 1.125 34.046875 0.0625 \nQ 30.078125 -0.984375 24.953125 -0.984375 \nQ 20.359375 -0.984375 16.671875 -0.265625 \nQ 12.984375 0.4375 10.203125 2 \nQ 7.421875 3.5625 5.53125 6.125 \nQ 3.65625 8.6875 2.78125 12.40625 \nL 10.546875 13.921875 \nQ 11.671875 9.671875 15.1875 7.6875 \nQ 18.703125 5.71875 24.953125 5.71875 \nQ 27.78125 5.71875 30.140625 6.109375 \nQ 32.515625 6.5 34.21875 7.453125 \nQ 35.9375 8.40625 36.890625 9.984375 \nQ 37.84375 11.578125 37.84375 13.921875 \nQ 37.84375 16.3125 36.71875 17.84375 \nQ 35.59375 19.390625 33.59375 20.40625 \nQ 31.59375 21.4375 28.734375 22.1875 \nQ 25.875 22.953125 22.46875 23.875 \nQ 19.28125 24.703125 16.15625 25.734375 \nQ 13.03125 26.765625 10.515625 28.4375 \nQ 8.015625 30.125 6.453125 32.609375 \nQ 4.890625 35.109375 4.890625 38.875 \nQ 4.890625 46.09375 10.03125 49.875 \nQ 15.1875 53.65625 25.046875 53.65625 \nQ 33.796875 53.65625 38.9375 50.578125 \nQ 44.09375 47.515625 45.453125 40.71875 \nL 37.546875 39.75 \nQ 37.109375 41.796875 35.9375 43.1875 \nQ 34.765625 44.578125 33.109375 45.4375 \nQ 31.453125 46.296875 29.375 46.65625 \nQ 27.296875 47.015625 25.046875 47.015625 \nQ 19.09375 47.015625 16.25 45.203125 \nQ 13.421875 43.40625 13.421875 39.75 \nQ 13.421875 37.59375 14.46875 36.203125 \nQ 15.53125 34.8125 17.40625 33.859375 \nQ 19.28125 32.90625 21.921875 32.203125 \nQ 24.5625 31.5 27.734375 30.71875 \nQ 29.828125 30.171875 32.03125 29.5625 \nQ 34.234375 28.953125 36.296875 28.09375 \nQ 38.375 27.25 40.203125 26.09375 \nQ 42.046875 24.953125 43.40625 23.34375 \nQ 44.78125 21.734375 45.578125 19.578125 \nQ 46.390625 17.4375 46.390625 14.59375 \nz\n\" id=\"LiberationSans-115\"/>\n       <path d=\"M 51.90625 50.390625 \nQ 51.90625 46.921875 51 44.28125 \nQ 50.09375 41.65625 48.578125 39.578125 \nQ 47.078125 37.5 45.140625 35.859375 \nQ 43.21875 34.234375 41.203125 32.765625 \nQ 39.203125 31.296875 37.28125 29.875 \nQ 35.359375 28.46875 33.8125 26.796875 \nQ 32.28125 25.140625 31.328125 23.109375 \nQ 30.375 21.09375 30.328125 18.40625 \nL 21.78125 18.40625 \nQ 21.875 21.78125 22.828125 24.3125 \nQ 23.78125 26.859375 25.296875 28.8125 \nQ 26.8125 30.765625 28.703125 32.296875 \nQ 30.609375 33.84375 32.5625 35.234375 \nQ 34.515625 36.625 36.390625 38.015625 \nQ 38.28125 39.40625 39.75 41.109375 \nQ 41.21875 42.828125 42.109375 44.96875 \nQ 43.015625 47.125 43.015625 50 \nQ 43.015625 52.875 41.984375 55.125 \nQ 40.96875 57.375 39.078125 58.90625 \nQ 37.203125 60.453125 34.546875 61.234375 \nQ 31.890625 62.015625 28.609375 62.015625 \nQ 21.78125 62.015625 17.765625 58.59375 \nQ 13.765625 55.171875 13.09375 49.21875 \nL 4.109375 49.8125 \nQ 4.640625 53.90625 6.265625 57.546875 \nQ 7.90625 61.1875 10.859375 63.921875 \nQ 13.8125 66.65625 18.1875 68.234375 \nQ 22.5625 69.828125 28.515625 69.828125 \nQ 34.078125 69.828125 38.421875 68.453125 \nQ 42.78125 67.09375 45.78125 64.578125 \nQ 48.78125 62.0625 50.34375 58.4375 \nQ 51.90625 54.828125 51.90625 50.390625 \nz\nM 21.390625 0 \nL 21.390625 9.8125 \nL 30.90625 9.8125 \nL 30.90625 0 \nz\n\" id=\"LiberationSans-63\"/>\n      </defs>\n      <g style=\"fill:#262626;\" transform=\"translate(378.178438 58.88125)rotate(-90)scale(0.1 -0.1)\">\n       <use xlink:href=\"#LiberationSans-99\"/>\n       <use x=\"50\" xlink:href=\"#LiberationSans-111\"/>\n       <use x=\"105.615234\" xlink:href=\"#LiberationSans-109\"/>\n       <use x=\"188.916016\" xlink:href=\"#LiberationSans-109\"/>\n       <use x=\"272.216797\" xlink:href=\"#LiberationSans-101\"/>\n       <use x=\"327.832031\" xlink:href=\"#LiberationSans-110\"/>\n       <use x=\"383.447266\" xlink:href=\"#LiberationSans-116\"/>\n       <use x=\"411.230469\" xlink:href=\"#LiberationSans-115\"/>\n       <use x=\"461.230469\" xlink:href=\"#LiberationSans-63\"/>\n      </g>\n     </g>\n    </g>\n   </g>\n   <g id=\"matplotlib.axis_2\">\n    <g id=\"ytick_1\">\n     <g id=\"line2d_5\"/>\n     <g id=\"text_5\">\n      <!-- Finns -->\n      <defs>\n       <path d=\"M 17.53125 61.1875 \nL 17.53125 35.59375 \nL 55.90625 35.59375 \nL 55.90625 27.875 \nL 17.53125 27.875 \nL 17.53125 0 \nL 8.203125 0 \nL 8.203125 68.796875 \nL 57.078125 68.796875 \nL 57.078125 61.1875 \nz\n\" id=\"LiberationSans-70\"/>\n       <path d=\"M 6.6875 64.0625 \nL 6.6875 72.46875 \nL 15.484375 72.46875 \nL 15.484375 64.0625 \nz\nM 6.6875 0 \nL 6.6875 52.828125 \nL 15.484375 52.828125 \nL 15.484375 0 \nz\n\" id=\"LiberationSans-105\"/>\n      </defs>\n      <g style=\"fill:#262626;\" transform=\"translate(31.660938 88.190937)scale(0.1 -0.1)\">\n       <use xlink:href=\"#LiberationSans-70\"/>\n       <use x=\"61.083984\" xlink:href=\"#LiberationSans-105\"/>\n       <use x=\"83.300781\" xlink:href=\"#LiberationSans-110\"/>\n       <use x=\"138.916016\" xlink:href=\"#LiberationSans-110\"/>\n       <use x=\"194.53125\" xlink:href=\"#LiberationSans-115\"/>\n      </g>\n     </g>\n    </g>\n    <g id=\"ytick_2\">\n     <g id=\"line2d_6\"/>\n     <g id=\"text_6\">\n      <!-- det -->\n      <defs>\n       <path d=\"M 40.09375 8.5 \nQ 37.640625 3.421875 33.609375 1.21875 \nQ 29.59375 -0.984375 23.640625 -0.984375 \nQ 13.625 -0.984375 8.90625 5.75 \nQ 4.203125 12.5 4.203125 26.171875 \nQ 4.203125 53.8125 23.640625 53.8125 \nQ 29.640625 53.8125 33.640625 51.609375 \nQ 37.640625 49.421875 40.09375 44.625 \nL 40.1875 44.625 \nQ 40.1875 45.125 40.15625 46.171875 \nQ 40.140625 47.21875 40.109375 48.359375 \nQ 40.09375 49.515625 40.09375 50.53125 \nQ 40.09375 51.5625 40.09375 52 \nL 40.09375 72.46875 \nL 48.875 72.46875 \nL 48.875 10.890625 \nQ 48.875 8.984375 48.890625 7.21875 \nQ 48.921875 5.46875 48.96875 4 \nQ 49.03125 2.546875 49.078125 1.484375 \nQ 49.125 0.4375 49.171875 0 \nL 40.765625 0 \nQ 40.671875 0.484375 40.59375 1.390625 \nQ 40.53125 2.296875 40.453125 3.46875 \nQ 40.375 4.640625 40.328125 5.9375 \nQ 40.28125 7.234375 40.28125 8.5 \nz\nM 13.421875 26.46875 \nQ 13.421875 21 14.109375 17.09375 \nQ 14.796875 13.1875 16.3125 10.671875 \nQ 17.828125 8.15625 20.171875 6.984375 \nQ 22.515625 5.8125 25.875 5.8125 \nQ 29.34375 5.8125 32 6.9375 \nQ 34.671875 8.0625 36.453125 10.578125 \nQ 38.234375 13.09375 39.15625 17.140625 \nQ 40.09375 21.1875 40.09375 27.046875 \nQ 40.09375 32.671875 39.15625 36.546875 \nQ 38.234375 40.4375 36.421875 42.828125 \nQ 34.625 45.21875 32 46.265625 \nQ 29.390625 47.3125 25.984375 47.3125 \nQ 22.75 47.3125 20.40625 46.1875 \nQ 18.0625 45.0625 16.5 42.578125 \nQ 14.9375 40.09375 14.171875 36.109375 \nQ 13.421875 32.125 13.421875 26.46875 \nz\n\" id=\"LiberationSans-100\"/>\n      </defs>\n      <g style=\"fill:#262626;\" transform=\"translate(42.2125 125.563437)scale(0.1 -0.1)\">\n       <use xlink:href=\"#LiberationSans-100\"/>\n       <use x=\"55.615234\" xlink:href=\"#LiberationSans-101\"/>\n       <use x=\"111.230469\" xlink:href=\"#LiberationSans-116\"/>\n      </g>\n     </g>\n    </g>\n    <g id=\"ytick_3\">\n     <g id=\"line2d_7\"/>\n     <g id=\"text_7\">\n      <!-- några -->\n      <defs>\n       <path d=\"M 20.21875 -0.984375 \nQ 12.25 -0.984375 8.25 3.21875 \nQ 4.25 7.421875 4.25 14.75 \nQ 4.25 19.96875 6.21875 23.3125 \nQ 8.203125 26.65625 11.390625 28.5625 \nQ 14.59375 30.46875 18.6875 31.203125 \nQ 22.796875 31.9375 27.046875 32.03125 \nL 38.921875 32.234375 \nL 38.921875 35.109375 \nQ 38.921875 38.375 38.234375 40.671875 \nQ 37.546875 42.96875 36.125 44.375 \nQ 34.71875 45.796875 32.59375 46.453125 \nQ 30.46875 47.125 27.59375 47.125 \nQ 25.046875 47.125 23 46.75 \nQ 20.953125 46.390625 19.4375 45.4375 \nQ 17.921875 44.484375 16.984375 42.84375 \nQ 16.0625 41.21875 15.765625 38.71875 \nL 6.59375 39.546875 \nQ 7.078125 42.671875 8.4375 45.28125 \nQ 9.8125 47.90625 12.328125 49.796875 \nQ 14.84375 51.703125 18.625 52.75 \nQ 22.40625 53.8125 27.78125 53.8125 \nQ 37.75 53.8125 42.765625 49.234375 \nQ 47.796875 44.671875 47.796875 36.03125 \nL 47.796875 13.28125 \nQ 47.796875 9.375 48.828125 7.390625 \nQ 49.859375 5.421875 52.734375 5.421875 \nQ 53.46875 5.421875 54.203125 5.515625 \nQ 54.9375 5.609375 55.609375 5.765625 \nL 55.609375 0.296875 \nQ 53.953125 -0.09375 52.3125 -0.28125 \nQ 50.6875 -0.484375 48.828125 -0.484375 \nQ 46.34375 -0.484375 44.5625 0.171875 \nQ 42.78125 0.828125 41.65625 2.171875 \nQ 40.53125 3.515625 39.9375 5.484375 \nQ 39.359375 7.46875 39.203125 10.109375 \nL 38.921875 10.109375 \nQ 37.5 7.5625 35.8125 5.515625 \nQ 34.125 3.46875 31.875 2.03125 \nQ 29.640625 0.59375 26.78125 -0.1875 \nQ 23.921875 -0.984375 20.21875 -0.984375 \nz\nM 22.21875 5.609375 \nQ 26.421875 5.609375 29.5625 7.140625 \nQ 32.71875 8.6875 34.78125 11.078125 \nQ 36.859375 13.484375 37.890625 16.3125 \nQ 38.921875 19.140625 38.921875 21.734375 \nL 38.921875 26.078125 \nL 29.296875 25.875 \nQ 26.078125 25.828125 23.171875 25.40625 \nQ 20.265625 25 18.0625 23.78125 \nQ 15.875 22.5625 14.578125 20.359375 \nQ 13.28125 18.171875 13.28125 14.59375 \nQ 13.28125 10.296875 15.59375 7.953125 \nQ 17.921875 5.609375 22.21875 5.609375 \nz\nM 39 68.84375 \nQ 39 66.40625 38.0625 64.25 \nQ 37.140625 62.109375 35.53125 60.5 \nQ 33.921875 58.890625 31.765625 57.953125 \nQ 29.625 57.03125 27.1875 57.03125 \nQ 24.734375 57.03125 22.578125 57.953125 \nQ 20.4375 58.890625 18.828125 60.5 \nQ 17.21875 62.109375 16.28125 64.25 \nQ 15.359375 66.40625 15.359375 68.84375 \nQ 15.359375 71.296875 16.28125 73.4375 \nQ 17.21875 75.59375 18.828125 77.171875 \nQ 20.4375 78.765625 22.578125 79.6875 \nQ 24.734375 80.609375 27.1875 80.609375 \nQ 29.625 80.609375 31.765625 79.6875 \nQ 33.921875 78.765625 35.53125 77.171875 \nQ 37.140625 75.59375 38.0625 73.4375 \nQ 39 71.296875 39 68.84375 \nz\nM 33.71875 68.84375 \nQ 33.71875 70.21875 33.203125 71.40625 \nQ 32.703125 72.609375 31.8125 73.484375 \nQ 30.9375 74.359375 29.734375 74.875 \nQ 28.546875 75.390625 27.1875 75.390625 \nQ 25.765625 75.390625 24.5625 74.875 \nQ 23.375 74.359375 22.484375 73.484375 \nQ 21.609375 72.609375 21.09375 71.40625 \nQ 20.59375 70.21875 20.59375 68.84375 \nQ 20.59375 67.4375 21.09375 66.234375 \nQ 21.609375 65.046875 22.484375 64.109375 \nQ 23.375 63.1875 24.5625 62.671875 \nQ 25.765625 62.15625 27.1875 62.15625 \nQ 28.546875 62.15625 29.734375 62.671875 \nQ 30.9375 63.1875 31.8125 64.109375 \nQ 32.703125 65.046875 33.203125 66.234375 \nQ 33.71875 67.4375 33.71875 68.84375 \nz\n\" id=\"LiberationSans-229\"/>\n       <path d=\"M 26.765625 -20.75 \nQ 22.21875 -20.75 18.703125 -19.8125 \nQ 15.1875 -18.890625 12.6875 -17.15625 \nQ 10.203125 -15.4375 8.640625 -13.03125 \nQ 7.078125 -10.640625 6.390625 -7.71875 \nL 15.234375 -6.453125 \nQ 16.109375 -10.109375 19.109375 -12.078125 \nQ 22.125 -14.0625 27 -14.0625 \nQ 29.984375 -14.0625 32.421875 -13.234375 \nQ 34.859375 -12.40625 36.5625 -10.5625 \nQ 38.28125 -8.734375 39.203125 -5.796875 \nQ 40.140625 -2.875 40.140625 1.3125 \nL 40.140625 9.8125 \nL 40.046875 9.8125 \nQ 39.0625 7.8125 37.625 5.984375 \nQ 36.1875 4.15625 34.109375 2.734375 \nQ 32.03125 1.3125 29.296875 0.453125 \nQ 26.5625 -0.390625 23.046875 -0.390625 \nQ 18.015625 -0.390625 14.421875 1.296875 \nQ 10.84375 2.984375 8.5625 6.34375 \nQ 6.296875 9.71875 5.25 14.71875 \nQ 4.203125 19.734375 4.203125 26.3125 \nQ 4.203125 32.671875 5.25 37.75 \nQ 6.296875 42.828125 8.65625 46.359375 \nQ 11.03125 49.90625 14.8125 51.78125 \nQ 18.609375 53.65625 24.03125 53.65625 \nQ 29.640625 53.65625 33.765625 51.09375 \nQ 37.890625 48.53125 40.140625 43.796875 \nL 40.234375 43.796875 \nQ 40.234375 45.015625 40.296875 46.53125 \nQ 40.375 48.046875 40.453125 49.390625 \nQ 40.53125 50.734375 40.625 51.703125 \nQ 40.71875 52.6875 40.828125 52.828125 \nL 49.171875 52.828125 \nQ 49.125 52.390625 49.078125 51.34375 \nQ 49.03125 50.296875 48.96875 48.828125 \nQ 48.921875 47.359375 48.890625 45.578125 \nQ 48.875 43.796875 48.875 41.890625 \nL 48.875 1.515625 \nQ 48.875 -9.578125 43.421875 -15.15625 \nQ 37.984375 -20.75 26.765625 -20.75 \nz\nM 40.140625 26.421875 \nQ 40.140625 31.9375 38.9375 35.859375 \nQ 37.75 39.796875 35.796875 42.28125 \nQ 33.84375 44.78125 31.328125 45.953125 \nQ 28.8125 47.125 26.171875 47.125 \nQ 22.796875 47.125 20.375 45.953125 \nQ 17.96875 44.78125 16.375 42.265625 \nQ 14.796875 39.75 14.03125 35.8125 \nQ 13.28125 31.890625 13.28125 26.421875 \nQ 13.28125 20.703125 14.03125 16.8125 \nQ 14.796875 12.9375 16.359375 10.546875 \nQ 17.921875 8.15625 20.3125 7.125 \nQ 22.703125 6.109375 26.03125 6.109375 \nQ 28.65625 6.109375 31.171875 7.21875 \nQ 33.6875 8.34375 35.6875 10.78125 \nQ 37.703125 13.234375 38.921875 17.09375 \nQ 40.140625 20.953125 40.140625 26.421875 \nz\n\" id=\"LiberationSans-103\"/>\n      </defs>\n      <g style=\"fill:#262626;\" transform=\"translate(30.539063 163.342969)scale(0.1 -0.1)\">\n       <use xlink:href=\"#LiberationSans-110\"/>\n       <use x=\"55.615234\" xlink:href=\"#LiberationSans-229\"/>\n       <use x=\"111.230469\" xlink:href=\"#LiberationSans-103\"/>\n       <use x=\"166.845703\" xlink:href=\"#LiberationSans-114\"/>\n       <use x=\"200.146484\" xlink:href=\"#LiberationSans-97\"/>\n      </g>\n     </g>\n    </g>\n    <g id=\"ytick_4\">\n     <g id=\"line2d_8\"/>\n     <g id=\"text_8\">\n      <!-- synpunkter -->\n      <defs>\n       <path d=\"M 51.421875 26.65625 \nQ 51.421875 20.65625 50.4375 15.578125 \nQ 49.46875 10.5 47.1875 6.828125 \nQ 44.921875 3.171875 41.1875 1.09375 \nQ 37.453125 -0.984375 31.984375 -0.984375 \nQ 26.3125 -0.984375 22.0625 1.171875 \nQ 17.828125 3.328125 15.578125 8.203125 \nL 15.328125 8.203125 \nQ 15.375 8.109375 15.40625 7.328125 \nQ 15.4375 6.546875 15.453125 5.375 \nQ 15.484375 4.203125 15.5 2.75 \nQ 15.53125 1.3125 15.53125 -0.09375 \nL 15.53125 -20.75 \nL 6.734375 -20.75 \nL 6.734375 42.046875 \nQ 6.734375 43.953125 6.703125 45.703125 \nQ 6.6875 47.46875 6.640625 48.90625 \nQ 6.59375 50.34375 6.546875 51.359375 \nQ 6.5 52.390625 6.453125 52.828125 \nL 14.9375 52.828125 \nQ 14.984375 52.6875 15.0625 51.796875 \nQ 15.140625 50.921875 15.203125 49.671875 \nQ 15.28125 48.4375 15.359375 47.015625 \nQ 15.4375 45.609375 15.4375 44.34375 \nL 15.625 44.34375 \nQ 16.84375 46.875 18.40625 48.65625 \nQ 19.96875 50.4375 21.96875 51.578125 \nQ 23.96875 52.734375 26.4375 53.25 \nQ 28.90625 53.765625 31.984375 53.765625 \nQ 37.453125 53.765625 41.1875 51.8125 \nQ 44.921875 49.859375 47.1875 46.3125 \nQ 49.46875 42.78125 50.4375 37.765625 \nQ 51.421875 32.765625 51.421875 26.65625 \nz\nM 42.1875 26.46875 \nQ 42.1875 31.34375 41.59375 35.15625 \nQ 41.015625 38.96875 39.578125 41.59375 \nQ 38.140625 44.234375 35.734375 45.59375 \nQ 33.34375 46.96875 29.734375 46.96875 \nQ 26.8125 46.96875 24.21875 46.140625 \nQ 21.625 45.3125 19.703125 42.96875 \nQ 17.78125 40.625 16.65625 36.5 \nQ 15.53125 32.375 15.53125 25.78125 \nQ 15.53125 20.171875 16.453125 16.28125 \nQ 17.390625 12.40625 19.171875 10.015625 \nQ 20.953125 7.625 23.578125 6.5625 \nQ 26.21875 5.515625 29.640625 5.515625 \nQ 33.296875 5.515625 35.71875 6.921875 \nQ 38.140625 8.34375 39.578125 11.03125 \nQ 41.015625 13.71875 41.59375 17.59375 \nQ 42.1875 21.484375 42.1875 26.46875 \nz\n\" id=\"LiberationSans-112\"/>\n       <path d=\"M 15.328125 52.828125 \nL 15.328125 19.34375 \nQ 15.328125 15.484375 15.890625 12.890625 \nQ 16.453125 10.296875 17.71875 8.703125 \nQ 19 7.125 21.0625 6.46875 \nQ 23.140625 5.8125 26.21875 5.8125 \nQ 29.34375 5.8125 31.859375 6.90625 \nQ 34.375 8.015625 36.15625 10.078125 \nQ 37.9375 12.15625 38.90625 15.203125 \nQ 39.890625 18.265625 39.890625 22.21875 \nL 39.890625 52.828125 \nL 48.6875 52.828125 \nL 48.6875 11.28125 \nQ 48.6875 9.625 48.703125 7.78125 \nQ 48.734375 5.953125 48.78125 4.3125 \nQ 48.828125 2.6875 48.875 1.515625 \nQ 48.921875 0.34375 48.96875 0 \nL 40.671875 0 \nQ 40.625 0.25 40.578125 1.3125 \nQ 40.53125 2.390625 40.453125 3.78125 \nQ 40.375 5.171875 40.328125 6.609375 \nQ 40.28125 8.0625 40.28125 9.03125 \nL 40.140625 9.03125 \nQ 38.875 6.734375 37.359375 4.875 \nQ 35.84375 3.03125 33.84375 1.734375 \nQ 31.84375 0.4375 29.25 -0.265625 \nQ 26.65625 -0.984375 23.25 -0.984375 \nQ 18.84375 -0.984375 15.671875 0.09375 \nQ 12.5 1.171875 10.453125 3.421875 \nQ 8.40625 5.671875 7.453125 9.1875 \nQ 6.5 12.703125 6.5 17.625 \nL 6.5 52.828125 \nz\n\" id=\"LiberationSans-117\"/>\n       <path d=\"M 39.84375 0 \nL 21.96875 24.125 \nL 15.53125 18.796875 \nL 15.53125 0 \nL 6.734375 0 \nL 6.734375 72.46875 \nL 15.53125 72.46875 \nL 15.53125 27.203125 \nL 38.71875 52.828125 \nL 49.03125 52.828125 \nL 27.59375 30.125 \nL 50.140625 0 \nz\n\" id=\"LiberationSans-107\"/>\n      </defs>\n      <g style=\"fill:#262626;\" transform=\"translate(7.2 200.308437)scale(0.1 -0.1)\">\n       <use xlink:href=\"#LiberationSans-115\"/>\n       <use x=\"50\" xlink:href=\"#LiberationSans-121\"/>\n       <use x=\"100\" xlink:href=\"#LiberationSans-110\"/>\n       <use x=\"155.615234\" xlink:href=\"#LiberationSans-112\"/>\n       <use x=\"211.230469\" xlink:href=\"#LiberationSans-117\"/>\n       <use x=\"266.845703\" xlink:href=\"#LiberationSans-110\"/>\n       <use x=\"322.460938\" xlink:href=\"#LiberationSans-107\"/>\n       <use x=\"372.460938\" xlink:href=\"#LiberationSans-116\"/>\n       <use x=\"400.244141\" xlink:href=\"#LiberationSans-101\"/>\n       <use x=\"455.859375\" xlink:href=\"#LiberationSans-114\"/>\n      </g>\n     </g>\n    </g>\n    <g id=\"ytick_5\">\n     <g id=\"line2d_9\"/>\n     <g id=\"text_9\">\n      <!-- som -->\n      <g style=\"fill:#262626;\" transform=\"translate(37.221875 237.680937)scale(0.1 -0.1)\">\n       <use xlink:href=\"#LiberationSans-115\"/>\n       <use x=\"50\" xlink:href=\"#LiberationSans-111\"/>\n       <use x=\"105.615234\" xlink:href=\"#LiberationSans-109\"/>\n      </g>\n     </g>\n    </g>\n    <g id=\"ytick_6\">\n     <g id=\"line2d_10\"/>\n     <g id=\"text_10\">\n      <!-- har -->\n      <g style=\"fill:#262626;\" transform=\"translate(41.660938 275.053437)scale(0.1 -0.1)\">\n       <use xlink:href=\"#LiberationSans-104\"/>\n       <use x=\"55.615234\" xlink:href=\"#LiberationSans-97\"/>\n       <use x=\"111.230469\" xlink:href=\"#LiberationSans-114\"/>\n      </g>\n     </g>\n    </g>\n    <g id=\"ytick_7\">\n     <g id=\"line2d_11\"/>\n     <g id=\"text_11\">\n      <!-- lagts -->\n      <defs>\n       <path d=\"M 6.734375 0 \nL 6.734375 72.46875 \nL 15.53125 72.46875 \nL 15.53125 0 \nz\n\" id=\"LiberationSans-108\"/>\n      </defs>\n      <g style=\"fill:#262626;\" transform=\"translate(34.990625 312.425937)scale(0.1 -0.1)\">\n       <use xlink:href=\"#LiberationSans-108\"/>\n       <use x=\"22.216797\" xlink:href=\"#LiberationSans-97\"/>\n       <use x=\"77.832031\" xlink:href=\"#LiberationSans-103\"/>\n       <use x=\"133.447266\" xlink:href=\"#LiberationSans-116\"/>\n       <use x=\"161.230469\" xlink:href=\"#LiberationSans-115\"/>\n      </g>\n     </g>\n    </g>\n    <g id=\"ytick_8\">\n     <g id=\"line2d_12\"/>\n     <g id=\"text_12\">\n      <!-- fram -->\n      <defs>\n       <path d=\"M 17.625 46.4375 \nL 17.625 0 \nL 8.84375 0 \nL 8.84375 46.4375 \nL 1.421875 46.4375 \nL 1.421875 52.828125 \nL 8.84375 52.828125 \nL 8.84375 58.796875 \nQ 8.84375 61.671875 9.375 64.140625 \nQ 9.90625 66.609375 11.34375 68.4375 \nQ 12.796875 70.265625 15.28125 71.3125 \nQ 17.78125 72.359375 21.734375 72.359375 \nQ 23.296875 72.359375 24.96875 72.21875 \nQ 26.65625 72.078125 27.9375 71.78125 \nL 27.9375 65.09375 \nQ 27.09375 65.234375 26 65.359375 \nQ 24.90625 65.484375 24.03125 65.484375 \nQ 22.078125 65.484375 20.828125 64.9375 \nQ 19.578125 64.40625 18.875 63.40625 \nQ 18.171875 62.40625 17.890625 60.9375 \nQ 17.625 59.46875 17.625 57.5625 \nL 17.625 52.828125 \nL 27.9375 52.828125 \nL 27.9375 46.4375 \nz\n\" id=\"LiberationSans-102\"/>\n      </defs>\n      <g style=\"fill:#262626;\" transform=\"translate(36.114063 349.798437)scale(0.1 -0.1)\">\n       <use xlink:href=\"#LiberationSans-102\"/>\n       <use x=\"27.783203\" xlink:href=\"#LiberationSans-114\"/>\n       <use x=\"61.083984\" xlink:href=\"#LiberationSans-97\"/>\n       <use x=\"116.699219\" xlink:href=\"#LiberationSans-109\"/>\n      </g>\n     </g>\n    </g>\n   </g>\n   <g id=\"PolyCollection_1\">\n    <path clip-path=\"url(#p2e4f645cf0)\" d=\"M 63.1125 65.88125 \nL 63.1125 103.25375 \nL 152.3925 103.25375 \nL 152.3925 65.88125 \nL 63.1125 65.88125 \nz\n\" style=\"fill:#083776;\"/>\n    <path clip-path=\"url(#p2e4f645cf0)\" d=\"M 152.3925 65.88125 \nL 152.3925 103.25375 \nL 241.6725 103.25375 \nL 241.6725 65.88125 \nL 152.3925 65.88125 \nz\n\" style=\"fill:#a0cbe2;\"/>\n    <path clip-path=\"url(#p2e4f645cf0)\" d=\"M 241.6725 65.88125 \nL 241.6725 103.25375 \nL 330.9525 103.25375 \nL 330.9525 65.88125 \nL 241.6725 65.88125 \nz\n\" style=\"fill:#2171b5;\"/>\n    <path clip-path=\"url(#p2e4f645cf0)\" d=\"M 330.9525 65.88125 \nL 330.9525 103.25375 \nL 420.2325 103.25375 \nL 420.2325 65.88125 \nL 330.9525 65.88125 \nz\n\" style=\"fill:#0f5aa3;\"/>\n    <path clip-path=\"url(#p2e4f645cf0)\" d=\"M 63.1125 103.25375 \nL 63.1125 140.62625 \nL 152.3925 140.62625 \nL 152.3925 103.25375 \nL 63.1125 103.25375 \nz\n\" style=\"fill:#084e98;\"/>\n    <path clip-path=\"url(#p2e4f645cf0)\" d=\"M 152.3925 103.25375 \nL 152.3925 140.62625 \nL 241.6725 140.62625 \nL 241.6725 103.25375 \nL 152.3925 103.25375 \nz\n\" style=\"fill:#57a0ce;\"/>\n    <path clip-path=\"url(#p2e4f645cf0)\" d=\"M 241.6725 103.25375 \nL 241.6725 140.62625 \nL 330.9525 140.62625 \nL 330.9525 103.25375 \nL 241.6725 103.25375 \nz\n\" style=\"fill:#2979b9;\"/>\n    <path clip-path=\"url(#p2e4f645cf0)\" d=\"M 330.9525 103.25375 \nL 330.9525 140.62625 \nL 420.2325 140.62625 \nL 420.2325 103.25375 \nL 330.9525 103.25375 \nz\n\" style=\"fill:#1f6eb3;\"/>\n    <path clip-path=\"url(#p2e4f645cf0)\" d=\"M 63.1125 140.62625 \nL 63.1125 177.99875 \nL 152.3925 177.99875 \nL 152.3925 140.62625 \nL 63.1125 140.62625 \nz\n\" style=\"fill:#084a91;\"/>\n    <path clip-path=\"url(#p2e4f645cf0)\" d=\"M 152.3925 140.62625 \nL 152.3925 177.99875 \nL 241.6725 177.99875 \nL 241.6725 140.62625 \nL 152.3925 140.62625 \nz\n\" style=\"fill:#115ca5;\"/>\n    <path clip-path=\"url(#p2e4f645cf0)\" d=\"M 241.6725 140.62625 \nL 241.6725 177.99875 \nL 330.9525 177.99875 \nL 330.9525 140.62625 \nL 241.6725 140.62625 \nz\n\" style=\"fill:#4e9acb;\"/>\n    <path clip-path=\"url(#p2e4f645cf0)\" d=\"M 330.9525 140.62625 \nL 330.9525 177.99875 \nL 420.2325 177.99875 \nL 420.2325 140.62625 \nL 330.9525 140.62625 \nz\n\" style=\"fill:#4896c8;\"/>\n    <path clip-path=\"url(#p2e4f645cf0)\" d=\"M 63.1125 177.99875 \nL 63.1125 215.37125 \nL 152.3925 215.37125 \nL 152.3925 177.99875 \nL 63.1125 177.99875 \nz\n\" style=\"fill:#083877;\"/>\n    <path clip-path=\"url(#p2e4f645cf0)\" d=\"M 152.3925 177.99875 \nL 152.3925 215.37125 \nL 241.6725 215.37125 \nL 241.6725 177.99875 \nL 152.3925 177.99875 \nz\n\" style=\"fill:#083877;\"/>\n    <path clip-path=\"url(#p2e4f645cf0)\" d=\"M 241.6725 177.99875 \nL 241.6725 215.37125 \nL 330.9525 215.37125 \nL 330.9525 177.99875 \nL 241.6725 177.99875 \nz\n\" style=\"fill:#1c6ab0;\"/>\n    <path clip-path=\"url(#p2e4f645cf0)\" d=\"M 330.9525 177.99875 \nL 330.9525 215.37125 \nL 420.2325 215.37125 \nL 420.2325 177.99875 \nL 330.9525 177.99875 \nz\n\" style=\"fill:#cddff1;\"/>\n    <path clip-path=\"url(#p2e4f645cf0)\" d=\"M 63.1125 215.37125 \nL 63.1125 252.74375 \nL 152.3925 252.74375 \nL 152.3925 215.37125 \nL 63.1125 215.37125 \nz\n\" style=\"fill:#08458a;\"/>\n    <path clip-path=\"url(#p2e4f645cf0)\" d=\"M 152.3925 215.37125 \nL 152.3925 252.74375 \nL 241.6725 252.74375 \nL 241.6725 215.37125 \nL 152.3925 215.37125 \nz\n\" style=\"fill:#083471;\"/>\n    <path clip-path=\"url(#p2e4f645cf0)\" d=\"M 241.6725 215.37125 \nL 241.6725 252.74375 \nL 330.9525 252.74375 \nL 330.9525 215.37125 \nL 241.6725 215.37125 \nz\n\" style=\"fill:#083a7a;\"/>\n    <path clip-path=\"url(#p2e4f645cf0)\" d=\"M 330.9525 215.37125 \nL 330.9525 252.74375 \nL 420.2325 252.74375 \nL 420.2325 215.37125 \nL 330.9525 215.37125 \nz\n\" style=\"fill:#eaf3fb;\"/>\n    <path clip-path=\"url(#p2e4f645cf0)\" d=\"M 63.1125 252.74375 \nL 63.1125 290.11625 \nL 152.3925 290.11625 \nL 152.3925 252.74375 \nL 63.1125 252.74375 \nz\n\" style=\"fill:#0c56a0;\"/>\n    <path clip-path=\"url(#p2e4f645cf0)\" d=\"M 152.3925 252.74375 \nL 152.3925 290.11625 \nL 241.6725 290.11625 \nL 241.6725 252.74375 \nL 152.3925 252.74375 \nz\n\" style=\"fill:#083877;\"/>\n    <path clip-path=\"url(#p2e4f645cf0)\" d=\"M 241.6725 252.74375 \nL 241.6725 290.11625 \nL 330.9525 290.11625 \nL 330.9525 252.74375 \nL 241.6725 252.74375 \nz\n\" style=\"fill:#08509b;\"/>\n    <path clip-path=\"url(#p2e4f645cf0)\" d=\"M 330.9525 252.74375 \nL 330.9525 290.11625 \nL 420.2325 290.11625 \nL 420.2325 252.74375 \nL 330.9525 252.74375 \nz\n\" style=\"fill:#cadef0;\"/>\n    <path clip-path=\"url(#p2e4f645cf0)\" d=\"M 63.1125 290.11625 \nL 63.1125 327.48875 \nL 152.3925 327.48875 \nL 152.3925 290.11625 \nL 63.1125 290.11625 \nz\n\" style=\"fill:#083e81;\"/>\n    <path clip-path=\"url(#p2e4f645cf0)\" d=\"M 152.3925 290.11625 \nL 152.3925 327.48875 \nL 241.6725 327.48875 \nL 241.6725 290.11625 \nL 152.3925 290.11625 \nz\n\" style=\"fill:#083370;\"/>\n    <path clip-path=\"url(#p2e4f645cf0)\" d=\"M 241.6725 290.11625 \nL 241.6725 327.48875 \nL 330.9525 327.48875 \nL 330.9525 290.11625 \nL 241.6725 290.11625 \nz\n\" style=\"fill:#084a91;\"/>\n    <path clip-path=\"url(#p2e4f645cf0)\" d=\"M 330.9525 290.11625 \nL 330.9525 327.48875 \nL 420.2325 327.48875 \nL 420.2325 290.11625 \nL 330.9525 290.11625 \nz\n\" style=\"fill:#e5eff9;\"/>\n    <path clip-path=\"url(#p2e4f645cf0)\" d=\"M 63.1125 327.48875 \nL 63.1125 364.86125 \nL 152.3925 364.86125 \nL 152.3925 327.48875 \nL 63.1125 327.48875 \nz\n\" style=\"fill:#083370;\"/>\n    <path clip-path=\"url(#p2e4f645cf0)\" d=\"M 152.3925 327.48875 \nL 152.3925 364.86125 \nL 241.6725 364.86125 \nL 241.6725 327.48875 \nL 152.3925 327.48875 \nz\n\" style=\"fill:#08306b;\"/>\n    <path clip-path=\"url(#p2e4f645cf0)\" d=\"M 241.6725 327.48875 \nL 241.6725 364.86125 \nL 330.9525 364.86125 \nL 330.9525 327.48875 \nL 241.6725 327.48875 \nz\n\" style=\"fill:#084082;\"/>\n    <path clip-path=\"url(#p2e4f645cf0)\" d=\"M 330.9525 327.48875 \nL 330.9525 364.86125 \nL 420.2325 364.86125 \nL 420.2325 327.48875 \nL 330.9525 327.48875 \nz\n\" style=\"fill:#f7fbff;\"/>\n   </g>\n   <g id=\"patch_3\">\n    <path d=\"M 63.1125 364.86125 \nL 63.1125 65.88125 \n\" style=\"fill:none;\"/>\n   </g>\n   <g id=\"patch_4\">\n    <path d=\"M 420.2325 364.86125 \nL 420.2325 65.88125 \n\" style=\"fill:none;\"/>\n   </g>\n   <g id=\"patch_5\">\n    <path d=\"M 63.1125 364.86125 \nL 420.2325 364.86125 \n\" style=\"fill:none;\"/>\n   </g>\n   <g id=\"patch_6\">\n    <path d=\"M 63.1125 65.88125 \nL 420.2325 65.88125 \n\" style=\"fill:none;\"/>\n   </g>\n  </g>\n  <g id=\"axes_2\">\n   <g id=\"patch_7\">\n    <path clip-path=\"url(#ped45131d6d)\" d=\"M 442.5525 364.86125 \nL 442.5525 363.693359 \nL 442.5525 67.049141 \nL 442.5525 65.88125 \nL 457.5015 65.88125 \nL 457.5015 67.049141 \nL 457.5015 363.693359 \nL 457.5015 364.86125 \nz\n\" style=\"fill:#eaeaf2;stroke:#eaeaf2;stroke-linejoin:miter;stroke-width:0.01;\"/>\n   </g>\n   <g id=\"matplotlib.axis_3\"/>\n   <g id=\"matplotlib.axis_4\">\n    <g id=\"ytick_9\">\n     <g id=\"line2d_13\"/>\n     <g id=\"text_13\">\n      <!-- 0.2 -->\n      <defs>\n       <path d=\"M 51.703125 34.421875 \nQ 51.703125 24.515625 49.828125 17.75 \nQ 47.953125 10.984375 44.703125 6.8125 \nQ 41.453125 2.640625 37.0625 0.828125 \nQ 32.671875 -0.984375 27.6875 -0.984375 \nQ 22.65625 -0.984375 18.3125 0.828125 \nQ 13.96875 2.640625 10.765625 6.78125 \nQ 7.5625 10.9375 5.734375 17.703125 \nQ 3.90625 24.46875 3.90625 34.421875 \nQ 3.90625 44.828125 5.734375 51.640625 \nQ 7.5625 58.453125 10.78125 62.5 \nQ 14.015625 66.546875 18.40625 68.1875 \nQ 22.796875 69.828125 27.984375 69.828125 \nQ 32.90625 69.828125 37.21875 68.1875 \nQ 41.546875 66.546875 44.765625 62.5 \nQ 48 58.453125 49.84375 51.640625 \nQ 51.703125 44.828125 51.703125 34.421875 \nz\nM 42.78125 34.421875 \nQ 42.78125 42.625 41.796875 48.0625 \nQ 40.828125 53.515625 38.921875 56.765625 \nQ 37.015625 60.015625 34.25 61.359375 \nQ 31.5 62.703125 27.984375 62.703125 \nQ 24.265625 62.703125 21.4375 61.328125 \nQ 18.609375 59.96875 16.671875 56.71875 \nQ 14.75 53.46875 13.765625 48.015625 \nQ 12.796875 42.578125 12.796875 34.421875 \nQ 12.796875 26.515625 13.796875 21.09375 \nQ 14.796875 15.671875 16.71875 12.375 \nQ 18.65625 9.078125 21.4375 7.640625 \nQ 24.21875 6.203125 27.78125 6.203125 \nQ 31.25 6.203125 34.03125 7.640625 \nQ 36.8125 9.078125 38.734375 12.375 \nQ 40.671875 15.671875 41.71875 21.09375 \nQ 42.78125 26.515625 42.78125 34.421875 \nz\n\" id=\"LiberationSans-48\"/>\n       <path d=\"M 9.125 0 \nL 9.125 10.6875 \nL 18.65625 10.6875 \nL 18.65625 0 \nz\n\" id=\"LiberationSans-46\"/>\n       <path d=\"M 5.03125 0 \nL 5.03125 6.203125 \nQ 7.515625 11.921875 11.109375 16.28125 \nQ 14.703125 20.65625 18.65625 24.1875 \nQ 22.609375 27.734375 26.484375 30.765625 \nQ 30.375 33.796875 33.5 36.8125 \nQ 36.625 39.84375 38.546875 43.15625 \nQ 40.484375 46.484375 40.484375 50.6875 \nQ 40.484375 53.609375 39.59375 55.828125 \nQ 38.71875 58.0625 37.0625 59.5625 \nQ 35.40625 61.078125 33.078125 61.828125 \nQ 30.765625 62.59375 27.9375 62.59375 \nQ 25.296875 62.59375 22.96875 61.859375 \nQ 20.65625 61.140625 18.84375 59.671875 \nQ 17.046875 58.203125 15.890625 56.03125 \nQ 14.75 53.859375 14.40625 50.984375 \nL 5.421875 51.8125 \nQ 5.859375 55.515625 7.46875 58.78125 \nQ 9.078125 62.0625 11.90625 64.53125 \nQ 14.75 67 18.71875 68.40625 \nQ 22.703125 69.828125 27.9375 69.828125 \nQ 33.0625 69.828125 37.0625 68.609375 \nQ 41.0625 67.390625 43.8125 64.984375 \nQ 46.578125 62.59375 48.046875 59.078125 \nQ 49.515625 55.5625 49.515625 50.984375 \nQ 49.515625 47.515625 48.265625 44.390625 \nQ 47.015625 41.265625 44.9375 38.421875 \nQ 42.875 35.59375 40.140625 32.953125 \nQ 37.40625 30.328125 34.421875 27.8125 \nQ 31.453125 25.296875 28.421875 22.828125 \nQ 25.390625 20.359375 22.71875 17.859375 \nQ 20.0625 15.375 17.96875 12.8125 \nQ 15.875 10.25 14.703125 7.46875 \nL 50.59375 7.46875 \nL 50.59375 0 \nz\n\" id=\"LiberationSans-50\"/>\n      </defs>\n      <g style=\"fill:#262626;\" transform=\"translate(464.5015 304.540984)scale(0.1 -0.1)\">\n       <use xlink:href=\"#LiberationSans-48\"/>\n       <use x=\"55.615234\" xlink:href=\"#LiberationSans-46\"/>\n       <use x=\"83.398438\" xlink:href=\"#LiberationSans-50\"/>\n      </g>\n     </g>\n    </g>\n    <g id=\"ytick_10\">\n     <g id=\"line2d_14\"/>\n     <g id=\"text_14\">\n      <!-- 0.4 -->\n      <defs>\n       <path d=\"M 43.015625 15.578125 \nL 43.015625 0 \nL 34.71875 0 \nL 34.71875 15.578125 \nL 2.296875 15.578125 \nL 2.296875 22.40625 \nL 33.796875 68.796875 \nL 43.015625 68.796875 \nL 43.015625 22.515625 \nL 52.6875 22.515625 \nL 52.6875 15.578125 \nz\nM 34.71875 58.890625 \nQ 34.625 58.640625 34.234375 57.9375 \nQ 33.84375 57.234375 33.34375 56.34375 \nQ 32.859375 55.46875 32.34375 54.5625 \nQ 31.84375 53.65625 31.453125 53.078125 \nL 13.8125 27.09375 \nQ 13.578125 26.703125 13.109375 26.0625 \nQ 12.640625 25.4375 12.15625 24.78125 \nQ 11.671875 24.125 11.171875 23.484375 \nQ 10.6875 22.859375 10.40625 22.515625 \nL 34.71875 22.515625 \nz\n\" id=\"LiberationSans-52\"/>\n      </defs>\n      <g style=\"fill:#262626;\" transform=\"translate(464.5015 238.786926)scale(0.1 -0.1)\">\n       <use xlink:href=\"#LiberationSans-48\"/>\n       <use x=\"55.615234\" xlink:href=\"#LiberationSans-46\"/>\n       <use x=\"83.398438\" xlink:href=\"#LiberationSans-52\"/>\n      </g>\n     </g>\n    </g>\n    <g id=\"ytick_11\">\n     <g id=\"line2d_15\"/>\n     <g id=\"text_15\">\n      <!-- 0.6 -->\n      <defs>\n       <path d=\"M 51.21875 22.515625 \nQ 51.21875 17.328125 49.78125 13 \nQ 48.34375 8.6875 45.53125 5.578125 \nQ 42.71875 2.484375 38.5625 0.75 \nQ 34.421875 -0.984375 29 -0.984375 \nQ 23 -0.984375 18.5 1.3125 \nQ 14.015625 3.609375 11.03125 7.921875 \nQ 8.0625 12.25 6.5625 18.53125 \nQ 5.078125 24.8125 5.078125 32.8125 \nQ 5.078125 42 6.765625 48.921875 \nQ 8.453125 55.859375 11.625 60.5 \nQ 14.796875 65.140625 19.359375 67.484375 \nQ 23.921875 69.828125 29.6875 69.828125 \nQ 33.203125 69.828125 36.28125 69.09375 \nQ 39.359375 68.359375 41.875 66.71875 \nQ 44.390625 65.09375 46.28125 62.40625 \nQ 48.1875 59.71875 49.3125 55.8125 \nL 40.921875 54.296875 \nQ 39.546875 58.734375 36.546875 60.71875 \nQ 33.546875 62.703125 29.59375 62.703125 \nQ 25.984375 62.703125 23.046875 60.984375 \nQ 20.125 59.28125 18.0625 55.875 \nQ 16.015625 52.484375 14.90625 47.359375 \nQ 13.8125 42.234375 13.8125 35.40625 \nQ 16.21875 39.84375 20.5625 42.15625 \nQ 24.90625 44.484375 30.515625 44.484375 \nQ 35.203125 44.484375 39.015625 42.96875 \nQ 42.828125 41.453125 45.53125 38.59375 \nQ 48.25 35.75 49.734375 31.671875 \nQ 51.21875 27.59375 51.21875 22.515625 \nz\nM 42.28125 22.125 \nQ 42.28125 25.6875 41.40625 28.5625 \nQ 40.53125 31.453125 38.765625 33.46875 \nQ 37.015625 35.5 34.421875 36.59375 \nQ 31.84375 37.703125 28.421875 37.703125 \nQ 26.03125 37.703125 23.578125 36.984375 \nQ 21.140625 36.28125 19.15625 34.6875 \nQ 17.1875 33.109375 15.9375 30.515625 \nQ 14.703125 27.9375 14.703125 24.21875 \nQ 14.703125 20.40625 15.671875 17.109375 \nQ 16.65625 13.8125 18.484375 11.375 \nQ 20.3125 8.9375 22.890625 7.515625 \nQ 25.484375 6.109375 28.71875 6.109375 \nQ 31.890625 6.109375 34.40625 7.203125 \nQ 36.921875 8.296875 38.671875 10.375 \nQ 40.4375 12.453125 41.359375 15.421875 \nQ 42.28125 18.40625 42.28125 22.125 \nz\n\" id=\"LiberationSans-54\"/>\n      </defs>\n      <g style=\"fill:#262626;\" transform=\"translate(464.5015 173.032867)scale(0.1 -0.1)\">\n       <use xlink:href=\"#LiberationSans-48\"/>\n       <use x=\"55.615234\" xlink:href=\"#LiberationSans-46\"/>\n       <use x=\"83.398438\" xlink:href=\"#LiberationSans-54\"/>\n      </g>\n     </g>\n    </g>\n    <g id=\"ytick_12\">\n     <g id=\"line2d_16\"/>\n     <g id=\"text_16\">\n      <!-- 0.8 -->\n      <defs>\n       <path d=\"M 51.265625 19.1875 \nQ 51.265625 14.796875 49.875 11.109375 \nQ 48.484375 7.421875 45.625 4.734375 \nQ 42.78125 2.046875 38.328125 0.53125 \nQ 33.890625 -0.984375 27.828125 -0.984375 \nQ 21.78125 -0.984375 17.359375 0.53125 \nQ 12.9375 2.046875 10.03125 4.703125 \nQ 7.125 7.375 5.734375 11.0625 \nQ 4.34375 14.75 4.34375 19.09375 \nQ 4.34375 22.859375 5.484375 25.78125 \nQ 6.640625 28.71875 8.5625 30.828125 \nQ 10.5 32.953125 12.96875 34.25 \nQ 15.4375 35.546875 18.0625 35.984375 \nL 18.0625 36.1875 \nQ 15.1875 36.859375 12.90625 38.375 \nQ 10.640625 39.890625 9.09375 42.015625 \nQ 7.5625 44.140625 6.75 46.71875 \nQ 5.953125 49.3125 5.953125 52.203125 \nQ 5.953125 55.8125 7.34375 59 \nQ 8.734375 62.203125 11.46875 64.625 \nQ 14.203125 67.046875 18.25 68.4375 \nQ 22.3125 69.828125 27.640625 69.828125 \nQ 33.25 69.828125 37.375 68.40625 \nQ 41.5 67 44.203125 64.578125 \nQ 46.921875 62.15625 48.234375 58.9375 \nQ 49.5625 55.71875 49.5625 52.09375 \nQ 49.5625 49.265625 48.75 46.671875 \nQ 47.953125 44.09375 46.40625 41.96875 \nQ 44.875 39.84375 42.59375 38.34375 \nQ 40.328125 36.859375 37.359375 36.28125 \nL 37.359375 36.078125 \nQ 40.328125 35.59375 42.859375 34.296875 \nQ 45.40625 33.015625 47.265625 30.890625 \nQ 49.125 28.765625 50.1875 25.828125 \nQ 51.265625 22.90625 51.265625 19.1875 \nz\nM 40.4375 51.609375 \nQ 40.4375 54.203125 39.765625 56.34375 \nQ 39.109375 58.5 37.59375 60.03125 \nQ 36.078125 61.578125 33.640625 62.421875 \nQ 31.203125 63.28125 27.640625 63.28125 \nQ 24.171875 63.28125 21.78125 62.421875 \nQ 19.390625 61.578125 17.84375 60.03125 \nQ 16.3125 58.5 15.625 56.34375 \nQ 14.9375 54.203125 14.9375 51.609375 \nQ 14.9375 49.5625 15.46875 47.40625 \nQ 16.015625 45.265625 17.421875 43.5 \nQ 18.84375 41.75 21.328125 40.625 \nQ 23.828125 39.5 27.734375 39.5 \nQ 31.890625 39.5 34.40625 40.625 \nQ 36.921875 41.75 38.25 43.5 \nQ 39.59375 45.265625 40.015625 47.40625 \nQ 40.4375 49.5625 40.4375 51.609375 \nz\nM 42.140625 20.015625 \nQ 42.140625 22.515625 41.453125 24.828125 \nQ 40.765625 27.15625 39.109375 28.9375 \nQ 37.453125 30.71875 34.640625 31.8125 \nQ 31.84375 32.90625 27.640625 32.90625 \nQ 23.78125 32.90625 21.0625 31.8125 \nQ 18.359375 30.71875 16.671875 28.90625 \nQ 14.984375 27.09375 14.203125 24.71875 \nQ 13.421875 22.359375 13.421875 19.828125 \nQ 13.421875 16.65625 14.203125 14.03125 \nQ 14.984375 11.421875 16.6875 9.546875 \nQ 18.40625 7.671875 21.1875 6.640625 \nQ 23.96875 5.609375 27.9375 5.609375 \nQ 31.9375 5.609375 34.671875 6.640625 \nQ 37.40625 7.671875 39.0625 9.546875 \nQ 40.71875 11.421875 41.421875 14.078125 \nQ 42.140625 16.75 42.140625 20.015625 \nz\n\" id=\"LiberationSans-56\"/>\n      </defs>\n      <g style=\"fill:#262626;\" transform=\"translate(464.5015 107.278808)scale(0.1 -0.1)\">\n       <use xlink:href=\"#LiberationSans-48\"/>\n       <use x=\"55.615234\" xlink:href=\"#LiberationSans-46\"/>\n       <use x=\"83.398438\" xlink:href=\"#LiberationSans-56\"/>\n      </g>\n     </g>\n    </g>\n   </g>\n   <image height=\"299\" id=\"imageff0794e34b\" transform=\"scale(1 -1)translate(0 -299)\" width=\"15\" x=\"443\" xlink:href=\"data:image/png;base64,\niVBORw0KGgoAAAANSUhEUgAAAA8AAAErCAYAAAABnNneAAAABHNCSVQICAgIfAhkiAAAAWFJREFUeJztm8GNw0AMA3cNP66c9JX+37ka7AE8GFj+E8ySoqQ1nP33+f7Wzedc+7iLXefam4Al5vu0652CjVUPMxPwIf1salWxPKPMY9XD4GmAzzFvC0ytAmDtzCKYCMasigqmqS2m6oWCVRvgqH0RPA3wSfA7G+AwX3mYVQe5uTcF684qBI6qLTGPVRnmrlVFtcVZ5Ql2NK0Csz1r1QY7MxKsmqpobWt5hsFAYKsZRGcVDQYAM8HuE1fzLC5xTcFOolg1VV4kITMAe7MKVhhhFjcDBI42QMKs7dtaM1DXCsTcbICgwqqpMhtg8xZLwNVlnTBHX+NFfdbObL7GY8wATCaG9/bRnFWeYMndk74DLJaneE0QZxUBe8OdfTf0Qquagnln7jZAAG4WyaTqOjMAT6ougptFMqm6zgzAk6onmdcLU+Xdq2CeCbiZqqZg0Vllfl2bbL3mP3KTgnln9mr7H6/jCEJx9UtRAAAAAElFTkSuQmCC\" y=\"-66\"/>\n   <g id=\"patch_8\">\n    <path d=\"M 442.5525 364.86125 \nL 442.5525 363.693359 \nL 442.5525 67.049141 \nL 442.5525 65.88125 \nL 457.5015 65.88125 \nL 457.5015 67.049141 \nL 457.5015 363.693359 \nL 457.5015 364.86125 \nz\n\" style=\"fill:none;\"/>\n   </g>\n  </g>\n </g>\n <defs>\n  <clipPath id=\"p2e4f645cf0\">\n   <rect height=\"298.98\" width=\"357.12\" x=\"63.1125\" y=\"65.88125\"/>\n  </clipPath>\n  <clipPath id=\"ped45131d6d\">\n   <rect height=\"298.98\" width=\"14.949\" x=\"442.5525\" y=\"65.88125\"/>\n  </clipPath>\n </defs>\n</svg>\n"
          },
          "metadata": {
            "tags": []
          }
        }
      ]
    }
  ]
}